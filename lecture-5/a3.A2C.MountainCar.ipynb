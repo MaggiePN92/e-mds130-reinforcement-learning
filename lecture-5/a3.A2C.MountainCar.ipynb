{
 "cells": [
  {
   "cell_type": "markdown",
   "metadata": {},
   "source": [
    "## Assignment 3 - Solving the MountainCar problem using Actor-Critic Models\n",
    "\n",
    "**Lecture 5** introduced you to the Actor Critic family of models: A2C, DA2C, NDA2C\n",
    "\n",
    "In this assignment, you need to use the DA2C and NDA2C models to solve for OpenAI gym MountainCar problem (https://gym.openai.com/envs/MountainCar-v0/)\n",
    "\n",
    "```Note1```: MountainCar-v0 defines \"solving\" as getting average reward of -110.0 over 100 consecutive trials. (https://github.com/openai/gym/wiki/MountainCar-v0)\n",
    "\n",
    "```Note2```: Use transformed rewards if need be.\n",
    "\n",
    "### A. Tasks\n",
    "In this assignment, you are required to solve for the **OpenAI gym - MountainCar-v0** problem using **A2C Models**: DA2C and NDA2C. \n",
    "Your report should compare the scores from using both models. Please input your code for the DA2C and NDA2C into ```B: Answer-DA2C``` and ```C: Answer-NDA2C``` respectively.\n",
    "\n",
    "```You should write and test your solutions as python files rather than jupyter notebooks as multi processing in jupyter notebooks may generate issues. Once you have written and tested your code, **COPY** it into the relevant sections of this jupyter notebook and upload it to canvas.```\n",
    "\n",
    "- Your code should consist of a deep ANN model for both the actor and critic. Use your own judgment on the architecture and hyperparameters of the network. \n",
    "- A training loop to learn from the environment\n",
    "- After training, test the model on a fresh instance of the environment. Report on the score received after one episode / game.\n",
    "- Report on the training score / reward over the trained episodes as graph\n",
    "- Report on the test score, is the problem solved?\n",
    "\n",
    "\n",
    "```Note3```: If part of your code is not working or you have difficulty getting an optimal solution, write your intuition/explanation of what you wanted to achieve as comments prior to that part of the code/function\n",
    "\n"
   ]
  },
  {
   "cell_type": "markdown",
   "metadata": {},
   "source": [
    "### B. Answer-DA2C"
   ]
  },
  {
   "cell_type": "code",
   "execution_count": null,
   "metadata": {},
   "outputs": [],
   "source": [
    "# <<YOUR CODE HERE>>"
   ]
  },
  {
   "cell_type": "markdown",
   "metadata": {},
   "source": [
    "### C. Answer-NDA2C"
   ]
  },
  {
   "cell_type": "code",
   "execution_count": null,
   "metadata": {},
   "outputs": [],
   "source": [
    "# <<YOUR CODE HERE>>"
   ]
  }
 ],
 "metadata": {
  "interpreter": {
   "hash": "717da6ac20e0cbce75f9f52f38d5d9b3b17ce68ecc32f4534b795d5d434b1239"
  },
  "kernelspec": {
   "display_name": "Python 3.10.4 64-bit (windows store)",
   "language": "python",
   "name": "python3"
  },
  "language_info": {
   "codemirror_mode": {
    "name": "ipython",
    "version": 3
   },
   "file_extension": ".py",
   "mimetype": "text/x-python",
   "name": "python",
   "nbconvert_exporter": "python",
   "pygments_lexer": "ipython3",
   "version": "3.10.4"
  },
  "orig_nbformat": 4
 },
 "nbformat": 4,
 "nbformat_minor": 2
}
