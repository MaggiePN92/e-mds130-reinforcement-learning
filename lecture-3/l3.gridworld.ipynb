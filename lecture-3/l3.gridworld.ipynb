{
 "cells": [
  {
   "cell_type": "code",
   "execution_count": 1,
   "metadata": {},
   "outputs": [],
   "source": [
    "from matplotlib import pyplot as plt\n",
    "from IPython.display import display, clear_output\n",
    "\n",
    "import re\n",
    "import copy\n",
    "import numpy as np\n",
    "import torch\n",
    "\n",
    "from collections import deque, namedtuple\n",
    "\n",
    "import random\n",
    "\n",
    "# Set the seed values\n",
    "torch.seed = 1234\n",
    "np.random.seed(torch.seed)\n",
    "random.seed(torch.seed)\n"
   ]
  },
  {
   "cell_type": "markdown",
   "metadata": {},
   "source": [
    "### GridWorld Environment"
   ]
  },
  {
   "cell_type": "code",
   "execution_count": 2,
   "metadata": {},
   "outputs": [],
   "source": [
    "class GridWorld():\n",
    "    def __init__(self, d=4, mode='static'):\n",
    "        if d < 4:\n",
    "            raise Exception(\"Minimum dimension should be equal to 4!\")\n",
    "        \n",
    "        if mode not in ['static', 'player', 'random']:\n",
    "            raise Exception(\"The mode should be either static, player or random.\")\n",
    "        self.mode = mode\n",
    "        self.d = d\n",
    "        # We set the max number of moves that can be played in a game\n",
    "        self.maxMoves = self.d**3\n",
    "        # Max reward positive or negative for win or loss\n",
    "        self.artifacts = ['_', '|', '+', '-', 'P'] \n",
    "        self.artifactsMap = {'_': 0, '|': 1, '+': 2, '-': 3, 'P': 4}       \n",
    "        self.rewardMap = {'_': -1, '+': 100, '-': -100}\n",
    "        self.actionSpace = {'up': (-1, 0), 'right': (0, 1), 'down': (1, 0), 'left': (0, -1)}               \n",
    "        \n",
    "        # Initialize the environment\n",
    "        _ = self.reset()\n",
    "\n",
    "\n",
    "        # Set the params for rendering\n",
    "        self.renderprops = {}\n",
    "        self.renderprops['left'], self.renderprops['width'] = .25, .5\n",
    "        self.renderprops['bottom'], self.renderprops['height'] = .25, .5\n",
    "        self.renderprops['right'] = self.renderprops['left'] + self.renderprops['width']\n",
    "        self.renderprops['top'] = self.renderprops['bottom'] + self.renderprops['height']\n",
    "\n",
    "        self.renderprops['fig'], self.renderprops['ax'] = plt.subplots(figsize=(1,1))       \n",
    "        # We dont want to show the figure at this point \n",
    "        plt.close()\n",
    "\n",
    "    # Transform the grid to a multi-dimensional array\n",
    "    def transformGrid(self):\n",
    "        grid = []\n",
    "        artifacts = ['|', '+', '-', 'P']\n",
    "        for a in artifacts:\n",
    "            plane = np.zeros_like(self.grid, dtype=np.int8)\n",
    "            for b in artifacts:\n",
    "                if a == b:\n",
    "                    plane = np.where(self.grid == b, 1, plane)\n",
    "            grid.append(plane)\n",
    "        return np.array(grid)\n",
    "\n",
    "    # Reset to initial state\n",
    "    def reset(self):\n",
    "        # Set the current move\n",
    "        self.moveCount = 0\n",
    "         # Create a empty grid with all places as open\n",
    "        self.grid = np.tile(np.array(self.artifacts[0]), (self.d, self.d))\n",
    "\n",
    "        # If the mode is static, set all positions as constant\n",
    "        if self.mode == 'static':\n",
    "            # Update the grid with wall, win, loss and player positons\n",
    "            self.grid[2, 2] = self.artifacts[1] # Wall\n",
    "            self.grid[0, 0] = self.artifacts[2] # Win\n",
    "            self.grid[0, 3] = self.artifacts[3] # Loss\n",
    "            self.grid[3, 2] = self.artifacts[4] # Player\n",
    "\n",
    "            # record the player, win and loss locations\n",
    "            self.wallPos = np.array([2, 2])\n",
    "            self.winPos = np.array([0, 0])\n",
    "            self.lossPos = np.array([0, 3])\n",
    "            self.playerPos = np.array([3, 2])\n",
    "        # If mode is player, set the player position to random\n",
    "        elif self.mode == 'player':\n",
    "            # Update the grid with wall, win and loss locations\n",
    "            self.grid[2, 2] = self.artifacts[1] # Wall\n",
    "            self.grid[0, 0] = self.artifacts[2] # Win\n",
    "            self.grid[0, 3] = self.artifacts[3] # Loss\n",
    "\n",
    "            # record the win and loss locations    \n",
    "            self.wallPos = np.array([2, 2])        \n",
    "            self.winPos = np.array([0, 0])\n",
    "            self.lossPos = np.array([0, 3])\n",
    "\n",
    "            # Set the playerPos to random            \n",
    "            self.playerPos = np.random.choice(self.d, size=2)            \n",
    "            # Ensure that the player position is not the same as the win, loss and wall positions\n",
    "            while (self.playerPos == self.winPos).all() or (self.playerPos == self.lossPos).all() or (self.playerPos == self.wallPos).all():\n",
    "                self.playerPos = np.random.choice(self.d, size=2)\n",
    "            \n",
    "            # Update the grid with the player position\n",
    "            self.grid[self.playerPos[0], self.playerPos[1]] = self.artifacts[4] # Player            \n",
    "        else:\n",
    "            # Set the playerPos to random            \n",
    "            self.playerPos = np.random.choice(self.d, size=2)  \n",
    "            \n",
    "            # Set the winPos to random\n",
    "            self.winPos = np.random.choice(self.d, size=2)  \n",
    "            # Ensure that the win position is not the same as the player position\n",
    "            while (self.winPos == self.playerPos).all():\n",
    "                self.winPos = np.random.choice(self.d, size=2)\n",
    "\n",
    "            # Set the lossPos to random\n",
    "            self.lossPos = np.random.choice(self.d, size=2)  \n",
    "            # Ensure that the loss position is not the same as the player or win position\n",
    "            while (self.lossPos == self.playerPos).all() or (self.lossPos == self.winPos).all():\n",
    "                self.lossPos = np.random.choice(self.d, size=2)\n",
    "            \n",
    "            # Set the wallPoss to random\n",
    "            self.wallPos = np.random.choice(self.d, size=2)  \n",
    "            # Ensure that the wall position is not the same as the player or win or loss position\n",
    "            while (self.wallPos == self.playerPos).all() or (self.wallPos == self.winPos).all() or (self.wallPos == self.lossPos).all():\n",
    "                self.wallPos = np.random.choice(self.d, size=2)\n",
    "            \n",
    "            # Update the grid with the positions\n",
    "            self.grid[self.wallPos[0], self.wallPos[1]] = self.artifacts[1] # Wall\n",
    "            self.grid[self.winPos[0], self.winPos[1]] = self.artifacts[2] # Win\n",
    "            self.grid[self.lossPos[0], self.lossPos[1]] = self.artifacts[3] # Loss\n",
    "            self.grid[self.playerPos[0], self.playerPos[1]] = self.artifacts[4] # Player\n",
    "\n",
    "        return self.transformGrid().flatten()\n",
    "\n",
    "    # Perform an action, modify the state, get the new state, reward and status information\n",
    "    def step(self, action):\n",
    "        if action not in self.actionSpace.keys():\n",
    "            raise Exception('Action not present in action space')\n",
    "\n",
    "        # Increment the moveCount\n",
    "        self.moveCount += 1\n",
    "        info = ''\n",
    "        # Check if its already game over.\n",
    "        done = True if (self.playerPos == self.winPos).all() or (self.playerPos == self.lossPos).all() else False\n",
    "        reward = -1\n",
    "\n",
    "        x, y = copy.copy(self.playerPos) + self.actionSpace[action]\n",
    "        if self.moveCount < self.maxMoves:\n",
    "            if  not done:                                    \n",
    "                # Check that we are not at the edges\n",
    "                if x >= 0 and x < self.d and y >= 0 and y < self.d:\n",
    "                    # We allow the player to transition to the new position if the new postion doesnot contain a wall\n",
    "                    if self.grid[x, y] != '|':\n",
    "                        # record the reward the player will receive after transitioning to this new position\n",
    "                        reward = self.rewardMap[self.grid[x, y]]\n",
    "                        # Check if its game won or over\n",
    "                        if self.grid[x, y] == '+' or self.grid[x, y] == '-':\n",
    "                            done = True\n",
    "                        # Update the grid with this new transition                             \n",
    "                        self.grid[x, y] = 'P'\n",
    "                        self.grid[self.playerPos[0], self.playerPos[1]] = '_'\n",
    "                        \n",
    "                        # Update the player position\n",
    "                        self.playerPos = np.array([x, y])\n",
    "        else:\n",
    "            done = True\n",
    "\n",
    "        # Return the next state, reward received, is done flag and any other info                \n",
    "        return self.transformGrid().flatten(), reward, done, info\n",
    "\n",
    "    # Renders the game to the screen\n",
    "    def render(self):\n",
    "        self.renderprops['ax'].cla()\n",
    "        self.renderprops['ax'].axis('off')\n",
    "        self.renderprops['ax'].text(0.5*(self.renderprops['left']+self.renderprops['right']), 0.5*(self.renderprops['bottom']+self.renderprops['top']), re.sub(\"[\\'\\[\\]]\", '', np.array2string(self.grid)),\n",
    "            horizontalalignment='center',\n",
    "            verticalalignment='center',\n",
    "            fontsize=20, color='red')        \n",
    "        display(self.renderprops['fig'])\n",
    "\n",
    "        clear_output(wait = True)\n",
    "        plt.pause(0.5)"
   ]
  },
  {
   "cell_type": "markdown",
   "metadata": {},
   "source": [
    "### GridWorld Agent"
   ]
  },
  {
   "cell_type": "code",
   "execution_count": 38,
   "metadata": {},
   "outputs": [],
   "source": [
    "import torch\n",
    "from torch import nn, optim\n",
    "class Agent():\n",
    "    def __init__(self, envDimension=4, learningRate=1e-3, gamma=0.9, maxEpsilon = 1, minEpsilon=0.1, device='cpu'):\n",
    "        # Store the params\n",
    "        self.device = device\n",
    "        self.envDimension = envDimension\n",
    "        self.learningRate = learningRate\n",
    "        self.gamma = gamma\n",
    "        self.maxEpsilon = maxEpsilon\n",
    "        self.minEpsilon = minEpsilon\n",
    "        # Get the available list of actions that can be performed in the game\n",
    "        self.availableActions = list(GridWorld(self.envDimension, mode='static').actionSpace.keys())\n",
    "                        \n",
    "    \n",
    "    def createModel(self):        \n",
    "        model = torch.nn.Sequential(\n",
    "        # Input -> Hidden1\n",
    "        torch.nn.Linear(64, 150),\n",
    "        torch.nn.ReLU(),\n",
    "        # Hidden1 -> Hidden2\n",
    "        torch.nn.Linear(150, 100),\n",
    "        torch.nn.ReLU(),\n",
    "        # Hidden2 -> Output\n",
    "        torch.nn.Linear(100, 4))\n",
    "\n",
    "        # Add the model\n",
    "        self.model = model.to(self.device)\n",
    "        # We also create copy of the model as a target model. We use it if OET algo is used\n",
    "        self.targetmodel = copy.deepcopy(self.model)\n",
    "        self.targetmodel.load_state_dict(self.model.state_dict())\n",
    "        \n",
    "        return self.model, optim.Adam(model.parameters(), lr = self.learningRate), nn.MSELoss()\n",
    "\n",
    "    def backward(self, loss, optimizer):\n",
    "        # Backprop                    \n",
    "        optimizer.zero_grad()\n",
    "        loss.backward()\n",
    "        optimizer.step()\n",
    "\n",
    "    def train(self, algo, mode='static', epochs=1000, memSize=1000, batchSize=200, syncFreq=500):                 \n",
    "        if algo.upper() not in ['Q', 'QE', 'QET']:            \n",
    "            raise Exception('The algorithm used for training should be Q: for Q Learning, QE: for Experiance Replay and QET: for Experiance Replay with a Target Network')\n",
    "        # Create the model to train\n",
    "        model, optimizer, lossfun = self.createModel()\n",
    "        # Set the epsilon value\n",
    "        epsilon = self.maxEpsilon\n",
    "        # Store the losses. We will plot it later\n",
    "        losses = []\n",
    "        # Named tuple to store the experiences if we are using experiance replay\n",
    "        Experience = namedtuple('buffer', field_names=['state', 'action', 'reward', 'done', 'nextState'])\n",
    "        # We also need a replay buffer for experiance replay\n",
    "        replay = deque(maxlen=memSize)\n",
    "\n",
    "        # The sync of params to the target network is controlled via a variable. Will be used only if QET algo is applied\n",
    "        targetNetworkSyncController = 0\n",
    "        for e in range(epochs):            \n",
    "            # Instantiate the environment for the current epoch\n",
    "            env = GridWorld(self.envDimension, mode=mode)\n",
    "            # Reset the environment and convert it to a tensor.\n",
    "            state = torch.from_numpy(env.reset()).to(self.device).float()\n",
    "\n",
    "            # Set the game status to not done\n",
    "            done = False            \n",
    "            # Play until the game doesnot end\n",
    "            while not done:\n",
    "                targetNetworkSyncController += 1\n",
    "                Q = model(state)\n",
    "                Q_ = Q.data.cpu().numpy()\n",
    "                action_ = \"\"\n",
    "                if(np.random.random() < epsilon):\n",
    "                    # Choose one of the valid options            \n",
    "                    action_ = np.random.choice(len(self.availableActions))\n",
    "                else:                                     \n",
    "                    action_ = np.argmax(Q_)\n",
    "\n",
    "                # Step through the environment\n",
    "                nextState_, reward, done, _ = env.step(self.availableActions[action_])\n",
    "                # Evaluate the Q Vals for the next state\n",
    "                nextState = torch.from_numpy(nextState_).to(self.device).float()\n",
    "                \n",
    "                # Add to memory, will be used only if we are using QE or QET algo\n",
    "                replay.append(Experience(state, action_, reward, done, nextState))\n",
    "\n",
    "                state = nextState\n",
    "                if algo in ['QE', 'QET']:\n",
    "                    if len(replay) > batchSize:\n",
    "                        miniBatchIndices = np.random.choice(len(replay), batchSize, replace=False)                                                                                              \n",
    "                        stateBatch = torch.stack([ replay[idx].state  for idx in miniBatchIndices]).to(self.device)\n",
    "                        actionBatch = torch.Tensor([ replay[idx].action  for idx in miniBatchIndices]).to(self.device)        \n",
    "                        rewardBatch = torch.Tensor([ replay[idx].reward  for idx in miniBatchIndices]).to(self.device)                        \n",
    "                        doneBatch = torch.Tensor([ replay[idx].done  for idx in miniBatchIndices]).to(self.device)\n",
    "                        nextStateBatch = torch.stack([ replay[idx].nextState  for idx in miniBatchIndices]).to(self.device)                   \n",
    "                        \n",
    "                        QExp = model(stateBatch)  \n",
    "                        \n",
    "                        nextQExp = None\n",
    "                        if algo == 'QE': # If only experiance replay is used\n",
    "                            with torch.no_grad():\n",
    "                                nextQExp = model(nextStateBatch)\n",
    "                        else: # If experiance replay with a target network is used (QET)\n",
    "                            with torch.no_grad():\n",
    "                                # We use the target network to get the maximum Q value for the next state\n",
    "                                nextQExp = self.targetmodel(nextStateBatch) \n",
    "                        \n",
    "                        # Expected State Action Value                        \n",
    "                        YHat = rewardBatch + self.gamma * ((1 - doneBatch) * torch.max(nextQExp, dim=1)[0])                        \n",
    "                        \n",
    "                        # Current State Action Value\n",
    "                        Y = QExp.gather(dim=1, index=actionBatch.long().unsqueeze(dim=1)).squeeze()\n",
    "                        \n",
    "                        # Backprop\n",
    "                        loss = lossfun(Y, YHat)\n",
    "                        losses.append(loss.item())\n",
    "                        self.backward(loss, optimizer)       \n",
    "\n",
    "                        # Copies the main model parameters to the target network\n",
    "                        if targetNetworkSyncController % syncFreq == 0:\n",
    "                            self.targetmodel.load_state_dict(self.model.state_dict())                                 \n",
    "                else: # IF we are using Q algo\n",
    "                    with torch.no_grad():\n",
    "                        nextQ = model(nextState)                        \n",
    "\n",
    "                    # Max state action value we will receive if the choosen action is taken in the current step\n",
    "                    maxNextQ = torch.max(nextQ)                    \n",
    "\n",
    "                    # Estimated future rewards\n",
    "                    if not done:\n",
    "                        YHat = reward + (self.gamma * maxNextQ)\n",
    "                    else:\n",
    "                        YHat = reward\n",
    "                    \n",
    "                    YHat = torch.Tensor([YHat]).detach().to(self.device)                                       \n",
    "\n",
    "                    # Current state action value\n",
    "                    Y = Q.squeeze()[action_]            \n",
    "                                \n",
    "                    # Backprop\n",
    "                    loss = lossfun(Y, YHat)\n",
    "                    losses.append(loss.item())\n",
    "                    self.backward(loss, optimizer,)                                    \n",
    "                             \n",
    "            # Adapt the epsilon value\n",
    "            if epsilon > self.minEpsilon:\n",
    "                epsilon -= (1/1000)        \n",
    "\n",
    "            # Print the progress\n",
    "            if e % np.round(epochs/10) == 0:       \n",
    "                error = np.mean(losses)\n",
    "                print('epoch: {:d}, error: {:.2f}'.format(e, error))\n",
    "        plt.plot(losses)\n",
    "\n",
    "    # A function to test the trained model\n",
    "    def test(self, numGames=10, mode='static', display=False):\n",
    "        # Number of games to test on    \n",
    "        numWins = 0\n",
    "        numLoss = 0\n",
    "\n",
    "        for g in range(numGames):        \n",
    "            # Testing\n",
    "            testEnv = GridWorld(4, mode=mode)        \n",
    "            state = torch.from_numpy(testEnv.reset()).to(self.device).float()\n",
    "                        \n",
    "            m = 0        \n",
    "            done = False\n",
    "            maxMoves = 10\n",
    "            while not done and maxMoves > 0:\n",
    "                maxMoves -= 1\n",
    "                Q = self.model(state)\n",
    "                Q_ = Q.data.cpu().numpy()                        \n",
    "                # Set the invalid actions qval to neg. inf.                               \n",
    "                action_ = np.argmax(Q_)    \n",
    "                action = self.availableActions[action_]\n",
    "                \n",
    "                nextState_, reward, done, _ = testEnv.step(action)    \n",
    "                state = torch.from_numpy(nextState_).to(self.device).float()\n",
    "                \n",
    "                m += 1         \n",
    "                \n",
    "                if display: # Render the moves to screen\n",
    "                    testEnv.render() # Render it\n",
    "                else:# If rendering is off, we print some status\n",
    "                    print('GAME: {}. Move #: {}; Took action: {}; Reward received: {}'.format(g+1, m, action, reward))                    \n",
    "                \n",
    "                if done:                \n",
    "                    # If the end reward is 100, we have a win\n",
    "                    if reward == 100:\n",
    "                        numWins += 1\n",
    "                    if reward == -100:\n",
    "                        numLoss += 1\n",
    "            \n",
    "        print('Total games played={}. Of which {} are won, {} are lost, and {} were abandoned'.format(numGames, numWins, numLoss, numGames - numWins - numLoss))"
   ]
  },
  {
   "cell_type": "code",
   "execution_count": 39,
   "metadata": {},
   "outputs": [
    {
     "name": "stdout",
     "output_type": "stream",
     "text": [
      "Is CUDA present: True\n",
      "If you would like to use the GPU, pass the param device=\"cuda\" to your Agent constructor\n"
     ]
    }
   ],
   "source": [
    "# Check if you have a GPU and that cuda is configured\n",
    "isGPU = torch.cuda.is_available()\n",
    "print('Is CUDA present:', isGPU)\n",
    "if isGPU:\n",
    "    print('If you would like to use the GPU, pass the param device=\"cuda\" to your Agent constructor')"
   ]
  },
  {
   "cell_type": "markdown",
   "metadata": {},
   "source": [
    "### Q-Learning"
   ]
  },
  {
   "cell_type": "code",
   "execution_count": 40,
   "metadata": {},
   "outputs": [
    {
     "name": "stderr",
     "output_type": "stream",
     "text": [
      "C:\\Users\\chakr\\AppData\\Local\\Packages\\PythonSoftwareFoundation.Python.3.10_qbz5n2kfra8p0\\LocalCache\\local-packages\\Python310\\site-packages\\torch\\nn\\modules\\loss.py:529: UserWarning: Using a target size (torch.Size([1])) that is different to the input size (torch.Size([])). This will likely lead to incorrect results due to broadcasting. Please ensure they have the same size.\n",
      "  return F.mse_loss(input, target, reduction=self.reduction)\n"
     ]
    },
    {
     "name": "stdout",
     "output_type": "stream",
     "text": [
      "epoch: 0, error: 419.55\n",
      "epoch: 100, error: 260.26\n",
      "epoch: 200, error: 196.91\n",
      "epoch: 300, error: 173.24\n",
      "epoch: 400, error: 158.29\n",
      "epoch: 500, error: 144.86\n",
      "epoch: 600, error: 134.25\n",
      "epoch: 700, error: 124.21\n",
      "epoch: 800, error: 117.14\n",
      "epoch: 900, error: 111.67\n"
     ]
    },
    {
     "data": {
      "image/png": "[encoded data removed]",
      "text/plain": [
       "<Figure size 432x288 with 1 Axes>"
      ]
     },
     "metadata": {
      "needs_background": "light"
     },
     "output_type": "display_data"
    }
   ],
   "source": [
    "# Create the agent\n",
    "agent = Agent()\n",
    "# Train the agent\n",
    "agent.train(algo='Q')"
   ]
  },
  {
   "cell_type": "code",
   "execution_count": 42,
   "metadata": {},
   "outputs": [
    {
     "name": "stdout",
     "output_type": "stream",
     "text": [
      "Total games played=1. Of which 1 are won, 0 are lost, and 0 were abandoned\n"
     ]
    }
   ],
   "source": [
    "# Test on static mode\n",
    "agent.test(numGames=1, display=True)"
   ]
  },
  {
   "cell_type": "code",
   "execution_count": 43,
   "metadata": {},
   "outputs": [
    {
     "name": "stdout",
     "output_type": "stream",
     "text": [
      "Total games played=10. Of which 10 are won, 0 are lost, and 0 were abandoned\n"
     ]
    }
   ],
   "source": [
    "# Test on player mode\n",
    "agent.test(numGames=10, mode='player', display=True)"
   ]
  },
  {
   "cell_type": "code",
   "execution_count": 44,
   "metadata": {},
   "outputs": [
    {
     "name": "stdout",
     "output_type": "stream",
     "text": [
      "Total games played=10. Of which 1 are won, 0 are lost, and 9 were abandoned\n"
     ]
    }
   ],
   "source": [
    "# Test on random mode\n",
    "agent.test(numGames=10, mode='random', display=True)"
   ]
  },
  {
   "cell_type": "markdown",
   "metadata": {},
   "source": [
    "### Q-Learning with Experience Replay"
   ]
  },
  {
   "cell_type": "code",
   "execution_count": 45,
   "metadata": {},
   "outputs": [
    {
     "name": "stderr",
     "output_type": "stream",
     "text": [
      "C:\\Users\\chakr\\AppData\\Local\\Packages\\PythonSoftwareFoundation.Python.3.10_qbz5n2kfra8p0\\LocalCache\\local-packages\\Python310\\site-packages\\numpy\\core\\fromnumeric.py:3474: RuntimeWarning: Mean of empty slice.\n",
      "  return _methods._mean(a, axis=axis, dtype=dtype,\n",
      "C:\\Users\\chakr\\AppData\\Local\\Packages\\PythonSoftwareFoundation.Python.3.10_qbz5n2kfra8p0\\LocalCache\\local-packages\\Python310\\site-packages\\numpy\\core\\_methods.py:189: RuntimeWarning: invalid value encountered in double_scalars\n",
      "  ret = ret.dtype.type(ret / rcount)\n"
     ]
    },
    {
     "name": "stdout",
     "output_type": "stream",
     "text": [
      "epoch: 0, error: nan\n",
      "epoch: 500, error: 85.95\n",
      "epoch: 1000, error: 47.35\n",
      "epoch: 1500, error: 36.46\n",
      "epoch: 2000, error: 32.15\n"
     ]
    },
    {
     "ename": "KeyboardInterrupt",
     "evalue": "",
     "output_type": "error",
     "traceback": [
      "\u001b[1;31m---------------------------------------------------------------------------\u001b[0m",
      "\u001b[1;31mKeyboardInterrupt\u001b[0m                         Traceback (most recent call last)",
      "\u001b[1;32me:\\ubuntu-data\\dev\\E-MDS130-1-22V\\code\\l3.gridworld.ipynb Cell 13'\u001b[0m in \u001b[0;36m<cell line: 4>\u001b[1;34m()\u001b[0m\n\u001b[0;32m      <a href='vscode-notebook-cell:/e%3A/ubuntu-data/dev/E-MDS130-1-22V/code/l3.gridworld.ipynb#ch0000012?line=1'>2</a>\u001b[0m agent \u001b[39m=\u001b[39m Agent(minEpsilon\u001b[39m=\u001b[39m\u001b[39m0.01\u001b[39m, device\u001b[39m=\u001b[39m\u001b[39m'\u001b[39m\u001b[39mcuda\u001b[39m\u001b[39m'\u001b[39m)\n\u001b[0;32m      <a href='vscode-notebook-cell:/e%3A/ubuntu-data/dev/E-MDS130-1-22V/code/l3.gridworld.ipynb#ch0000012?line=2'>3</a>\u001b[0m \u001b[39m# Train the agent\u001b[39;00m\n\u001b[1;32m----> <a href='vscode-notebook-cell:/e%3A/ubuntu-data/dev/E-MDS130-1-22V/code/l3.gridworld.ipynb#ch0000012?line=3'>4</a>\u001b[0m agent\u001b[39m.\u001b[39;49mtrain(algo\u001b[39m=\u001b[39;49m\u001b[39m'\u001b[39;49m\u001b[39mQE\u001b[39;49m\u001b[39m'\u001b[39;49m, mode\u001b[39m=\u001b[39;49m\u001b[39m'\u001b[39;49m\u001b[39mrandom\u001b[39;49m\u001b[39m'\u001b[39;49m, epochs\u001b[39m=\u001b[39;49m\u001b[39m5000\u001b[39;49m, memSize\u001b[39m=\u001b[39;49m\u001b[39m1000\u001b[39;49m, batchSize\u001b[39m=\u001b[39;49m\u001b[39m200\u001b[39;49m)\n",
      "\u001b[1;32me:\\ubuntu-data\\dev\\E-MDS130-1-22V\\code\\l3.gridworld.ipynb Cell 5'\u001b[0m in \u001b[0;36mAgent.train\u001b[1;34m(self, algo, mode, epochs, memSize, batchSize, syncFreq)\u001b[0m\n\u001b[0;32m     <a href='vscode-notebook-cell:/e%3A/ubuntu-data/dev/E-MDS130-1-22V/code/l3.gridworld.ipynb#ch0000004?line=55'>56</a>\u001b[0m targetNetworkSyncController \u001b[39m=\u001b[39m \u001b[39m0\u001b[39m\n\u001b[0;32m     <a href='vscode-notebook-cell:/e%3A/ubuntu-data/dev/E-MDS130-1-22V/code/l3.gridworld.ipynb#ch0000004?line=56'>57</a>\u001b[0m \u001b[39mfor\u001b[39;00m e \u001b[39min\u001b[39;00m \u001b[39mrange\u001b[39m(epochs):            \n\u001b[0;32m     <a href='vscode-notebook-cell:/e%3A/ubuntu-data/dev/E-MDS130-1-22V/code/l3.gridworld.ipynb#ch0000004?line=57'>58</a>\u001b[0m     \u001b[39m# Instantiate the environment for the current epoch\u001b[39;00m\n\u001b[1;32m---> <a href='vscode-notebook-cell:/e%3A/ubuntu-data/dev/E-MDS130-1-22V/code/l3.gridworld.ipynb#ch0000004?line=58'>59</a>\u001b[0m     env \u001b[39m=\u001b[39m GridWorld(\u001b[39mself\u001b[39;49m\u001b[39m.\u001b[39;49menvDimension, mode\u001b[39m=\u001b[39;49mmode)\n\u001b[0;32m     <a href='vscode-notebook-cell:/e%3A/ubuntu-data/dev/E-MDS130-1-22V/code/l3.gridworld.ipynb#ch0000004?line=59'>60</a>\u001b[0m     \u001b[39m# Reset the environment and convert it to a tensor.\u001b[39;00m\n\u001b[0;32m     <a href='vscode-notebook-cell:/e%3A/ubuntu-data/dev/E-MDS130-1-22V/code/l3.gridworld.ipynb#ch0000004?line=60'>61</a>\u001b[0m     state \u001b[39m=\u001b[39m torch\u001b[39m.\u001b[39mfrom_numpy(env\u001b[39m.\u001b[39mreset())\u001b[39m.\u001b[39mto(\u001b[39mself\u001b[39m\u001b[39m.\u001b[39mdevice)\u001b[39m.\u001b[39mfloat()\n",
      "\u001b[1;32me:\\ubuntu-data\\dev\\E-MDS130-1-22V\\code\\l3.gridworld.ipynb Cell 3'\u001b[0m in \u001b[0;36mGridWorld.__init__\u001b[1;34m(self, d, mode)\u001b[0m\n\u001b[0;32m     <a href='vscode-notebook-cell:/e%3A/ubuntu-data/dev/E-MDS130-1-22V/code/l3.gridworld.ipynb#ch0000002?line=25'>26</a>\u001b[0m \u001b[39mself\u001b[39m\u001b[39m.\u001b[39mrenderprops[\u001b[39m'\u001b[39m\u001b[39mright\u001b[39m\u001b[39m'\u001b[39m] \u001b[39m=\u001b[39m \u001b[39mself\u001b[39m\u001b[39m.\u001b[39mrenderprops[\u001b[39m'\u001b[39m\u001b[39mleft\u001b[39m\u001b[39m'\u001b[39m] \u001b[39m+\u001b[39m \u001b[39mself\u001b[39m\u001b[39m.\u001b[39mrenderprops[\u001b[39m'\u001b[39m\u001b[39mwidth\u001b[39m\u001b[39m'\u001b[39m]\n\u001b[0;32m     <a href='vscode-notebook-cell:/e%3A/ubuntu-data/dev/E-MDS130-1-22V/code/l3.gridworld.ipynb#ch0000002?line=26'>27</a>\u001b[0m \u001b[39mself\u001b[39m\u001b[39m.\u001b[39mrenderprops[\u001b[39m'\u001b[39m\u001b[39mtop\u001b[39m\u001b[39m'\u001b[39m] \u001b[39m=\u001b[39m \u001b[39mself\u001b[39m\u001b[39m.\u001b[39mrenderprops[\u001b[39m'\u001b[39m\u001b[39mbottom\u001b[39m\u001b[39m'\u001b[39m] \u001b[39m+\u001b[39m \u001b[39mself\u001b[39m\u001b[39m.\u001b[39mrenderprops[\u001b[39m'\u001b[39m\u001b[39mheight\u001b[39m\u001b[39m'\u001b[39m]\n\u001b[1;32m---> <a href='vscode-notebook-cell:/e%3A/ubuntu-data/dev/E-MDS130-1-22V/code/l3.gridworld.ipynb#ch0000002?line=28'>29</a>\u001b[0m \u001b[39mself\u001b[39m\u001b[39m.\u001b[39mrenderprops[\u001b[39m'\u001b[39m\u001b[39mfig\u001b[39m\u001b[39m'\u001b[39m], \u001b[39mself\u001b[39m\u001b[39m.\u001b[39mrenderprops[\u001b[39m'\u001b[39m\u001b[39max\u001b[39m\u001b[39m'\u001b[39m] \u001b[39m=\u001b[39m plt\u001b[39m.\u001b[39;49msubplots(figsize\u001b[39m=\u001b[39;49m(\u001b[39m1\u001b[39;49m,\u001b[39m1\u001b[39;49m))       \n\u001b[0;32m     <a href='vscode-notebook-cell:/e%3A/ubuntu-data/dev/E-MDS130-1-22V/code/l3.gridworld.ipynb#ch0000002?line=29'>30</a>\u001b[0m \u001b[39m# We dont want to show the figure at this point \u001b[39;00m\n\u001b[0;32m     <a href='vscode-notebook-cell:/e%3A/ubuntu-data/dev/E-MDS130-1-22V/code/l3.gridworld.ipynb#ch0000002?line=30'>31</a>\u001b[0m plt\u001b[39m.\u001b[39mclose()\n",
      "File \u001b[1;32m~\\AppData\\Local\\Packages\\PythonSoftwareFoundation.Python.3.10_qbz5n2kfra8p0\\LocalCache\\local-packages\\Python310\\site-packages\\matplotlib\\pyplot.py:1435\u001b[0m, in \u001b[0;36msubplots\u001b[1;34m(nrows, ncols, sharex, sharey, squeeze, subplot_kw, gridspec_kw, **fig_kw)\u001b[0m\n\u001b[0;32m   <a href='file:///c%3A/Users/chakr/AppData/Local/Packages/PythonSoftwareFoundation.Python.3.10_qbz5n2kfra8p0/LocalCache/local-packages/Python310/site-packages/matplotlib/pyplot.py?line=1301'>1302</a>\u001b[0m \u001b[39m\"\"\"\u001b[39;00m\n\u001b[0;32m   <a href='file:///c%3A/Users/chakr/AppData/Local/Packages/PythonSoftwareFoundation.Python.3.10_qbz5n2kfra8p0/LocalCache/local-packages/Python310/site-packages/matplotlib/pyplot.py?line=1302'>1303</a>\u001b[0m \u001b[39mCreate a figure and a set of subplots.\u001b[39;00m\n\u001b[0;32m   <a href='file:///c%3A/Users/chakr/AppData/Local/Packages/PythonSoftwareFoundation.Python.3.10_qbz5n2kfra8p0/LocalCache/local-packages/Python310/site-packages/matplotlib/pyplot.py?line=1303'>1304</a>\u001b[0m \n\u001b[1;32m   (...)\u001b[0m\n\u001b[0;32m   <a href='file:///c%3A/Users/chakr/AppData/Local/Packages/PythonSoftwareFoundation.Python.3.10_qbz5n2kfra8p0/LocalCache/local-packages/Python310/site-packages/matplotlib/pyplot.py?line=1431'>1432</a>\u001b[0m \n\u001b[0;32m   <a href='file:///c%3A/Users/chakr/AppData/Local/Packages/PythonSoftwareFoundation.Python.3.10_qbz5n2kfra8p0/LocalCache/local-packages/Python310/site-packages/matplotlib/pyplot.py?line=1432'>1433</a>\u001b[0m \u001b[39m\"\"\"\u001b[39;00m\n\u001b[0;32m   <a href='file:///c%3A/Users/chakr/AppData/Local/Packages/PythonSoftwareFoundation.Python.3.10_qbz5n2kfra8p0/LocalCache/local-packages/Python310/site-packages/matplotlib/pyplot.py?line=1433'>1434</a>\u001b[0m fig \u001b[39m=\u001b[39m figure(\u001b[39m*\u001b[39m\u001b[39m*\u001b[39mfig_kw)\n\u001b[1;32m-> <a href='file:///c%3A/Users/chakr/AppData/Local/Packages/PythonSoftwareFoundation.Python.3.10_qbz5n2kfra8p0/LocalCache/local-packages/Python310/site-packages/matplotlib/pyplot.py?line=1434'>1435</a>\u001b[0m axs \u001b[39m=\u001b[39m fig\u001b[39m.\u001b[39;49msubplots(nrows\u001b[39m=\u001b[39;49mnrows, ncols\u001b[39m=\u001b[39;49mncols, sharex\u001b[39m=\u001b[39;49msharex, sharey\u001b[39m=\u001b[39;49msharey,\n\u001b[0;32m   <a href='file:///c%3A/Users/chakr/AppData/Local/Packages/PythonSoftwareFoundation.Python.3.10_qbz5n2kfra8p0/LocalCache/local-packages/Python310/site-packages/matplotlib/pyplot.py?line=1435'>1436</a>\u001b[0m                    squeeze\u001b[39m=\u001b[39;49msqueeze, subplot_kw\u001b[39m=\u001b[39;49msubplot_kw,\n\u001b[0;32m   <a href='file:///c%3A/Users/chakr/AppData/Local/Packages/PythonSoftwareFoundation.Python.3.10_qbz5n2kfra8p0/LocalCache/local-packages/Python310/site-packages/matplotlib/pyplot.py?line=1436'>1437</a>\u001b[0m                    gridspec_kw\u001b[39m=\u001b[39;49mgridspec_kw)\n\u001b[0;32m   <a href='file:///c%3A/Users/chakr/AppData/Local/Packages/PythonSoftwareFoundation.Python.3.10_qbz5n2kfra8p0/LocalCache/local-packages/Python310/site-packages/matplotlib/pyplot.py?line=1437'>1438</a>\u001b[0m \u001b[39mreturn\u001b[39;00m fig, axs\n",
      "File \u001b[1;32m~\\AppData\\Local\\Packages\\PythonSoftwareFoundation.Python.3.10_qbz5n2kfra8p0\\LocalCache\\local-packages\\Python310\\site-packages\\matplotlib\\figure.py:897\u001b[0m, in \u001b[0;36mFigureBase.subplots\u001b[1;34m(self, nrows, ncols, sharex, sharey, squeeze, subplot_kw, gridspec_kw)\u001b[0m\n\u001b[0;32m    <a href='file:///c%3A/Users/chakr/AppData/Local/Packages/PythonSoftwareFoundation.Python.3.10_qbz5n2kfra8p0/LocalCache/local-packages/Python310/site-packages/matplotlib/figure.py?line=894'>895</a>\u001b[0m     gridspec_kw \u001b[39m=\u001b[39m {}\n\u001b[0;32m    <a href='file:///c%3A/Users/chakr/AppData/Local/Packages/PythonSoftwareFoundation.Python.3.10_qbz5n2kfra8p0/LocalCache/local-packages/Python310/site-packages/matplotlib/figure.py?line=895'>896</a>\u001b[0m gs \u001b[39m=\u001b[39m \u001b[39mself\u001b[39m\u001b[39m.\u001b[39madd_gridspec(nrows, ncols, figure\u001b[39m=\u001b[39m\u001b[39mself\u001b[39m, \u001b[39m*\u001b[39m\u001b[39m*\u001b[39mgridspec_kw)\n\u001b[1;32m--> <a href='file:///c%3A/Users/chakr/AppData/Local/Packages/PythonSoftwareFoundation.Python.3.10_qbz5n2kfra8p0/LocalCache/local-packages/Python310/site-packages/matplotlib/figure.py?line=896'>897</a>\u001b[0m axs \u001b[39m=\u001b[39m gs\u001b[39m.\u001b[39;49msubplots(sharex\u001b[39m=\u001b[39;49msharex, sharey\u001b[39m=\u001b[39;49msharey, squeeze\u001b[39m=\u001b[39;49msqueeze,\n\u001b[0;32m    <a href='file:///c%3A/Users/chakr/AppData/Local/Packages/PythonSoftwareFoundation.Python.3.10_qbz5n2kfra8p0/LocalCache/local-packages/Python310/site-packages/matplotlib/figure.py?line=897'>898</a>\u001b[0m                   subplot_kw\u001b[39m=\u001b[39;49msubplot_kw)\n\u001b[0;32m    <a href='file:///c%3A/Users/chakr/AppData/Local/Packages/PythonSoftwareFoundation.Python.3.10_qbz5n2kfra8p0/LocalCache/local-packages/Python310/site-packages/matplotlib/figure.py?line=898'>899</a>\u001b[0m \u001b[39mreturn\u001b[39;00m axs\n",
      "File \u001b[1;32m~\\AppData\\Local\\Packages\\PythonSoftwareFoundation.Python.3.10_qbz5n2kfra8p0\\LocalCache\\local-packages\\Python310\\site-packages\\matplotlib\\gridspec.py:307\u001b[0m, in \u001b[0;36mGridSpecBase.subplots\u001b[1;34m(self, sharex, sharey, squeeze, subplot_kw)\u001b[0m\n\u001b[0;32m    <a href='file:///c%3A/Users/chakr/AppData/Local/Packages/PythonSoftwareFoundation.Python.3.10_qbz5n2kfra8p0/LocalCache/local-packages/Python310/site-packages/matplotlib/gridspec.py?line=304'>305</a>\u001b[0m         subplot_kw[\u001b[39m\"\u001b[39m\u001b[39msharex\u001b[39m\u001b[39m\"\u001b[39m] \u001b[39m=\u001b[39m shared_with[sharex]\n\u001b[0;32m    <a href='file:///c%3A/Users/chakr/AppData/Local/Packages/PythonSoftwareFoundation.Python.3.10_qbz5n2kfra8p0/LocalCache/local-packages/Python310/site-packages/matplotlib/gridspec.py?line=305'>306</a>\u001b[0m         subplot_kw[\u001b[39m\"\u001b[39m\u001b[39msharey\u001b[39m\u001b[39m\"\u001b[39m] \u001b[39m=\u001b[39m shared_with[sharey]\n\u001b[1;32m--> <a href='file:///c%3A/Users/chakr/AppData/Local/Packages/PythonSoftwareFoundation.Python.3.10_qbz5n2kfra8p0/LocalCache/local-packages/Python310/site-packages/matplotlib/gridspec.py?line=306'>307</a>\u001b[0m         axarr[row, col] \u001b[39m=\u001b[39m figure\u001b[39m.\u001b[39madd_subplot(\n\u001b[0;32m    <a href='file:///c%3A/Users/chakr/AppData/Local/Packages/PythonSoftwareFoundation.Python.3.10_qbz5n2kfra8p0/LocalCache/local-packages/Python310/site-packages/matplotlib/gridspec.py?line=307'>308</a>\u001b[0m             \u001b[39mself\u001b[39m[row, col], \u001b[39m*\u001b[39m\u001b[39m*\u001b[39msubplot_kw)\n\u001b[0;32m    <a href='file:///c%3A/Users/chakr/AppData/Local/Packages/PythonSoftwareFoundation.Python.3.10_qbz5n2kfra8p0/LocalCache/local-packages/Python310/site-packages/matplotlib/gridspec.py?line=309'>310</a>\u001b[0m \u001b[39m# turn off redundant tick labeling\u001b[39;00m\n\u001b[0;32m    <a href='file:///c%3A/Users/chakr/AppData/Local/Packages/PythonSoftwareFoundation.Python.3.10_qbz5n2kfra8p0/LocalCache/local-packages/Python310/site-packages/matplotlib/gridspec.py?line=310'>311</a>\u001b[0m \u001b[39mif\u001b[39;00m sharex \u001b[39min\u001b[39;00m [\u001b[39m\"\u001b[39m\u001b[39mcol\u001b[39m\u001b[39m\"\u001b[39m, \u001b[39m\"\u001b[39m\u001b[39mall\u001b[39m\u001b[39m\"\u001b[39m]:\n",
      "File \u001b[1;32m~\\AppData\\Local\\Packages\\PythonSoftwareFoundation.Python.3.10_qbz5n2kfra8p0\\LocalCache\\local-packages\\Python310\\site-packages\\matplotlib\\figure.py:772\u001b[0m, in \u001b[0;36mFigureBase.add_subplot\u001b[1;34m(self, *args, **kwargs)\u001b[0m\n\u001b[0;32m    <a href='file:///c%3A/Users/chakr/AppData/Local/Packages/PythonSoftwareFoundation.Python.3.10_qbz5n2kfra8p0/LocalCache/local-packages/Python310/site-packages/matplotlib/figure.py?line=768'>769</a>\u001b[0m         args \u001b[39m=\u001b[39m \u001b[39mtuple\u001b[39m(\u001b[39mmap\u001b[39m(\u001b[39mint\u001b[39m, \u001b[39mstr\u001b[39m(args[\u001b[39m0\u001b[39m])))\n\u001b[0;32m    <a href='file:///c%3A/Users/chakr/AppData/Local/Packages/PythonSoftwareFoundation.Python.3.10_qbz5n2kfra8p0/LocalCache/local-packages/Python310/site-packages/matplotlib/figure.py?line=769'>770</a>\u001b[0m     projection_class, pkw \u001b[39m=\u001b[39m \u001b[39mself\u001b[39m\u001b[39m.\u001b[39m_process_projection_requirements(\n\u001b[0;32m    <a href='file:///c%3A/Users/chakr/AppData/Local/Packages/PythonSoftwareFoundation.Python.3.10_qbz5n2kfra8p0/LocalCache/local-packages/Python310/site-packages/matplotlib/figure.py?line=770'>771</a>\u001b[0m         \u001b[39m*\u001b[39margs, \u001b[39m*\u001b[39m\u001b[39m*\u001b[39mkwargs)\n\u001b[1;32m--> <a href='file:///c%3A/Users/chakr/AppData/Local/Packages/PythonSoftwareFoundation.Python.3.10_qbz5n2kfra8p0/LocalCache/local-packages/Python310/site-packages/matplotlib/figure.py?line=771'>772</a>\u001b[0m     ax \u001b[39m=\u001b[39m subplot_class_factory(projection_class)(\u001b[39mself\u001b[39m, \u001b[39m*\u001b[39margs, \u001b[39m*\u001b[39m\u001b[39m*\u001b[39mpkw)\n\u001b[0;32m    <a href='file:///c%3A/Users/chakr/AppData/Local/Packages/PythonSoftwareFoundation.Python.3.10_qbz5n2kfra8p0/LocalCache/local-packages/Python310/site-packages/matplotlib/figure.py?line=772'>773</a>\u001b[0m     key \u001b[39m=\u001b[39m (projection_class, pkw)\n\u001b[0;32m    <a href='file:///c%3A/Users/chakr/AppData/Local/Packages/PythonSoftwareFoundation.Python.3.10_qbz5n2kfra8p0/LocalCache/local-packages/Python310/site-packages/matplotlib/figure.py?line=773'>774</a>\u001b[0m \u001b[39mreturn\u001b[39;00m \u001b[39mself\u001b[39m\u001b[39m.\u001b[39m_add_axes_internal(ax, key)\n",
      "File \u001b[1;32m~\\AppData\\Local\\Packages\\PythonSoftwareFoundation.Python.3.10_qbz5n2kfra8p0\\LocalCache\\local-packages\\Python310\\site-packages\\matplotlib\\axes\\_subplots.py:34\u001b[0m, in \u001b[0;36mSubplotBase.__init__\u001b[1;34m(self, fig, *args, **kwargs)\u001b[0m\n\u001b[0;32m     <a href='file:///c%3A/Users/chakr/AppData/Local/Packages/PythonSoftwareFoundation.Python.3.10_qbz5n2kfra8p0/LocalCache/local-packages/Python310/site-packages/matplotlib/axes/_subplots.py?line=14'>15</a>\u001b[0m \u001b[39m\"\"\"\u001b[39;00m\n\u001b[0;32m     <a href='file:///c%3A/Users/chakr/AppData/Local/Packages/PythonSoftwareFoundation.Python.3.10_qbz5n2kfra8p0/LocalCache/local-packages/Python310/site-packages/matplotlib/axes/_subplots.py?line=15'>16</a>\u001b[0m \u001b[39mParameters\u001b[39;00m\n\u001b[0;32m     <a href='file:///c%3A/Users/chakr/AppData/Local/Packages/PythonSoftwareFoundation.Python.3.10_qbz5n2kfra8p0/LocalCache/local-packages/Python310/site-packages/matplotlib/axes/_subplots.py?line=16'>17</a>\u001b[0m \u001b[39m----------\u001b[39;00m\n\u001b[1;32m   (...)\u001b[0m\n\u001b[0;32m     <a href='file:///c%3A/Users/chakr/AppData/Local/Packages/PythonSoftwareFoundation.Python.3.10_qbz5n2kfra8p0/LocalCache/local-packages/Python310/site-packages/matplotlib/axes/_subplots.py?line=30'>31</a>\u001b[0m \u001b[39m    Keyword arguments are passed to the Axes (sub)class constructor.\u001b[39;00m\n\u001b[0;32m     <a href='file:///c%3A/Users/chakr/AppData/Local/Packages/PythonSoftwareFoundation.Python.3.10_qbz5n2kfra8p0/LocalCache/local-packages/Python310/site-packages/matplotlib/axes/_subplots.py?line=31'>32</a>\u001b[0m \u001b[39m\"\"\"\u001b[39;00m\n\u001b[0;32m     <a href='file:///c%3A/Users/chakr/AppData/Local/Packages/PythonSoftwareFoundation.Python.3.10_qbz5n2kfra8p0/LocalCache/local-packages/Python310/site-packages/matplotlib/axes/_subplots.py?line=32'>33</a>\u001b[0m \u001b[39m# _axes_class is set in the subplot_class_factory\u001b[39;00m\n\u001b[1;32m---> <a href='file:///c%3A/Users/chakr/AppData/Local/Packages/PythonSoftwareFoundation.Python.3.10_qbz5n2kfra8p0/LocalCache/local-packages/Python310/site-packages/matplotlib/axes/_subplots.py?line=33'>34</a>\u001b[0m \u001b[39mself\u001b[39m\u001b[39m.\u001b[39m_axes_class\u001b[39m.\u001b[39m\u001b[39m__init__\u001b[39m(\u001b[39mself\u001b[39m, fig, [\u001b[39m0\u001b[39m, \u001b[39m0\u001b[39m, \u001b[39m1\u001b[39m, \u001b[39m1\u001b[39m], \u001b[39m*\u001b[39m\u001b[39m*\u001b[39mkwargs)\n\u001b[0;32m     <a href='file:///c%3A/Users/chakr/AppData/Local/Packages/PythonSoftwareFoundation.Python.3.10_qbz5n2kfra8p0/LocalCache/local-packages/Python310/site-packages/matplotlib/axes/_subplots.py?line=34'>35</a>\u001b[0m \u001b[39m# This will also update the axes position.\u001b[39;00m\n\u001b[0;32m     <a href='file:///c%3A/Users/chakr/AppData/Local/Packages/PythonSoftwareFoundation.Python.3.10_qbz5n2kfra8p0/LocalCache/local-packages/Python310/site-packages/matplotlib/axes/_subplots.py?line=35'>36</a>\u001b[0m \u001b[39mself\u001b[39m\u001b[39m.\u001b[39mset_subplotspec(SubplotSpec\u001b[39m.\u001b[39m_from_subplot_args(fig, args))\n",
      "File \u001b[1;32m~\\AppData\\Local\\Packages\\PythonSoftwareFoundation.Python.3.10_qbz5n2kfra8p0\\LocalCache\\local-packages\\Python310\\site-packages\\matplotlib\\_api\\deprecation.py:456\u001b[0m, in \u001b[0;36mmake_keyword_only.<locals>.wrapper\u001b[1;34m(*args, **kwargs)\u001b[0m\n\u001b[0;32m    <a href='file:///c%3A/Users/chakr/AppData/Local/Packages/PythonSoftwareFoundation.Python.3.10_qbz5n2kfra8p0/LocalCache/local-packages/Python310/site-packages/matplotlib/_api/deprecation.py?line=449'>450</a>\u001b[0m \u001b[39mif\u001b[39;00m \u001b[39mlen\u001b[39m(args) \u001b[39m>\u001b[39m name_idx:\n\u001b[0;32m    <a href='file:///c%3A/Users/chakr/AppData/Local/Packages/PythonSoftwareFoundation.Python.3.10_qbz5n2kfra8p0/LocalCache/local-packages/Python310/site-packages/matplotlib/_api/deprecation.py?line=450'>451</a>\u001b[0m     warn_deprecated(\n\u001b[0;32m    <a href='file:///c%3A/Users/chakr/AppData/Local/Packages/PythonSoftwareFoundation.Python.3.10_qbz5n2kfra8p0/LocalCache/local-packages/Python310/site-packages/matplotlib/_api/deprecation.py?line=451'>452</a>\u001b[0m         since, message\u001b[39m=\u001b[39m\u001b[39m\"\u001b[39m\u001b[39mPassing the \u001b[39m\u001b[39m%(name)s\u001b[39;00m\u001b[39m \u001b[39m\u001b[39m%(obj_type)s\u001b[39;00m\u001b[39m \u001b[39m\u001b[39m\"\u001b[39m\n\u001b[0;32m    <a href='file:///c%3A/Users/chakr/AppData/Local/Packages/PythonSoftwareFoundation.Python.3.10_qbz5n2kfra8p0/LocalCache/local-packages/Python310/site-packages/matplotlib/_api/deprecation.py?line=452'>453</a>\u001b[0m         \u001b[39m\"\u001b[39m\u001b[39mpositionally is deprecated since Matplotlib \u001b[39m\u001b[39m%(since)s\u001b[39;00m\u001b[39m; the \u001b[39m\u001b[39m\"\u001b[39m\n\u001b[0;32m    <a href='file:///c%3A/Users/chakr/AppData/Local/Packages/PythonSoftwareFoundation.Python.3.10_qbz5n2kfra8p0/LocalCache/local-packages/Python310/site-packages/matplotlib/_api/deprecation.py?line=453'>454</a>\u001b[0m         \u001b[39m\"\u001b[39m\u001b[39mparameter will become keyword-only \u001b[39m\u001b[39m%(removal)s\u001b[39;00m\u001b[39m.\u001b[39m\u001b[39m\"\u001b[39m,\n\u001b[0;32m    <a href='file:///c%3A/Users/chakr/AppData/Local/Packages/PythonSoftwareFoundation.Python.3.10_qbz5n2kfra8p0/LocalCache/local-packages/Python310/site-packages/matplotlib/_api/deprecation.py?line=454'>455</a>\u001b[0m         name\u001b[39m=\u001b[39mname, obj_type\u001b[39m=\u001b[39m\u001b[39mf\u001b[39m\u001b[39m\"\u001b[39m\u001b[39mparameter of \u001b[39m\u001b[39m{\u001b[39;00mfunc\u001b[39m.\u001b[39m\u001b[39m__name__\u001b[39m\u001b[39m}\u001b[39;00m\u001b[39m()\u001b[39m\u001b[39m\"\u001b[39m)\n\u001b[1;32m--> <a href='file:///c%3A/Users/chakr/AppData/Local/Packages/PythonSoftwareFoundation.Python.3.10_qbz5n2kfra8p0/LocalCache/local-packages/Python310/site-packages/matplotlib/_api/deprecation.py?line=455'>456</a>\u001b[0m \u001b[39mreturn\u001b[39;00m func(\u001b[39m*\u001b[39margs, \u001b[39m*\u001b[39m\u001b[39m*\u001b[39mkwargs)\n",
      "File \u001b[1;32m~\\AppData\\Local\\Packages\\PythonSoftwareFoundation.Python.3.10_qbz5n2kfra8p0\\LocalCache\\local-packages\\Python310\\site-packages\\matplotlib\\axes\\_base.py:606\u001b[0m, in \u001b[0;36m_AxesBase.__init__\u001b[1;34m(self, fig, rect, facecolor, frameon, sharex, sharey, label, xscale, yscale, box_aspect, **kwargs)\u001b[0m\n\u001b[0;32m    <a href='file:///c%3A/Users/chakr/AppData/Local/Packages/PythonSoftwareFoundation.Python.3.10_qbz5n2kfra8p0/LocalCache/local-packages/Python310/site-packages/matplotlib/axes/_base.py?line=603'>604</a>\u001b[0m \u001b[39mif\u001b[39;00m \u001b[39mself\u001b[39m\u001b[39m.\u001b[39m_position\u001b[39m.\u001b[39mwidth \u001b[39m<\u001b[39m \u001b[39m0\u001b[39m \u001b[39mor\u001b[39;00m \u001b[39mself\u001b[39m\u001b[39m.\u001b[39m_position\u001b[39m.\u001b[39mheight \u001b[39m<\u001b[39m \u001b[39m0\u001b[39m:\n\u001b[0;32m    <a href='file:///c%3A/Users/chakr/AppData/Local/Packages/PythonSoftwareFoundation.Python.3.10_qbz5n2kfra8p0/LocalCache/local-packages/Python310/site-packages/matplotlib/axes/_base.py?line=604'>605</a>\u001b[0m     \u001b[39mraise\u001b[39;00m \u001b[39mValueError\u001b[39;00m(\u001b[39m'\u001b[39m\u001b[39mWidth and height specified must be non-negative\u001b[39m\u001b[39m'\u001b[39m)\n\u001b[1;32m--> <a href='file:///c%3A/Users/chakr/AppData/Local/Packages/PythonSoftwareFoundation.Python.3.10_qbz5n2kfra8p0/LocalCache/local-packages/Python310/site-packages/matplotlib/axes/_base.py?line=605'>606</a>\u001b[0m \u001b[39mself\u001b[39m\u001b[39m.\u001b[39m_originalPosition \u001b[39m=\u001b[39m \u001b[39mself\u001b[39;49m\u001b[39m.\u001b[39;49m_position\u001b[39m.\u001b[39;49mfrozen()\n\u001b[0;32m    <a href='file:///c%3A/Users/chakr/AppData/Local/Packages/PythonSoftwareFoundation.Python.3.10_qbz5n2kfra8p0/LocalCache/local-packages/Python310/site-packages/matplotlib/axes/_base.py?line=606'>607</a>\u001b[0m \u001b[39mself\u001b[39m\u001b[39m.\u001b[39maxes \u001b[39m=\u001b[39m \u001b[39mself\u001b[39m\n\u001b[0;32m    <a href='file:///c%3A/Users/chakr/AppData/Local/Packages/PythonSoftwareFoundation.Python.3.10_qbz5n2kfra8p0/LocalCache/local-packages/Python310/site-packages/matplotlib/axes/_base.py?line=607'>608</a>\u001b[0m \u001b[39mself\u001b[39m\u001b[39m.\u001b[39m_aspect \u001b[39m=\u001b[39m \u001b[39m'\u001b[39m\u001b[39mauto\u001b[39m\u001b[39m'\u001b[39m\n",
      "File \u001b[1;32m~\\AppData\\Local\\Packages\\PythonSoftwareFoundation.Python.3.10_qbz5n2kfra8p0\\LocalCache\\local-packages\\Python310\\site-packages\\matplotlib\\transforms.py:800\u001b[0m, in \u001b[0;36mBbox.frozen\u001b[1;34m(self)\u001b[0m\n\u001b[0;32m    <a href='file:///c%3A/Users/chakr/AppData/Local/Packages/PythonSoftwareFoundation.Python.3.10_qbz5n2kfra8p0/LocalCache/local-packages/Python310/site-packages/matplotlib/transforms.py?line=796'>797</a>\u001b[0m \u001b[39mdef\u001b[39;00m \u001b[39mfrozen\u001b[39m(\u001b[39mself\u001b[39m):\n\u001b[0;32m    <a href='file:///c%3A/Users/chakr/AppData/Local/Packages/PythonSoftwareFoundation.Python.3.10_qbz5n2kfra8p0/LocalCache/local-packages/Python310/site-packages/matplotlib/transforms.py?line=797'>798</a>\u001b[0m     \u001b[39m# docstring inherited\u001b[39;00m\n\u001b[0;32m    <a href='file:///c%3A/Users/chakr/AppData/Local/Packages/PythonSoftwareFoundation.Python.3.10_qbz5n2kfra8p0/LocalCache/local-packages/Python310/site-packages/matplotlib/transforms.py?line=798'>799</a>\u001b[0m     frozen_bbox \u001b[39m=\u001b[39m \u001b[39msuper\u001b[39m()\u001b[39m.\u001b[39mfrozen()\n\u001b[1;32m--> <a href='file:///c%3A/Users/chakr/AppData/Local/Packages/PythonSoftwareFoundation.Python.3.10_qbz5n2kfra8p0/LocalCache/local-packages/Python310/site-packages/matplotlib/transforms.py?line=799'>800</a>\u001b[0m     frozen_bbox\u001b[39m.\u001b[39m_minpos \u001b[39m=\u001b[39m \u001b[39mself\u001b[39;49m\u001b[39m.\u001b[39;49mminpos\u001b[39m.\u001b[39;49mcopy()\n\u001b[0;32m    <a href='file:///c%3A/Users/chakr/AppData/Local/Packages/PythonSoftwareFoundation.Python.3.10_qbz5n2kfra8p0/LocalCache/local-packages/Python310/site-packages/matplotlib/transforms.py?line=800'>801</a>\u001b[0m     \u001b[39mreturn\u001b[39;00m frozen_bbox\n",
      "\u001b[1;31mKeyboardInterrupt\u001b[0m: "
     ]
    },
    {
     "data": {
      "text/plain": [
       "<Figure size 72x72 with 0 Axes>"
      ]
     },
     "metadata": {},
     "output_type": "display_data"
    }
   ],
   "source": [
    "# Create the agent\n",
    "agent = Agent(minEpsilon=0.01, device='cuda')\n",
    "# Train the agent\n",
    "agent.train(algo='QE', mode='random', epochs=5000, memSize=1000, batchSize=200)"
   ]
  },
  {
   "cell_type": "code",
   "execution_count": 48,
   "metadata": {},
   "outputs": [
    {
     "name": "stdout",
     "output_type": "stream",
     "text": [
      "Total games played=1. Of which 1 are won, 0 are lost, and 0 were abandoned\n"
     ]
    }
   ],
   "source": [
    "# Test on static mode\n",
    "agent.test(numGames=1, display=True)"
   ]
  },
  {
   "cell_type": "code",
   "execution_count": 49,
   "metadata": {},
   "outputs": [
    {
     "name": "stdout",
     "output_type": "stream",
     "text": [
      "GAME: 1. Move #: 1; Took action: left; Reward received: -1\n",
      "GAME: 1. Move #: 2; Took action: left; Reward received: -1\n",
      "GAME: 1. Move #: 3; Took action: up; Reward received: -1\n",
      "GAME: 1. Move #: 4; Took action: up; Reward received: -1\n",
      "GAME: 1. Move #: 5; Took action: up; Reward received: -1\n",
      "GAME: 1. Move #: 6; Took action: left; Reward received: 100\n",
      "GAME: 2. Move #: 1; Took action: up; Reward received: -1\n",
      "GAME: 2. Move #: 2; Took action: up; Reward received: -1\n",
      "GAME: 2. Move #: 3; Took action: left; Reward received: 100\n",
      "GAME: 3. Move #: 1; Took action: left; Reward received: 100\n",
      "GAME: 4. Move #: 1; Took action: up; Reward received: -1\n",
      "GAME: 4. Move #: 2; Took action: left; Reward received: 100\n",
      "GAME: 5. Move #: 1; Took action: up; Reward received: -1\n",
      "GAME: 5. Move #: 2; Took action: left; Reward received: 100\n",
      "GAME: 6. Move #: 1; Took action: left; Reward received: 100\n",
      "GAME: 7. Move #: 1; Took action: left; Reward received: -1\n",
      "GAME: 7. Move #: 2; Took action: left; Reward received: -1\n",
      "GAME: 7. Move #: 3; Took action: up; Reward received: -1\n",
      "GAME: 7. Move #: 4; Took action: up; Reward received: -1\n",
      "GAME: 7. Move #: 5; Took action: up; Reward received: -1\n",
      "GAME: 7. Move #: 6; Took action: left; Reward received: 100\n",
      "GAME: 8. Move #: 1; Took action: left; Reward received: -1\n",
      "GAME: 8. Move #: 2; Took action: up; Reward received: -1\n",
      "GAME: 8. Move #: 3; Took action: up; Reward received: -1\n",
      "GAME: 8. Move #: 4; Took action: up; Reward received: -1\n",
      "GAME: 8. Move #: 5; Took action: left; Reward received: 100\n",
      "GAME: 9. Move #: 1; Took action: left; Reward received: -1\n",
      "GAME: 9. Move #: 2; Took action: up; Reward received: -1\n",
      "GAME: 9. Move #: 3; Took action: left; Reward received: -1\n",
      "GAME: 9. Move #: 4; Took action: left; Reward received: 100\n",
      "GAME: 10. Move #: 1; Took action: up; Reward received: 100\n",
      "Total games played=10. Of which 10 are won, 0 are lost, and 0 were abandoned\n"
     ]
    }
   ],
   "source": [
    "# Test on player mode\n",
    "agent.test(numGames=10, mode='player', display=False)"
   ]
  },
  {
   "cell_type": "code",
   "execution_count": 50,
   "metadata": {},
   "outputs": [
    {
     "name": "stdout",
     "output_type": "stream",
     "text": [
      "Total games played=10. Of which 9 are won, 0 are lost, and 1 were abandoned\n"
     ]
    }
   ],
   "source": [
    "# Test on random mode\n",
    "agent.test(numGames=10, mode='random', display=True)"
   ]
  },
  {
   "cell_type": "markdown",
   "metadata": {},
   "source": [
    "### Q-Learning with Experience Replay and a Target Network"
   ]
  },
  {
   "cell_type": "code",
   "execution_count": 51,
   "metadata": {},
   "outputs": [
    {
     "name": "stdout",
     "output_type": "stream",
     "text": [
      "epoch: 0, error: nan\n",
      "epoch: 500, error: 69.24\n",
      "epoch: 1000, error: 65.41\n",
      "epoch: 1500, error: 52.67\n",
      "epoch: 2000, error: 49.15\n",
      "epoch: 2500, error: 46.66\n",
      "epoch: 3000, error: 45.23\n",
      "epoch: 3500, error: 44.02\n",
      "epoch: 4000, error: 43.14\n",
      "epoch: 4500, error: 42.62\n"
     ]
    },
    {
     "data": {
      "image/png": "[encoded data removed]",
      "text/plain": [
       "<Figure size 432x288 with 1 Axes>"
      ]
     },
     "metadata": {
      "needs_background": "light"
     },
     "output_type": "display_data"
    }
   ],
   "source": [
    "# Create the agent\n",
    "agent = Agent(minEpsilon=0.01, device='cuda')\n",
    "# Train the agent\n",
    "agent.train(algo='QET', mode='random', epochs=5000, memSize=1000, batchSize=200, syncFreq=500)"
   ]
  },
  {
   "cell_type": "code",
   "execution_count": 52,
   "metadata": {},
   "outputs": [
    {
     "name": "stdout",
     "output_type": "stream",
     "text": [
      "Total games played=1. Of which 1 are won, 0 are lost, and 0 were abandoned\n"
     ]
    }
   ],
   "source": [
    "# Test on static mode\n",
    "agent.test(numGames=1, display=True)"
   ]
  },
  {
   "cell_type": "code",
   "execution_count": 53,
   "metadata": {},
   "outputs": [
    {
     "name": "stdout",
     "output_type": "stream",
     "text": [
      "GAME: 1. Move #: 1; Took action: up; Reward received: -1\n",
      "GAME: 1. Move #: 2; Took action: up; Reward received: -1\n",
      "GAME: 1. Move #: 3; Took action: up; Reward received: 100\n",
      "GAME: 2. Move #: 1; Took action: left; Reward received: 100\n",
      "GAME: 3. Move #: 1; Took action: up; Reward received: -1\n",
      "GAME: 3. Move #: 2; Took action: left; Reward received: -1\n",
      "GAME: 3. Move #: 3; Took action: left; Reward received: -1\n",
      "GAME: 3. Move #: 4; Took action: left; Reward received: -1\n",
      "GAME: 3. Move #: 5; Took action: up; Reward received: 100\n",
      "GAME: 4. Move #: 1; Took action: left; Reward received: 100\n",
      "GAME: 5. Move #: 1; Took action: left; Reward received: -1\n",
      "GAME: 5. Move #: 2; Took action: left; Reward received: -1\n",
      "GAME: 5. Move #: 3; Took action: left; Reward received: -1\n",
      "GAME: 5. Move #: 4; Took action: up; Reward received: -1\n",
      "GAME: 5. Move #: 5; Took action: up; Reward received: -1\n",
      "GAME: 5. Move #: 6; Took action: up; Reward received: 100\n",
      "GAME: 6. Move #: 1; Took action: up; Reward received: -1\n",
      "GAME: 6. Move #: 2; Took action: up; Reward received: -1\n",
      "GAME: 6. Move #: 3; Took action: up; Reward received: 100\n",
      "GAME: 7. Move #: 1; Took action: left; Reward received: 100\n",
      "GAME: 8. Move #: 1; Took action: left; Reward received: -1\n",
      "GAME: 8. Move #: 2; Took action: left; Reward received: -1\n",
      "GAME: 8. Move #: 3; Took action: left; Reward received: -1\n",
      "GAME: 8. Move #: 4; Took action: up; Reward received: -1\n",
      "GAME: 8. Move #: 5; Took action: up; Reward received: -1\n",
      "GAME: 8. Move #: 6; Took action: up; Reward received: 100\n",
      "GAME: 9. Move #: 1; Took action: up; Reward received: 100\n",
      "GAME: 10. Move #: 1; Took action: left; Reward received: -1\n",
      "GAME: 10. Move #: 2; Took action: left; Reward received: -1\n",
      "GAME: 10. Move #: 3; Took action: up; Reward received: 100\n",
      "Total games played=10. Of which 10 are won, 0 are lost, and 0 were abandoned\n"
     ]
    }
   ],
   "source": [
    "# Test on player mode\n",
    "agent.test(numGames=10, mode='player', display=False)"
   ]
  },
  {
   "cell_type": "code",
   "execution_count": 54,
   "metadata": {},
   "outputs": [
    {
     "name": "stdout",
     "output_type": "stream",
     "text": [
      "Total games played=25. Of which 20 are won, 1 are lost, and 4 were abandoned\n"
     ]
    }
   ],
   "source": [
    "# Test on random mode\n",
    "agent.test(numGames=25, mode='random', display=True)"
   ]
  }
 ],
 "metadata": {
  "interpreter": {
   "hash": "94637411f088279a58f0325a9d3d1977a03a4c80559a2e9a4fe1ced1117d56be"
  },
  "kernelspec": {
   "display_name": "Python 3 (ipykernel)",
   "language": "python",
   "name": "python3"
  },
  "language_info": {
   "codemirror_mode": {
    "name": "ipython",
    "version": 3
   },
   "file_extension": ".py",
   "mimetype": "text/x-python",
   "name": "python",
   "nbconvert_exporter": "python",
   "pygments_lexer": "ipython3",
   "version": "3.8.12"
  }
 },
 "nbformat": 4,
 "nbformat_minor": 2
}
