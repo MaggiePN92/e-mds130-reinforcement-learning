{
 "cells": [
  {
   "cell_type": "code",
   "execution_count": 1,
   "id": "9b42bd59",
   "metadata": {},
   "outputs": [],
   "source": [
    "from q_deep_learning import QDeepLearning"
   ]
  },
  {
   "cell_type": "code",
   "execution_count": 2,
   "id": "ec795b31",
   "metadata": {},
   "outputs": [],
   "source": [
    "a = QDeepLearning(1e-3, 0.99, 1, 0.01)"
   ]
  },
  {
   "cell_type": "code",
   "execution_count": 5,
   "id": "8b9750f1",
   "metadata": {},
   "outputs": [
    {
     "name": "stderr",
     "output_type": "stream",
     "text": [
      "  0%|▌                                                                                                                                                                                                 | 4/1500 [00:00<01:15, 19.91it/s]"
     ]
    },
    {
     "name": "stdout",
     "output_type": "stream",
     "text": [
      "epoch: 0, error: 12.05\n"
     ]
    },
    {
     "name": "stderr",
     "output_type": "stream",
     "text": [
      " 10%|███████████████████▋                                                                                                                                                                            | 154/1500 [00:05<00:55, 24.17it/s]"
     ]
    },
    {
     "name": "stdout",
     "output_type": "stream",
     "text": [
      "epoch: 150, error: 41.32\n"
     ]
    },
    {
     "name": "stderr",
     "output_type": "stream",
     "text": [
      " 20%|██████████████████████████████████████▊                                                                                                                                                         | 303/1500 [00:12<01:14, 16.06it/s]"
     ]
    },
    {
     "name": "stdout",
     "output_type": "stream",
     "text": [
      "epoch: 300, error: 73.06\n"
     ]
    },
    {
     "name": "stderr",
     "output_type": "stream",
     "text": [
      " 30%|█████████████████████████████████████████████████████████▋                                                                                                                                      | 451/1500 [00:25<01:25, 12.24it/s]"
     ]
    },
    {
     "name": "stdout",
     "output_type": "stream",
     "text": [
      "epoch: 450, error: 118.48\n"
     ]
    },
    {
     "name": "stderr",
     "output_type": "stream",
     "text": [
      " 40%|█████████████████████████████████████████████████████████████████████████████                                                                                                                   | 602/1500 [00:45<01:30,  9.89it/s]"
     ]
    },
    {
     "name": "stdout",
     "output_type": "stream",
     "text": [
      "epoch: 600, error: 115.66\n"
     ]
    },
    {
     "name": "stderr",
     "output_type": "stream",
     "text": [
      " 50%|████████████████████████████████████████████████████████████████████████████████████████████████▏                                                                                               | 751/1500 [01:10<02:31,  4.95it/s]"
     ]
    },
    {
     "name": "stdout",
     "output_type": "stream",
     "text": [
      "epoch: 750, error: 82.63\n"
     ]
    },
    {
     "name": "stderr",
     "output_type": "stream",
     "text": [
      " 60%|███████████████████████████████████████████████████████████████████████████████████████████████████████████████████▎                                                                            | 901/1500 [01:39<02:12,  4.51it/s]"
     ]
    },
    {
     "name": "stdout",
     "output_type": "stream",
     "text": [
      "epoch: 900, error: 60.93\n"
     ]
    },
    {
     "name": "stderr",
     "output_type": "stream",
     "text": [
      " 70%|█████████████████████████████████████████████████████████████████████████████████████████████████████████████████████████████████████▊                                                         | 1051/1500 [02:13<01:38,  4.57it/s]"
     ]
    },
    {
     "name": "stdout",
     "output_type": "stream",
     "text": [
      "epoch: 1050, error: 47.13\n"
     ]
    },
    {
     "name": "stderr",
     "output_type": "stream",
     "text": [
      " 80%|████████████████████████████████████████████████████████████████████████████████████████████████████████████████████████████████████████████████████████▉                                      | 1201/1500 [02:46<01:02,  4.78it/s]"
     ]
    },
    {
     "name": "stdout",
     "output_type": "stream",
     "text": [
      "epoch: 1200, error: 56.17\n"
     ]
    },
    {
     "name": "stderr",
     "output_type": "stream",
     "text": [
      " 90%|████████████████████████████████████████████████████████████████████████████████████████████████████████████████████████████████████████████████████████████████████████████                   | 1351/1500 [03:20<00:35,  4.18it/s]"
     ]
    },
    {
     "name": "stdout",
     "output_type": "stream",
     "text": [
      "epoch: 1350, error: 62.26\n"
     ]
    },
    {
     "name": "stderr",
     "output_type": "stream",
     "text": [
      "100%|███████████████████████████████████████████████████████████████████████████████████████████████████████████████████████████████████████████████████████████████████████████████████████████████| 1500/1500 [03:54<00:00,  6.41it/s]\n"
     ]
    },
    {
     "data": {
      "image/png": "[encoded data removed]",
      "text/plain": [
       "<Figure size 432x288 with 1 Axes>"
      ]
     },
     "metadata": {
      "needs_background": "light"
     },
     "output_type": "display_data"
    }
   ],
   "source": [
    "a.train(epochs=1500)"
   ]
  },
  {
   "cell_type": "code",
   "execution_count": 6,
   "id": "74dbdb89",
   "metadata": {},
   "outputs": [
    {
     "name": "stderr",
     "output_type": "stream",
     "text": [
      "100%|█████████████████████████████████████████████████████████████████████████████████████████████████████████████████████████████████████████████████████████████████████████████████████████████████| 100/100 [00:05<00:00, 18.21it/s]\n"
     ]
    },
    {
     "data": {
      "text/plain": [
       "[437.0,\n",
       " 453.0,\n",
       " 212.0,\n",
       " 246.0,\n",
       " 432.0,\n",
       " 424.0,\n",
       " 458.0,\n",
       " 418.0,\n",
       " 416.0,\n",
       " 437.0,\n",
       " 500.0,\n",
       " 493.0,\n",
       " 429.0,\n",
       " 431.0,\n",
       " 470.0,\n",
       " 441.0,\n",
       " 392.0,\n",
       " 269.0,\n",
       " 383.0,\n",
       " 363.0,\n",
       " 401.0,\n",
       " 496.0,\n",
       " 330.0,\n",
       " 480.0,\n",
       " 248.0,\n",
       " 500.0,\n",
       " 500.0,\n",
       " 399.0,\n",
       " 500.0,\n",
       " 395.0,\n",
       " 174.0,\n",
       " 483.0,\n",
       " 415.0,\n",
       " 242.0,\n",
       " 404.0,\n",
       " 382.0,\n",
       " 234.0,\n",
       " 410.0,\n",
       " 324.0,\n",
       " 438.0,\n",
       " 500.0,\n",
       " 398.0,\n",
       " 391.0,\n",
       " 212.0,\n",
       " 404.0,\n",
       " 343.0,\n",
       " 388.0,\n",
       " 431.0,\n",
       " 413.0,\n",
       " 384.0,\n",
       " 299.0,\n",
       " 453.0,\n",
       " 415.0,\n",
       " 418.0,\n",
       " 426.0,\n",
       " 459.0,\n",
       " 470.0,\n",
       " 431.0,\n",
       " 481.0,\n",
       " 464.0,\n",
       " 386.0,\n",
       " 462.0,\n",
       " 419.0,\n",
       " 372.0,\n",
       " 411.0,\n",
       " 449.0,\n",
       " 256.0,\n",
       " 452.0,\n",
       " 428.0,\n",
       " 335.0,\n",
       " 431.0,\n",
       " 296.0,\n",
       " 412.0,\n",
       " 370.0,\n",
       " 500.0,\n",
       " 474.0,\n",
       " 253.0,\n",
       " 472.0,\n",
       " 291.0,\n",
       " 360.0,\n",
       " 273.0,\n",
       " 500.0,\n",
       " 392.0,\n",
       " 232.0,\n",
       " 315.0,\n",
       " 212.0,\n",
       " 410.0,\n",
       " 353.0,\n",
       " 398.0,\n",
       " 500.0,\n",
       " 400.0,\n",
       " 386.0,\n",
       " 292.0,\n",
       " 423.0,\n",
       " 448.0,\n",
       " 403.0,\n",
       " 454.0,\n",
       " 449.0,\n",
       " 396.0,\n",
       " 434.0]"
      ]
     },
     "execution_count": 6,
     "metadata": {},
     "output_type": "execute_result"
    },
    {
     "data": {
      "image/png": "[encoded data removed]",
      "text/plain": [
       "<Figure size 432x288 with 1 Axes>"
      ]
     },
     "metadata": {
      "needs_background": "light"
     },
     "output_type": "display_data"
    }
   ],
   "source": [
    "a.test()"
   ]
  },
  {
   "cell_type": "code",
   "execution_count": null,
   "id": "33f6683f",
   "metadata": {},
   "outputs": [],
   "source": []
  }
 ],
 "metadata": {
  "kernelspec": {
   "display_name": "Python 3 (ipykernel)",
   "language": "python",
   "name": "python3"
  },
  "language_info": {
   "codemirror_mode": {
    "name": "ipython",
    "version": 3
   },
   "file_extension": ".py",
   "mimetype": "text/x-python",
   "name": "python",
   "nbconvert_exporter": "python",
   "pygments_lexer": "ipython3",
   "version": "3.8.6"
  }
 },
 "nbformat": 4,
 "nbformat_minor": 5
}
