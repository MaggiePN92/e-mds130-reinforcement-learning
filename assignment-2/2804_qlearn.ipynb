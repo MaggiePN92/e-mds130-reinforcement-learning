{
 "cells": [
  {
   "cell_type": "code",
   "execution_count": 1,
   "id": "9b42bd59",
   "metadata": {},
   "outputs": [],
   "source": [
    "from q_deep_learning import QDeepLearning"
   ]
  },
  {
   "cell_type": "code",
   "execution_count": 2,
   "id": "ec795b31",
   "metadata": {},
   "outputs": [],
   "source": [
    "a = QDeepLearning(1e-3, 0.99, 1, 0.01)"
   ]
  },
  {
   "cell_type": "code",
   "execution_count": 5,
   "id": "8b9750f1",
   "metadata": {},
   "outputs": [
    {
     "name": "stderr",
     "output_type": "stream",
     "text": [
      "  4%|███████▊                                                                                                                                                                                          | 4/100 [00:00<00:05, 18.18it/s]"
     ]
    },
    {
     "name": "stdout",
     "output_type": "stream",
     "text": [
      "epoch: 0, error: 442.41\n"
     ]
    },
    {
     "name": "stderr",
     "output_type": "stream",
     "text": [
      " 15%|████████████████████████████▉                                                                                                                                                                    | 15/100 [00:00<00:03, 21.40it/s]"
     ]
    },
    {
     "name": "stdout",
     "output_type": "stream",
     "text": [
      "epoch: 10, error: 164.40\n"
     ]
    },
    {
     "name": "stderr",
     "output_type": "stream",
     "text": [
      " 24%|██████████████████████████████████████████████▎                                                                                                                                                  | 24/100 [00:01<00:03, 20.28it/s]"
     ]
    },
    {
     "name": "stdout",
     "output_type": "stream",
     "text": [
      "epoch: 20, error: 99.00\n"
     ]
    },
    {
     "name": "stderr",
     "output_type": "stream",
     "text": [
      " 37%|███████████████████████████████████████████████████████████████████████▍                                                                                                                         | 37/100 [00:01<00:02, 23.48it/s]"
     ]
    },
    {
     "name": "stdout",
     "output_type": "stream",
     "text": [
      "epoch: 30, error: 95.77\n"
     ]
    },
    {
     "name": "stderr",
     "output_type": "stream",
     "text": [
      " 46%|████████████████████████████████████████████████████████████████████████████████████████▊                                                                                                        | 46/100 [00:02<00:02, 23.15it/s]"
     ]
    },
    {
     "name": "stdout",
     "output_type": "stream",
     "text": [
      "epoch: 40, error: 103.29\n"
     ]
    },
    {
     "name": "stderr",
     "output_type": "stream",
     "text": [
      " 54%|████████████████████████████████████████████████████████████████████████████████████████████████████████▏                                                                                        | 54/100 [00:02<00:02, 18.31it/s]"
     ]
    },
    {
     "name": "stdout",
     "output_type": "stream",
     "text": [
      "epoch: 50, error: 106.55\n"
     ]
    },
    {
     "name": "stderr",
     "output_type": "stream",
     "text": [
      " 63%|█████████████████████████████████████████████████████████████████████████████████████████████████████████████████████████▌                                                                       | 63/100 [00:03<00:01, 20.33it/s]"
     ]
    },
    {
     "name": "stdout",
     "output_type": "stream",
     "text": [
      "epoch: 60, error: 102.37\n"
     ]
    },
    {
     "name": "stderr",
     "output_type": "stream",
     "text": [
      " 73%|████████████████████████████████████████████████████████████████████████████████████████████████████████████████████████████████████████████▉                                                    | 73/100 [00:03<00:01, 21.32it/s]"
     ]
    },
    {
     "name": "stdout",
     "output_type": "stream",
     "text": [
      "epoch: 70, error: 104.33\n"
     ]
    },
    {
     "name": "stderr",
     "output_type": "stream",
     "text": [
      " 85%|████████████████████████████████████████████████████████████████████████████████████████████████████████████████████████████████████████████████████████████████████                             | 85/100 [00:04<00:00, 20.90it/s]"
     ]
    },
    {
     "name": "stdout",
     "output_type": "stream",
     "text": [
      "epoch: 80, error: 106.96\n"
     ]
    },
    {
     "name": "stderr",
     "output_type": "stream",
     "text": [
      " 95%|███████████████████████████████████████████████████████████████████████████████████████████████████████████████████████████████████████████████████████████████████████████████████████▎         | 95/100 [00:04<00:00, 26.66it/s]"
     ]
    },
    {
     "name": "stdout",
     "output_type": "stream",
     "text": [
      "epoch: 90, error: 120.11\n"
     ]
    },
    {
     "name": "stderr",
     "output_type": "stream",
     "text": [
      "100%|████████████████████████████████████████████████████████████████████████████████████████████████████████████████████████████████████████████████████████████████████████████████████████████████| 100/100 [00:04<00:00, 20.84it/s]\n"
     ]
    },
    {
     "data": {
      "image/png": "[encoded data removed]",
      "text/plain": [
       "<Figure size 432x288 with 1 Axes>"
      ]
     },
     "metadata": {
      "needs_background": "light"
     },
     "output_type": "display_data"
    }
   ],
   "source": [
    "a.train(epochs=100)"
   ]
  },
  {
   "cell_type": "code",
   "execution_count": 4,
   "id": "74dbdb89",
   "metadata": {},
   "outputs": [
    {
     "name": "stderr",
     "output_type": "stream",
     "text": [
      "100%|███████████████████████████████████████████████████████████████████████████████████████████████████████████████████████████████████████████████████████████████████████████████████████████████| 100/100 [00:00<00:00, 446.39it/s]\n"
     ]
    },
    {
     "data": {
      "text/plain": [
       "[12.0,\n",
       " 12.0,\n",
       " 10.0,\n",
       " 9.0,\n",
       " 13.0,\n",
       " 11.0,\n",
       " 12.0,\n",
       " 11.0,\n",
       " 12.0,\n",
       " 11.0,\n",
       " 10.0,\n",
       " 11.0,\n",
       " 12.0,\n",
       " 11.0,\n",
       " 11.0,\n",
       " 11.0,\n",
       " 13.0,\n",
       " 11.0,\n",
       " 13.0,\n",
       " 11.0,\n",
       " 10.0,\n",
       " 11.0,\n",
       " 13.0,\n",
       " 12.0,\n",
       " 12.0,\n",
       " 12.0,\n",
       " 11.0,\n",
       " 12.0,\n",
       " 11.0,\n",
       " 11.0,\n",
       " 13.0,\n",
       " 12.0,\n",
       " 10.0,\n",
       " 11.0,\n",
       " 11.0,\n",
       " 11.0,\n",
       " 11.0,\n",
       " 12.0,\n",
       " 11.0,\n",
       " 12.0,\n",
       " 11.0,\n",
       " 11.0,\n",
       " 12.0,\n",
       " 11.0,\n",
       " 11.0,\n",
       " 11.0,\n",
       " 12.0,\n",
       " 11.0,\n",
       " 11.0,\n",
       " 11.0,\n",
       " 11.0,\n",
       " 11.0,\n",
       " 10.0,\n",
       " 12.0,\n",
       " 13.0,\n",
       " 12.0,\n",
       " 11.0,\n",
       " 10.0,\n",
       " 12.0,\n",
       " 11.0,\n",
       " 10.0,\n",
       " 11.0,\n",
       " 10.0,\n",
       " 11.0,\n",
       " 11.0,\n",
       " 12.0,\n",
       " 12.0,\n",
       " 10.0,\n",
       " 11.0,\n",
       " 13.0,\n",
       " 11.0,\n",
       " 12.0,\n",
       " 10.0,\n",
       " 11.0,\n",
       " 12.0,\n",
       " 12.0,\n",
       " 12.0,\n",
       " 12.0,\n",
       " 12.0,\n",
       " 12.0,\n",
       " 10.0,\n",
       " 11.0,\n",
       " 11.0,\n",
       " 13.0,\n",
       " 11.0,\n",
       " 13.0,\n",
       " 12.0,\n",
       " 12.0,\n",
       " 11.0,\n",
       " 10.0,\n",
       " 11.0,\n",
       " 13.0,\n",
       " 12.0,\n",
       " 11.0,\n",
       " 12.0,\n",
       " 11.0,\n",
       " 11.0,\n",
       " 12.0,\n",
       " 11.0,\n",
       " 12.0]"
      ]
     },
     "execution_count": 4,
     "metadata": {},
     "output_type": "execute_result"
    },
    {
     "data": {
      "image/png": "[encoded data removed]",
      "text/plain": [
       "<Figure size 432x288 with 1 Axes>"
      ]
     },
     "metadata": {
      "needs_background": "light"
     },
     "output_type": "display_data"
    }
   ],
   "source": [
    "a.test()"
   ]
  },
  {
   "cell_type": "code",
   "execution_count": null,
   "id": "33f6683f",
   "metadata": {},
   "outputs": [],
   "source": []
  }
 ],
 "metadata": {
  "kernelspec": {
   "display_name": "Python 3 (ipykernel)",
   "language": "python",
   "name": "python3"
  },
  "language_info": {
   "codemirror_mode": {
    "name": "ipython",
    "version": 3
   },
   "file_extension": ".py",
   "mimetype": "text/x-python",
   "name": "python",
   "nbconvert_exporter": "python",
   "pygments_lexer": "ipython3",
   "version": "3.8.6"
  }
 },
 "nbformat": 4,
 "nbformat_minor": 5
}
