{
 "cells": [
  {
   "cell_type": "markdown",
   "id": "151d342c",
   "metadata": {},
   "source": [
    "## Describing the CartPole environment\n",
    "\n",
    "### Status of system i described by four paramters; $(x, v, \\theta, \\omega) $:\n",
    "\n",
    "- $x$ describes horizontal position of cart ($x > 0 \\rightarrow $ cart is right from center\n",
    "- $v$ describes horizontal velocity of cart ($v > 0 \\rightarrow $ cart is moving in right\n",
    "- $\\theta $ describes the angle between the pole and the vertical position\n",
    "- $\\omega $ angular velocity of the pole\n",
    "\n",
    "\n",
    "### There are two possible actions:\n",
    "- moving right\n",
    "- moving left\n",
    "\n",
    "\n",
    "### The game ends when the angle of the pole excedes 15 $^\\circ (|\\theta| \\geq \\pi/12 \\approx 0.26 )$  \n",
    "\n",
    "### The goal of the game is to maximize the cumulative reward, which is increased by 1 in each step. "
   ]
  },
  {
   "cell_type": "code",
   "execution_count": 8,
   "id": "38aae203",
   "metadata": {},
   "outputs": [],
   "source": [
    "import gym\n",
    "import matplotlib.pyplot as plt"
   ]
  },
  {
   "cell_type": "code",
   "execution_count": 3,
   "id": "83794048",
   "metadata": {},
   "outputs": [],
   "source": [
    "env = gym.make(\"CartPole-v1\")"
   ]
  },
  {
   "cell_type": "code",
   "execution_count": 4,
   "id": "1f3a708f",
   "metadata": {},
   "outputs": [
    {
     "name": "stdout",
     "output_type": "stream",
     "text": [
      "Sample State: [-0.04081412  0.00041719 -0.04060384  0.04136603]\n",
      "Action Set: Discrete(2)\n"
     ]
    }
   ],
   "source": [
    "state = env.reset()\n",
    "print('Sample State:', state)\n",
    "print('Action Set:', env.action_space)"
   ]
  },
  {
   "cell_type": "markdown",
   "id": "b8029888",
   "metadata": {},
   "source": [
    "## The non-deep learning method"
   ]
  },
  {
   "cell_type": "code",
   "execution_count": 5,
   "id": "5869e8ec",
   "metadata": {},
   "outputs": [],
   "source": [
    "def theta_omega_policy(obs):\n",
    "    theta, w = obs[2:4]\n",
    "    \n",
    "    if abs(theta) < 0.03:\n",
    "        return 0 if w < 0 else 1\n",
    "    else:\n",
    "        return 0 if theta < 0 else 1"
   ]
  },
  {
   "cell_type": "code",
   "execution_count": 6,
   "id": "53a4b3b5",
   "metadata": {},
   "outputs": [],
   "source": [
    "cum_reward = []\n",
    "rounds = 1000\n",
    "\n",
    "for r in range(rounds):\n",
    "    current_state = env.reset()\n",
    "    done = False\n",
    "    reward = 0\n",
    "    while not done:\n",
    "        action = theta_omega_policy(current_state)\n",
    "        current_state, curr_reward, done, info = env.step(action)\n",
    "        reward += curr_reward\n",
    "    \n",
    "    cum_reward.append(reward)"
   ]
  },
  {
   "cell_type": "code",
   "execution_count": 9,
   "id": "4d2eb1a9",
   "metadata": {},
   "outputs": [
    {
     "data": {
      "text/plain": [
       "[<matplotlib.lines.Line2D at 0x7f601e083160>]"
      ]
     },
     "execution_count": 9,
     "metadata": {},
     "output_type": "execute_result"
    },
    {
     "data": {
      "image/png": "[encoded data removed]",
      "text/plain": [
       "<Figure size 432x288 with 1 Axes>"
      ]
     },
     "metadata": {
      "needs_background": "light"
     },
     "output_type": "display_data"
    }
   ],
   "source": [
    "plt.plot(cum_reward)"
   ]
  },
  {
   "cell_type": "markdown",
   "id": "b8505acc",
   "metadata": {},
   "source": [
    "## The deep learning method"
   ]
  },
  {
   "cell_type": "code",
   "execution_count": 10,
   "id": "8d99740f",
   "metadata": {},
   "outputs": [],
   "source": [
    "import torch"
   ]
  },
  {
   "cell_type": "code",
   "execution_count": 11,
   "id": "381271e6",
   "metadata": {},
   "outputs": [],
   "source": [
    "model = torch.nn.Sequential(\n",
    "    torch.nn.Linear(4,120),\n",
    "    torch.nn.LeakyReLU(),\n",
    "    torch.nn.Linear(120,2),\n",
    "    torch.nn.Softmax(dim=0)\n",
    ")"
   ]
  },
  {
   "cell_type": "code",
   "execution_count": 16,
   "id": "d7f4bb7e",
   "metadata": {},
   "outputs": [],
   "source": [
    "lr = 9e-3\n",
    "optimizer = torch.optim.Adam(model.parameters(), lr=lr)"
   ]
  },
  {
   "cell_type": "code",
   "execution_count": 49,
   "id": "11d0bd49",
   "metadata": {},
   "outputs": [],
   "source": [
    "rewards = torch.Tensor([1 for i in range(250)])\n",
    "gamma = 0.99"
   ]
  },
  {
   "cell_type": "code",
   "execution_count": 50,
   "id": "9c381165",
   "metadata": {},
   "outputs": [
    {
     "data": {
      "text/plain": [
       "[<matplotlib.lines.Line2D at 0x7f5fc8729580>]"
      ]
     },
     "execution_count": 50,
     "metadata": {},
     "output_type": "execute_result"
    },
    {
     "data": {
      "image/png": "[encoded data removed]",
      "text/plain": [
       "<Figure size 432x288 with 1 Axes>"
      ]
     },
     "metadata": {
      "needs_background": "light"
     },
     "output_type": "display_data"
    }
   ],
   "source": [
    "plt.plot(torch.pow(gamma, torch.arange(len(rewards)).float()) * rewards)"
   ]
  },
  {
   "cell_type": "code",
   "execution_count": null,
   "id": "8b353f5a",
   "metadata": {},
   "outputs": [],
   "source": [
    "cum_reward = []\n",
    "rounds = 1000\n",
    "\n",
    "for r in range(rounds):\n",
    "    current_state = env.reset()\n",
    "    done = False\n",
    "    reward = 0\n",
    "    \n",
    "    while not done:\n",
    "        action = model(torch.from_numpy(current_state).float()).argmax(axis=0).item()\n",
    "        current_state, curr_reward, done, info = env.step(action)\n",
    "        reward += curr_reward\n",
    "    \n",
    "    cum_reward.append(reward)"
   ]
  },
  {
   "cell_type": "code",
   "execution_count": null,
   "id": "aa273917",
   "metadata": {},
   "outputs": [],
   "source": []
  }
 ],
 "metadata": {
  "kernelspec": {
   "display_name": "Python 3 (ipykernel)",
   "language": "python",
   "name": "python3"
  },
  "language_info": {
   "codemirror_mode": {
    "name": "ipython",
    "version": 3
   },
   "file_extension": ".py",
   "mimetype": "text/x-python",
   "name": "python",
   "nbconvert_exporter": "python",
   "pygments_lexer": "ipython3",
   "version": "3.8.6"
  }
 },
 "nbformat": 4,
 "nbformat_minor": 5
}
