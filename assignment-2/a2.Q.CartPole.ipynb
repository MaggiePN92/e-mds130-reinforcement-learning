{
 "cells": [
  {
   "cell_type": "markdown",
   "metadata": {},
   "source": [
    "## Assignment 2 - Solving the CartPole problem using Q-Learning with Experience Replay\n",
    "\n",
    "**Lecture 3** introduced you to the Q-Learning Algorithm and its variants: traditional Q-Learning, Q Learning with Experience Replay, and Q Learning using a target network. \n",
    "\n",
    "Furthermore, **lecture 4** also introduced you to another algorithm: REINFORCE. We used this algorithm to solve for OpenAI gym CartPole problem (https://gym.openai.com/envs/CartPole-v1/)\n",
    "\n",
    "### A. Tasks\n",
    "In this assignment, you are required to solve for the **OpenAI gym - CartPole-v1** problem using **Q Learning with Experience Replay**. \n",
    "The CartPole problem is **considered solved if a cumulative score for an episode of +200 is received**. \n",
    "\n",
    "Please input your code into ```B: Answer```\n",
    "- Your code should consist of a deep ANN model. Use your own judgment on the architecture and hyperparameters of the network\n",
    "- A training loop to learn from the environment\n",
    "- Report on the training loss\n",
    "- After training, test the model on a fresh instance of the environment. Report on the cumulative reward received after one episode / game.\n",
    "\n",
    "Note: If part of your code is not working or you have difficulty getting an optimal solution, write your intuition/explanation of what you wanted to achieve as comments prior to that part of the code/function\n",
    "\n"
   ]
  },
  {
   "cell_type": "markdown",
   "metadata": {},
   "source": [
    "### B. Answer"
   ]
  },
  {
   "cell_type": "code",
   "execution_count": null,
   "metadata": {},
   "outputs": [],
   "source": [
    "# <<YOUR CODE HERE>>"
   ]
  }
 ],
 "metadata": {
  "interpreter": {
   "hash": "31f2aee4e71d21fbe5cf8b01ff0e069b9275f58929596ceb00d14d90e3e16cd6"
  },
  "kernelspec": {
   "display_name": "Python 3 (ipykernel)",
   "language": "python",
   "name": "python3"
  },
  "language_info": {
   "codemirror_mode": {
    "name": "ipython",
    "version": 3
   },
   "file_extension": ".py",
   "mimetype": "text/x-python",
   "name": "python",
   "nbconvert_exporter": "python",
   "pygments_lexer": "ipython3",
   "version": "3.8.6"
  }
 },
 "nbformat": 4,
 "nbformat_minor": 2
}
