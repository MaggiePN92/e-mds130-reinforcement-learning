{
 "cells": [
  {
   "cell_type": "code",
   "execution_count": 16,
   "id": "f23e44f3",
   "metadata": {},
   "outputs": [],
   "source": [
    "import torch"
   ]
  },
  {
   "cell_type": "code",
   "execution_count": 3,
   "id": "2b82b09c",
   "metadata": {},
   "outputs": [],
   "source": [
    "a = torch.randn((2))"
   ]
  },
  {
   "cell_type": "code",
   "execution_count": 4,
   "id": "435faef1",
   "metadata": {},
   "outputs": [
    {
     "data": {
      "text/plain": [
       "torch.Size([2])"
      ]
     },
     "execution_count": 4,
     "metadata": {},
     "output_type": "execute_result"
    }
   ],
   "source": [
    "a.shape"
   ]
  },
  {
   "cell_type": "code",
   "execution_count": 7,
   "id": "f20e3602",
   "metadata": {},
   "outputs": [],
   "source": [
    "a_np = a.data.cpu().numpy()"
   ]
  },
  {
   "cell_type": "code",
   "execution_count": 7,
   "id": "19926d87",
   "metadata": {},
   "outputs": [],
   "source": [
    "import numpy as np"
   ]
  },
  {
   "cell_type": "code",
   "execution_count": 9,
   "id": "aa868a05",
   "metadata": {},
   "outputs": [
    {
     "data": {
      "text/plain": [
       "1"
      ]
     },
     "execution_count": 9,
     "metadata": {},
     "output_type": "execute_result"
    }
   ],
   "source": [
    "np.argmax(a_np)"
   ]
  },
  {
   "cell_type": "code",
   "execution_count": 11,
   "id": "e0690420",
   "metadata": {},
   "outputs": [
    {
     "data": {
      "text/plain": [
       "1"
      ]
     },
     "execution_count": 11,
     "metadata": {},
     "output_type": "execute_result"
    }
   ],
   "source": [
    "torch.argmax(a).item()"
   ]
  },
  {
   "cell_type": "code",
   "execution_count": 7,
   "id": "3e6bd602",
   "metadata": {},
   "outputs": [],
   "source": [
    "indices = torch.randperm(a.shape[0])"
   ]
  },
  {
   "cell_type": "code",
   "execution_count": 8,
   "id": "0cff6835",
   "metadata": {},
   "outputs": [
    {
     "data": {
      "text/plain": [
       "tensor([5, 3, 2, 6, 4, 7, 0, 8, 1, 9])"
      ]
     },
     "execution_count": 8,
     "metadata": {},
     "output_type": "execute_result"
    }
   ],
   "source": [
    "indices"
   ]
  },
  {
   "cell_type": "code",
   "execution_count": 4,
   "id": "1f4868b5",
   "metadata": {},
   "outputs": [],
   "source": [
    "import gym\n",
    "from collections import deque, namedtuple"
   ]
  },
  {
   "cell_type": "code",
   "execution_count": 25,
   "id": "1b745c06",
   "metadata": {},
   "outputs": [],
   "source": [
    "model = torch.nn.Sequential(\n",
    "            torch.nn.Linear(4, 100),\n",
    "            torch.nn.ReLU(),\n",
    "            torch.nn.Linear(100, 110),\n",
    "            torch.nn.ReLU(),\n",
    "            torch.nn.Linear(110, 2)\n",
    "        )"
   ]
  },
  {
   "cell_type": "code",
   "execution_count": 2,
   "id": "20e2894e",
   "metadata": {},
   "outputs": [],
   "source": [
    "env=gym.make(\"CartPole-v1\")"
   ]
  },
  {
   "cell_type": "code",
   "execution_count": 3,
   "id": "cde80af3",
   "metadata": {},
   "outputs": [
    {
     "data": {
      "text/plain": [
       "array([-0.02816831,  0.01436686,  0.0382335 ,  0.04633472], dtype=float32)"
      ]
     },
     "execution_count": 3,
     "metadata": {},
     "output_type": "execute_result"
    }
   ],
   "source": [
    "state = env.reset()"
   ]
  },
  {
   "cell_type": "code",
   "execution_count": 11,
   "id": "38b9837f",
   "metadata": {},
   "outputs": [],
   "source": [
    "Exp = namedtuple(\"buffer\", field_names=[\"state\", \"action\", \"reward\", \"done\", \"next_state\"])\n",
    "replay = deque(maxlen=1000)\n",
    "batch_size = 10"
   ]
  },
  {
   "cell_type": "code",
   "execution_count": 18,
   "id": "da1bfef6",
   "metadata": {},
   "outputs": [],
   "source": [
    "for i in range(1000):\n",
    "    state = torch.from_numpy(env.reset())\n",
    "    next_state = torch.from_numpy(env.reset())\n",
    "    \n",
    "    action = np.random.choice(2)\n",
    "    reward = np.random.choice(2)\n",
    "    done = np.random.choice(2)\n",
    "    \n",
    "    replay.append(Exp(state, action, reward, done, next_state))"
   ]
  },
  {
   "cell_type": "code",
   "execution_count": 19,
   "id": "73ada1bc",
   "metadata": {},
   "outputs": [],
   "source": [
    "random_indices = np.random.choice(len(replay), batch_size, replace=False)"
   ]
  },
  {
   "cell_type": "code",
   "execution_count": 20,
   "id": "a2113f82",
   "metadata": {},
   "outputs": [
    {
     "data": {
      "text/plain": [
       "array([205, 878, 242, 525, 625, 480, 636, 960, 985, 561])"
      ]
     },
     "execution_count": 20,
     "metadata": {},
     "output_type": "execute_result"
    }
   ],
   "source": [
    "random_indices"
   ]
  },
  {
   "cell_type": "code",
   "execution_count": 21,
   "id": "41533ec8",
   "metadata": {},
   "outputs": [],
   "source": [
    "state_batch = torch.stack([replay[idx].state for idx in random_indices])\n",
    "next_state_batch = torch.stack([replay[idx].next_state for idx in random_indices])\n",
    "\n",
    "action_batch = torch.Tensor([replay[idx].action for idx in random_indices])\n",
    "reward_batch = torch.Tensor([replay[idx].reward for idx in random_indices])\n",
    "done_batch = torch.Tensor([replay[idx].done for idx in random_indices])"
   ]
  },
  {
   "cell_type": "code",
   "execution_count": 22,
   "id": "80a5293e",
   "metadata": {},
   "outputs": [
    {
     "data": {
      "text/plain": [
       "tensor([[ 0.0249,  0.0490, -0.0495, -0.0219],\n",
       "        [-0.0473, -0.0043, -0.0055, -0.0251],\n",
       "        [-0.0087,  0.0299,  0.0339,  0.0460],\n",
       "        [ 0.0240,  0.0024, -0.0018, -0.0266],\n",
       "        [-0.0380,  0.0213, -0.0271, -0.0274],\n",
       "        [ 0.0487,  0.0271, -0.0224, -0.0051],\n",
       "        [ 0.0346, -0.0376, -0.0487, -0.0044],\n",
       "        [ 0.0170, -0.0027, -0.0158,  0.0142],\n",
       "        [ 0.0027,  0.0031,  0.0209,  0.0150],\n",
       "        [-0.0495,  0.0387,  0.0492,  0.0480]])"
      ]
     },
     "execution_count": 22,
     "metadata": {},
     "output_type": "execute_result"
    }
   ],
   "source": [
    "state_batch"
   ]
  },
  {
   "cell_type": "code",
   "execution_count": 27,
   "id": "df8dfd9a",
   "metadata": {},
   "outputs": [
    {
     "data": {
      "text/plain": [
       "tensor([8.8088e-03, 1.0000e+00, 1.0040e+00, 1.0000e+00, 0.0000e+00, 3.8696e-04,\n",
       "        1.5614e-03, 0.0000e+00, 0.0000e+00, 1.0010e-02],\n",
       "       grad_fn=<AddBackward0>)"
      ]
     },
     "execution_count": 27,
     "metadata": {},
     "output_type": "execute_result"
    }
   ],
   "source": [
    "reward_batch + 0.99 * ((1 - done_batch) * torch.max(model(next_state_batch), dim=1)[0])"
   ]
  },
  {
   "cell_type": "code",
   "execution_count": 30,
   "id": "979bd18b",
   "metadata": {},
   "outputs": [
    {
     "data": {
      "text/plain": [
       "tensor([[-8.5250e-02,  8.8978e-03],\n",
       "        [-8.2446e-02,  4.2490e-03],\n",
       "        [-8.3185e-02,  4.0662e-03],\n",
       "        [-8.7152e-02,  3.3991e-05],\n",
       "        [-8.5582e-02,  8.6059e-03],\n",
       "        [-8.6142e-02,  3.9086e-04],\n",
       "        [-8.7380e-02,  1.5772e-03],\n",
       "        [-8.8993e-02,  7.4519e-04],\n",
       "        [-8.2660e-02,  3.1855e-03],\n",
       "        [-8.6332e-02,  1.0111e-02]], grad_fn=<AddmmBackward0>)"
      ]
     },
     "execution_count": 30,
     "metadata": {},
     "output_type": "execute_result"
    }
   ],
   "source": [
    "model(next_state_batch)"
   ]
  },
  {
   "cell_type": "code",
   "execution_count": 36,
   "id": "80c091cc",
   "metadata": {},
   "outputs": [
    {
     "data": {
      "text/plain": [
       "tensor([-0.0873, -0.0861, -0.0021,  0.0049, -0.0873, -0.0856,  0.0094,  0.0041,\n",
       "         0.0017, -0.0884], grad_fn=<SqueezeBackward0>)"
      ]
     },
     "execution_count": 36,
     "metadata": {},
     "output_type": "execute_result"
    }
   ],
   "source": [
    "model(state_batch).gather(dim=1, index=action_batch.long().unsqueeze(dim=1)).squeeze()"
   ]
  },
  {
   "cell_type": "code",
   "execution_count": 37,
   "id": "dae5f0f1",
   "metadata": {},
   "outputs": [
    {
     "data": {
      "text/plain": [
       "tensor([[-0.0873,  0.0024],\n",
       "        [-0.0861,  0.0042],\n",
       "        [-0.0868, -0.0021],\n",
       "        [-0.0843,  0.0049],\n",
       "        [-0.0873,  0.0033],\n",
       "        [-0.0856,  0.0032],\n",
       "        [-0.0862,  0.0094],\n",
       "        [-0.0859,  0.0041],\n",
       "        [-0.0847,  0.0017],\n",
       "        [-0.0884, -0.0045]], grad_fn=<AddmmBackward0>)"
      ]
     },
     "execution_count": 37,
     "metadata": {},
     "output_type": "execute_result"
    }
   ],
   "source": [
    "model(state_batch)"
   ]
  },
  {
   "cell_type": "code",
   "execution_count": 41,
   "id": "2f2eba64",
   "metadata": {},
   "outputs": [
    {
     "data": {
      "text/plain": [
       "tensor([0, 0, 1, 1, 0, 0, 1, 1, 1, 0], dtype=torch.int32)"
      ]
     },
     "execution_count": 41,
     "metadata": {},
     "output_type": "execute_result"
    }
   ],
   "source": [
    "action_batch.int()"
   ]
  },
  {
   "cell_type": "code",
   "execution_count": 42,
   "id": "fde1a859",
   "metadata": {},
   "outputs": [
    {
     "data": {
      "text/plain": [
       "tensor([0, 0, 1, 1, 0, 0, 1, 1, 1, 0])"
      ]
     },
     "execution_count": 42,
     "metadata": {},
     "output_type": "execute_result"
    }
   ],
   "source": [
    "action_batch.long()"
   ]
  },
  {
   "cell_type": "code",
   "execution_count": null,
   "id": "dc085b95",
   "metadata": {},
   "outputs": [],
   "source": []
  }
 ],
 "metadata": {
  "kernelspec": {
   "display_name": "Python 3 (ipykernel)",
   "language": "python",
   "name": "python3"
  },
  "language_info": {
   "codemirror_mode": {
    "name": "ipython",
    "version": 3
   },
   "file_extension": ".py",
   "mimetype": "text/x-python",
   "name": "python",
   "nbconvert_exporter": "python",
   "pygments_lexer": "ipython3",
   "version": "3.8.6"
  }
 },
 "nbformat": 4,
 "nbformat_minor": 5
}
