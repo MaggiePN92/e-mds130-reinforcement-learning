{
 "cells": [
  {
   "cell_type": "markdown",
   "metadata": {},
   "source": [
    "## Assignment 1 - Hand Written Digit Recognition\n",
    "\n",
    "### A. Tasks\n",
    "Answers to the tasks should be entered into the appropriate sub-section inside the section ```C. Answers``` found towards the end of this notebook\n",
    "\n",
    "For some of the tasks, you may be asked to change the code directly inside the section ```B.Code```. For these tasks, describe the changes you made to the code in their appropriate sub-section inside the section ```C. Answers```\n",
    "\n",
    "1. Review the code and write a summary explaining what each of the sub-sections ```B1``` to ```B11``` performs.\n",
    "\n",
    "\n",
    "\n",
    "2. Change the number of hidden neurons in sub-section ```B.4``` and run the complete notebook. You need to run the notebook nine times and for each run change the number of hidden neurons to one of these values ```20, 40, 60, 80, 100, 120, 140, 180, 200```. Record the test MAPE after each run. Explain your observation on how increasing or decreasing the number of hidden neurons impact the test error.\n",
    "\n",
    "\n",
    "\n",
    "3. How does increasing or decreasing the learning rate (lr) from sub-section ```B.6``` affect the training process. You may change the learning rate value ```0.9, 0.1, 0.01, 0.001, 0.0001``` and describe your observations\n",
    "\n",
    "\n",
    "\n",
    "4. **[Optional | Advanced]** If we want to insert another hidden layer, we need to change sub-section ```B.3```, ```B.4```, ```B.5```, ```B.9``` and ```B.10```\n",
    "    - Can you comment on what needs to be changed to have another hidden layer\n",
    "    - Can you implement the changes so that the network will have two hidden layers"
   ]
  },
  {
   "cell_type": "markdown",
   "metadata": {},
   "source": [
    "### B. Code"
   ]
  },
  {
   "cell_type": "code",
   "execution_count": 1,
   "metadata": {},
   "outputs": [],
   "source": [
    "import numpy as np\n",
    "from matplotlib import pyplot as plt\n",
    "\n",
    "import torch\n",
    "\n",
    "# TorchVision provides a lot of sample dataset. \n",
    "# We are interested in the MNIST dataset\n",
    "# The dataset comprises of pixel data for different handwritten\n",
    "# digits and a text label describing the same\n",
    "from torchvision.datasets import MNIST"
   ]
  },
  {
   "cell_type": "markdown",
   "metadata": {},
   "source": [
    "#### B.1 Preping the dataset"
   ]
  },
  {
   "cell_type": "code",
   "execution_count": 2,
   "metadata": {},
   "outputs": [
    {
     "name": "stdout",
     "output_type": "stream",
     "text": [
      "shape of the dataset: torch.Size([60000, 28, 28]), and its label: torch.Size([60000])\n"
     ]
    }
   ],
   "source": [
    "# Toggle the download value to True, if the dataset is not locally available\n",
    "mnist_data = MNIST('MNIST', train=True, download=False)\n",
    "# mnist_data.data contains the pixel imformation for 60000 images\n",
    "# mnist_data.targets contain the text label for the 60000 images\n",
    "print('shape of the dataset: {}, and its label: {}'.format(mnist_data.data.shape, mnist_data.targets.shape))"
   ]
  },
  {
   "cell_type": "markdown",
   "metadata": {},
   "source": [
    "#### B.2 Visualizing the dataset"
   ]
  },
  {
   "cell_type": "code",
   "execution_count": 3,
   "metadata": {},
   "outputs": [
    {
     "data": {
      "image/png": "[encoded data removed]",
      "text/plain": [
       "<Figure size 432x288 with 9 Axes>"
      ]
     },
     "metadata": {
      "needs_background": "light"
     },
     "output_type": "display_data"
    }
   ],
   "source": [
    "# We will visualize nine randomly choosen images\n",
    "indices = np.random.choice(len(mnist_data.data), size=9)\n",
    "\n",
    "fig, axs = plt.subplots(3 ,3)\n",
    "\n",
    "for i, ax in enumerate(axs.flatten()):\n",
    "    ax.imshow(mnist_data.data[i])\n",
    "    ax.set_title('label: {}'.format(mnist_data.targets[i]))\n",
    "    # Removes x and y axis labels and ticks\n",
    "    ax.axes.xaxis.set_visible(False)\n",
    "    ax.axes.yaxis.set_visible(False)\n",
    "\n",
    "fig.tight_layout()\n",
    "\n"
   ]
  },
  {
   "cell_type": "code",
   "execution_count": 4,
   "metadata": {},
   "outputs": [],
   "source": [
    "# Specifying the layers of the ann. \n",
    "# This network will have\n",
    "# l1: Input -> Hidden\n",
    "# l2: Hidden -> Output\n",
    "def nn(x, w1, w2):\n",
    "    # Dot product can also be calculated using the operator symbol @\n",
    "    l1 = x @ w1\n",
    "    \n",
    "    # We use the RELU activation function rather than Sigmoid. \n",
    "    # Recent research shows RELU outperforming Sigmoid in many cases. In purticular addressing the issue of vanishing gradient\n",
    "    # More about RELU: https://www.kaggle.com/code/dansbecker/rectified-linear-units-relu-in-deep-learning/notebook\n",
    "    l1 = torch.relu(l1)\n",
    "    l2 = l1 @ w2\n",
    "\n",
    "    return l2\n",
    "    \n"
   ]
  },
  {
   "cell_type": "markdown",
   "metadata": {},
   "source": [
    "#### B.4 Neuron per layer"
   ]
  },
  {
   "cell_type": "code",
   "execution_count": 1,
   "metadata": {
    "collapsed": true
   },
   "outputs": [
    {
     "ename": "NameError",
     "evalue": "name 'mnist_data' is not defined",
     "output_type": "error",
     "traceback": [
      "\u001b[0;31m---------------------------------------------------------------------------\u001b[0m",
      "\u001b[0;31mNameError\u001b[0m                                 Traceback (most recent call last)",
      "Input \u001b[0;32mIn [1]\u001b[0m, in \u001b[0;36m<cell line: 13>\u001b[0;34m()\u001b[0m\n\u001b[1;32m      9\u001b[0m hNeurons \u001b[38;5;241m=\u001b[39m \u001b[38;5;241m120\u001b[39m\n\u001b[1;32m     11\u001b[0m \u001b[38;5;66;03m# The number of unique labels for this dataset will be 0 to 1 or 10 unique labels since it recognizes handwritten digits\u001b[39;00m\n\u001b[1;32m     12\u001b[0m \u001b[38;5;66;03m# We can extract that from the targets as well\u001b[39;00m\n\u001b[0;32m---> 13\u001b[0m outNeurons \u001b[38;5;241m=\u001b[39m \u001b[38;5;28mlen\u001b[39m(\u001b[43mmnist_data\u001b[49m\u001b[38;5;241m.\u001b[39mtargets\u001b[38;5;241m.\u001b[39munique())\n",
      "\u001b[0;31mNameError\u001b[0m: name 'mnist_data' is not defined"
     ]
    }
   ],
   "source": [
    "# Specify the number of neurons in each layer: Input, Hidden1, Hidden2, Output\n",
    "# We can observe from the shape of the dataset that each image has the pixel information represented as a 28x28 matrix\n",
    "# We can flatten it and feed each pixel to a neuron. Therefore, the number of neurons in the input layer will be 28 * 28 - 784\n",
    "inNeurons = 784\n",
    "\n",
    "# There are not explicit formula to determine the number of neurons in the hidden layers\n",
    "# The optimal number of neurons for the hidden layers can be identified by trail and error\n",
    "# In this case we arbitrarily choose the set the the following number of neurons for the hidden layers\n",
    "hNeurons = 120\n",
    "\n",
    "# The number of unique labels for this dataset will be 0 to 1 or 10 unique labels since it recognizes handwritten digits\n",
    "# We can extract that from the targets as well\n",
    "outNeurons = len(mnist_data.targets.unique())\n"
   ]
  },
  {
   "cell_type": "markdown",
   "metadata": {},
   "source": [
    "#### B.5 Generating random weights"
   ]
  },
  {
   "cell_type": "code",
   "execution_count": 6,
   "metadata": {},
   "outputs": [
    {
     "name": "stdout",
     "output_type": "stream",
     "text": [
      "shape of w1: torch.Size([784, 120]), w2: torch.Size([120, 10])\n"
     ]
    }
   ],
   "source": [
    "# initialize the random seed for torch\n",
    "torch.seed = 42\n",
    "\n",
    "# Randomly generate the weights. Set requires_grad True for all\n",
    "w1 = torch.randn(inNeurons, hNeurons, requires_grad=True)\n",
    "w2 = torch.randn(hNeurons, outNeurons, requires_grad=True)\n",
    "\n",
    "print('shape of w1: {}, w2: {}'.format(w1.shape, w2.shape))"
   ]
  },
  {
   "cell_type": "markdown",
   "metadata": {},
   "source": [
    "#### B.6 Hyperparameter tuning"
   ]
  },
  {
   "cell_type": "code",
   "execution_count": 7,
   "metadata": {},
   "outputs": [],
   "source": [
    "# Specify the learning rate\n",
    "lr = 0.001\n",
    "# Number of times we want to pass through the dataset through the network\n",
    "epochs = 2000\n",
    "# During each pass through, we will randomly select a subset of data. The size of the subset is specified\n",
    "batch_size = 100"
   ]
  },
  {
   "cell_type": "markdown",
   "metadata": {},
   "source": [
    "#### B.7 Loss and Optimization Functions"
   ]
  },
  {
   "cell_type": "code",
   "execution_count": 8,
   "metadata": {},
   "outputs": [],
   "source": [
    "# We specify our loss and optimization functions.\n",
    "# For this case, we use CrossEntropyLoss as the loss function as it suits classification problems. More can be read at: https://pytorch.org/docs/stable/generated/torch.nn.CrossEntropyLoss.html\n",
    "lossfn = torch.nn.CrossEntropyLoss()\n",
    "# For optimizer we choose ADAM, as adam showes better results than SGD. More can be read at: https://arxiv.org/abs/1412.6980\n",
    "optim = torch.optim.Adam(params=[w1, w2], lr=lr)"
   ]
  },
  {
   "cell_type": "markdown",
   "metadata": {},
   "source": [
    "#### B.8 Train Test Split"
   ]
  },
  {
   "cell_type": "code",
   "execution_count": 9,
   "metadata": {},
   "outputs": [
    {
     "name": "stdout",
     "output_type": "stream",
     "text": [
      "total number of records in the dataset 60000. 48000 records were choosen for the train set and 12000 records for the test set equalling to 60000\n"
     ]
    }
   ],
   "source": [
    "# We will split the dataset into two: Train set and Test Set\n",
    "# Train set will contain 80% of the original data set along with their corresponding targets\n",
    "# The remaining 20% will be choosen as the Test Set\n",
    "\n",
    "# We will perform the train-test split by randomly choosing 80% of non-repeating indices from the data set and placing then into trainIndices\n",
    "n = len(mnist_data.data)\n",
    "trainIndices = np.random.choice(n, size=int(np.round(.8 * n)), replace=False)\n",
    "# All other indices not present in the trainIndices will be placed into testIndices\n",
    "testIndices = np.setdiff1d(np.arange(n), trainIndices)\n",
    "print('total number of records in the dataset {}. {} records were choosen for the train set and {} records for the test set equalling to {}'.format(\n",
    "    n, len(trainIndices), len(testIndices), len(trainIndices) + len(testIndices)\n",
    "))"
   ]
  },
  {
   "cell_type": "markdown",
   "metadata": {},
   "source": [
    "#### B.9 Train the model"
   ]
  },
  {
   "cell_type": "code",
   "execution_count": 10,
   "metadata": {},
   "outputs": [
    {
     "name": "stdout",
     "output_type": "stream",
     "text": [
      "epoch: 0, error: 97.71\n",
      "epoch: 200, error: 10.68\n",
      "epoch: 400, error: 7.49\n",
      "epoch: 600, error: 5.80\n",
      "epoch: 800, error: 5.92\n",
      "epoch: 1000, error: 2.76\n",
      "epoch: 1200, error: 3.19\n",
      "epoch: 1400, error: 1.44\n",
      "epoch: 1600, error: 5.49\n",
      "epoch: 1800, error: 2.73\n"
     ]
    }
   ],
   "source": [
    "# We pass the specified batch size of records through the network and perform back propogation at each itteration\n",
    "for e in range(epochs):\n",
    "    # Choose the records for the batch from the trainIndices\n",
    "    rid = np.random.choice(trainIndices, size=batch_size)\n",
    "    # We retrieve the pixel data and for these record indices and flatten the 28x28 image into a vector of size 784 \n",
    "    x = mnist_data.data[rid].float().flatten(start_dim=1)\n",
    "    # Normalize the vector to be between 0 and 1\n",
    "    x = x / x.max()\n",
    "    # Make a prediction using the neural network\n",
    "    pred = nn(x, w1, w2)\n",
    "    # Get the ground truth image labels\n",
    "    target = mnist_data.targets[rid]\n",
    "    # Compute the loss\n",
    "    loss = lossfn(pred, target)\n",
    "    # Perform backpropogation\n",
    "    loss.backward()\n",
    "    # Update the params\n",
    "    optim.step()\n",
    "    # Reset the gradients after updating the params\n",
    "    optim.zero_grad()\n",
    "\n",
    "    # Print the progress\n",
    "    if e % np.round(epochs/10) == 0:        \n",
    "        print('epoch: {:d}, error: {:.2f}'.format(e, loss))"
   ]
  },
  {
   "cell_type": "markdown",
   "metadata": {},
   "source": [
    "#### B.10 Test the model on unseen or the test dataset"
   ]
  },
  {
   "cell_type": "code",
   "execution_count": 11,
   "metadata": {},
   "outputs": [
    {
     "name": "stdout",
     "output_type": "stream",
     "text": [
      "error: 11.24550724029541 %\n"
     ]
    }
   ],
   "source": [
    "# We choose the records as per the test indices\n",
    "x = mnist_data.data[testIndices].float().flatten(start_dim=1)\n",
    "# Pass them through the network to get the predictions\n",
    "pred = nn(x, w1, w2)\n",
    "# The predicted values is a matric with the rows representing total number of records and \n",
    "# columns the weights for the each unique class\n",
    "# For the vector of weights for each row, we will use np.argmax to find out the index which has the max weight\n",
    "# That index will be choosen as the predicted label for the row\n",
    "predLabels = pred.argmax(axis=1)\n",
    "\n",
    "# Get the test dataset actual values\n",
    "target = mnist_data.targets[testIndices]\n",
    "\n",
    "# We will use Mean Absolute Percentage Error (MAPE) to report on the test error\n",
    "# You may read about MAPE here: https://en.wikipedia.org/wiki/Mean_absolute_percentage_error\n",
    "_predlabel = predLabels + 1 # Offset the 0 label\n",
    "_target = target + 1 # Offset the 0 label\n",
    "print('error: {} %'.format( torch.mean(torch.abs((_target - _predlabel) / _target)) * 100 ))\n",
    "_predlabel = _predlabel - 1 # Undo the offset change\n"
   ]
  },
  {
   "cell_type": "markdown",
   "metadata": {},
   "source": [
    "#### B.11 Visualizing the test dataset\n",
    "##### Compare the actual and predicted values"
   ]
  },
  {
   "cell_type": "code",
   "execution_count": 12,
   "metadata": {},
   "outputs": [
    {
     "data": {
      "image/png": "[encoded data removed]",
      "text/plain": [
       "<Figure size 432x288 with 9 Axes>"
      ]
     },
     "metadata": {
      "needs_background": "light"
     },
     "output_type": "display_data"
    }
   ],
   "source": [
    "import random\n",
    "\n",
    "# We will visualize nine randomly choosen images\n",
    "# We choose 9 images from the test dataset and their corresponding index for the predicted dataset\n",
    "# indices will capture the predictedIndex and testIndex to choose as [(predictedIndex, testIndex), ...]\n",
    "indices = [random.choice(list(enumerate(testIndices))) for _ in range(9)]\n",
    "\n",
    "fig, axs = plt.subplots(3 ,3)\n",
    "\n",
    "for i, ax in enumerate(axs.flatten()):\n",
    "    ax.imshow(mnist_data.data[indices[i][1]])\n",
    "    ax.set_title('a: {}, p: {}'.format(mnist_data.targets[indices[i][1]], _predlabel[indices[i][0]]))\n",
    "    # Removes x and y axis labels and ticks\n",
    "    ax.axes.xaxis.set_visible(False)\n",
    "    ax.axes.yaxis.set_visible(False)\n",
    "\n",
    "fig.tight_layout()\n",
    "\n"
   ]
  },
  {
   "cell_type": "markdown",
   "metadata": {},
   "source": [
    "### C. Answers"
   ]
  },
  {
   "cell_type": "markdown",
   "metadata": {},
   "source": [
    "#### C.1 Task 1\n",
    "------------\n",
    "Your Answer Here"
   ]
  },
  {
   "cell_type": "markdown",
   "metadata": {},
   "source": [
    "#### C.2 Task 2\n",
    "------------\n",
    "Your Answer Here"
   ]
  },
  {
   "cell_type": "markdown",
   "metadata": {},
   "source": [
    "#### C.3 Task 3\n",
    "------------\n",
    "Your Answer Here"
   ]
  },
  {
   "cell_type": "markdown",
   "metadata": {},
   "source": [
    "#### C.4 Task 4\n",
    "------------\n",
    "Your Answer Here"
   ]
  }
 ],
 "metadata": {
  "interpreter": {
   "hash": "31f2aee4e71d21fbe5cf8b01ff0e069b9275f58929596ceb00d14d90e3e16cd6"
  },
  "kernelspec": {
   "display_name": "Python 3 (ipykernel)",
   "language": "python",
   "name": "python3"
  },
  "language_info": {
   "codemirror_mode": {
    "name": "ipython",
    "version": 3
   },
   "file_extension": ".py",
   "mimetype": "text/x-python",
   "name": "python",
   "nbconvert_exporter": "python",
   "pygments_lexer": "ipython3",
   "version": "3.8.6"
  }
 },
 "nbformat": 4,
 "nbformat_minor": 2
}
