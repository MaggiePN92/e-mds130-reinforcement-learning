{
 "cells": [
  {
   "cell_type": "markdown",
   "metadata": {},
   "source": [
    "## Assignment 1 - Hand Written Digit Recognition\n",
    "\n",
    "### A. Tasks\n",
    "Answers to the tasks should be entered into the appropriate sub-section inside the section ```C. Answers``` found towards the end of this notebook\n",
    "\n",
    "For some of the tasks, you may be asked to change the code directly inside the section ```B.Code```. For these tasks, describe the changes you made to the code in their appropriate sub-section inside the section ```C. Answers```\n",
    "\n",
    "1. Review the code and write a summary explaining what each of the sub-sections ```B1``` to ```B11``` performs.\n",
    "\n",
    "\n",
    "\n",
    "2. Change the number of hidden neurons in sub-section ```B.4``` and run the complete notebook. You need to run the notebook nine times and for each run change the number of hidden neurons to one of these values ```20, 40, 60, 80, 100, 120, 140, 180, 200```. Record the test MAPE after each run. Explain your observation on how increasing or decreasing the number of hidden neurons impact the test error.\n",
    "\n",
    "\n",
    "\n",
    "3. How does increasing or decreasing the learning rate (lr) from sub-section ```B.6``` affect the training process. You may change the learning rate value ```0.9, 0.1, 0.01, 0.001, 0.0001``` and describe your observations\n",
    "\n",
    "\n",
    "\n",
    "4. **[Optional | Advanced]** If we want to insert another hidden layer, we need to change sub-section ```B.3```, ```B.4```, ```B.5```, ```B.9``` and ```B.10```\n",
    "    - Can you comment on what needs to be changed to have another hidden layer\n",
    "    - Can you implement the changes so that the network will have two hidden layers"
   ]
  },
  {
   "cell_type": "markdown",
   "metadata": {},
   "source": [
    "### B. Code"
   ]
  },
  {
   "cell_type": "code",
   "execution_count": 31,
   "metadata": {},
   "outputs": [],
   "source": [
    "import numpy as np\n",
    "from matplotlib import pyplot as plt\n",
    "\n",
    "import torch\n",
    "\n",
    "# TorchVision provides a lot of sample dataset. \n",
    "# We are interested in the MNIST dataset\n",
    "# The dataset comprises of pixel data for different handwritten\n",
    "# digits and a text label describing the same\n",
    "from torchvision.datasets import MNIST"
   ]
  },
  {
   "cell_type": "markdown",
   "metadata": {},
   "source": [
    "#### B.1 Preping the dataset"
   ]
  },
  {
   "cell_type": "code",
   "execution_count": 32,
   "metadata": {},
   "outputs": [
    {
     "name": "stdout",
     "output_type": "stream",
     "text": [
      "shape of the dataset: torch.Size([60000, 28, 28]), and its label: torch.Size([60000])\n"
     ]
    }
   ],
   "source": [
    "# Toggle the download value to True, if the dataset is not locally available\n",
    "mnist_data = MNIST('MNIST', train=True, download=True)\n",
    "# mnist_data.data contains the pixel imformation for 60000 images\n",
    "# mnist_data.targets contain the text label for the 60000 images\n",
    "print('shape of the dataset: {}, and its label: {}'.format(mnist_data.data.shape, mnist_data.targets.shape))"
   ]
  },
  {
   "cell_type": "markdown",
   "metadata": {},
   "source": [
    "#### B.2 Visualizing the dataset"
   ]
  },
  {
   "cell_type": "code",
   "execution_count": 33,
   "metadata": {},
   "outputs": [
    {
     "data": {
      "image/png": "[encoded data removed]",
      "text/plain": [
       "<Figure size 432x288 with 9 Axes>"
      ]
     },
     "metadata": {
      "needs_background": "light"
     },
     "output_type": "display_data"
    }
   ],
   "source": [
    "# We will visualize nine randomly choosen images\n",
    "indices = np.random.choice(len(mnist_data.data), size=9)\n",
    "\n",
    "fig, axs = plt.subplots(3 ,3)\n",
    "\n",
    "for i, ax in enumerate(axs.flatten()):\n",
    "    ax.imshow(mnist_data.data[i])\n",
    "    ax.set_title('label: {}'.format(mnist_data.targets[i]))\n",
    "    # Removes x and y axis labels and ticks\n",
    "    ax.axes.xaxis.set_visible(False)\n",
    "    ax.axes.yaxis.set_visible(False)\n",
    "\n",
    "fig.tight_layout()\n",
    "\n"
   ]
  },
  {
   "cell_type": "code",
   "execution_count": 34,
   "metadata": {},
   "outputs": [],
   "source": [
    "# Specifying the layers of the ann. \n",
    "# This network will have\n",
    "# l1: Input -> Hidden\n",
    "# l2: Hidden -> Output\n",
    "def nn(x, w1, w2):\n",
    "    # Dot product can also be calculated using the operator symbol @\n",
    "    l1 = x @ w1\n",
    "    \n",
    "    # We use the RELU activation function rather than Sigmoid. \n",
    "    # Recent research shows RELU outperforming Sigmoid in many cases. In purticular addressing the issue of vanishing gradient\n",
    "    # More about RELU: https://www.kaggle.com/code/dansbecker/rectified-linear-units-relu-in-deep-learning/notebook\n",
    "    l1 = torch.relu(l1)\n",
    "    l2 = l1 @ w2\n",
    "\n",
    "    return l2\n",
    "    \n"
   ]
  },
  {
   "cell_type": "markdown",
   "metadata": {},
   "source": [
    "#### B.4 Neuron per layer"
   ]
  },
  {
   "cell_type": "code",
   "execution_count": 35,
   "metadata": {},
   "outputs": [],
   "source": [
    "# Specify the number of neurons in each layer: Input, Hidden1, Hidden2, Output\n",
    "# We can observe from the shape of the dataset that each image has the pixel information represented as a 28x28 matrix\n",
    "# We can flatten it and feed each pixel to a neuron. Therefore, the number of neurons in the input layer will be 28 * 28 - 784\n",
    "inNeurons = 784\n",
    "\n",
    "# There are not explicit formula to determine the number of neurons in the hidden layers\n",
    "# The optimal number of neurons for the hidden layers can be identified by trail and error\n",
    "# In this case we arbitrarily choose the set the the following number of neurons for the hidden layers\n",
    "hNeurons = 120\n",
    "\n",
    "# The number of unique labels for this dataset will be 0 to 1 or 10 unique labels since it recognizes handwritten digits\n",
    "# We can extract that from the targets as well\n",
    "outNeurons = len(mnist_data.targets.unique())\n"
   ]
  },
  {
   "cell_type": "markdown",
   "metadata": {},
   "source": [
    "#### B.5 Generating random weights"
   ]
  },
  {
   "cell_type": "code",
   "execution_count": 36,
   "metadata": {},
   "outputs": [
    {
     "name": "stdout",
     "output_type": "stream",
     "text": [
      "shape of w1: torch.Size([784, 120]), w2: torch.Size([120, 10])\n"
     ]
    }
   ],
   "source": [
    "# initialize the random seed for torch\n",
    "torch.seed = 42\n",
    "\n",
    "# Randomly generate the weights. Set requires_grad True for all\n",
    "w1 = torch.randn(inNeurons, hNeurons, requires_grad=True)\n",
    "w2 = torch.randn(hNeurons, outNeurons, requires_grad=True)\n",
    "\n",
    "print('shape of w1: {}, w2: {}'.format(w1.shape, w2.shape))"
   ]
  },
  {
   "cell_type": "markdown",
   "metadata": {},
   "source": [
    "#### B.6 Hyperparameter tuning"
   ]
  },
  {
   "cell_type": "code",
   "execution_count": 37,
   "metadata": {},
   "outputs": [],
   "source": [
    "# Specify the learning rate\n",
    "lr = 0.001\n",
    "# Number of times we want to pass through the dataset through the network\n",
    "epochs = 2000\n",
    "# During each pass through, we will randomly select a subset of data. The size of the subset is specified\n",
    "batch_size = 100"
   ]
  },
  {
   "cell_type": "markdown",
   "metadata": {},
   "source": [
    "#### B.7 Loss and Optimization Functions"
   ]
  },
  {
   "cell_type": "code",
   "execution_count": 38,
   "metadata": {},
   "outputs": [],
   "source": [
    "# We specify our loss and optimization functions.\n",
    "# For this case, we use CrossEntropyLoss as the loss function as it suits classification problems. More can be read at: https://pytorch.org/docs/stable/generated/torch.nn.CrossEntropyLoss.html\n",
    "lossfn = torch.nn.CrossEntropyLoss()\n",
    "# For optimizer we choose ADAM, as adam showes better results than SGD. More can be read at: https://arxiv.org/abs/1412.6980\n",
    "optim = torch.optim.Adam(params=[w1, w2], lr=lr)"
   ]
  },
  {
   "cell_type": "markdown",
   "metadata": {},
   "source": [
    "#### B.8 Train Test Split"
   ]
  },
  {
   "cell_type": "code",
   "execution_count": 39,
   "metadata": {},
   "outputs": [
    {
     "name": "stdout",
     "output_type": "stream",
     "text": [
      "total number of records in the dataset 60000. 48000 records were choosen for the train set and 12000 records for the test set equalling to 60000\n"
     ]
    }
   ],
   "source": [
    "# We will split the dataset into two: Train set and Test Set\n",
    "# Train set will contain 80% of the original data set along with their corresponding targets\n",
    "# The remaining 20% will be choosen as the Test Set\n",
    "\n",
    "# We will perform the train-test split by randomly choosing 80% of non-repeating indices from the data set and placing then into trainIndices\n",
    "n = len(mnist_data.data)\n",
    "trainIndices = np.random.choice(n, size=int(np.round(.8 * n)), replace=False)\n",
    "# All other indices not present in the trainIndices will be placed into testIndices\n",
    "testIndices = np.setdiff1d(np.arange(n), trainIndices)\n",
    "print('total number of records in the dataset {}. {} records were choosen for the train set and {} records for the test set equalling to {}'.format(\n",
    "    n, len(trainIndices), len(testIndices), len(trainIndices) + len(testIndices)\n",
    "))"
   ]
  },
  {
   "cell_type": "markdown",
   "metadata": {},
   "source": [
    "#### B.9 Train the model"
   ]
  },
  {
   "cell_type": "code",
   "execution_count": 40,
   "metadata": {},
   "outputs": [
    {
     "name": "stdout",
     "output_type": "stream",
     "text": [
      "epoch: 0, error: 110.50\n",
      "epoch: 200, error: 11.26\n",
      "epoch: 400, error: 4.90\n",
      "epoch: 600, error: 4.91\n",
      "epoch: 800, error: 4.76\n",
      "epoch: 1000, error: 4.25\n",
      "epoch: 1200, error: 5.99\n",
      "epoch: 1400, error: 2.56\n",
      "epoch: 1600, error: 3.64\n",
      "epoch: 1800, error: 1.39\n"
     ]
    }
   ],
   "source": [
    "# We pass the specified batch size of records through the network and perform back propogation at each itteration\n",
    "for e in range(epochs):\n",
    "    # Choose the records for the batch from the trainIndices\n",
    "    rid = np.random.choice(trainIndices, size=batch_size)\n",
    "    # We retrieve the pixel data and for these record indices and flatten the 28x28 image into a vector of size 784 \n",
    "    x = mnist_data.data[rid].float().flatten(start_dim=1)\n",
    "    # Normalize the vector to be between 0 and 1\n",
    "    x = x / x.max()\n",
    "    # Make a prediction using the neural network\n",
    "    pred = nn(x, w1, w2)\n",
    "    # Get the ground truth image labels\n",
    "    target = mnist_data.targets[rid]\n",
    "    # Compute the loss\n",
    "    loss = lossfn(pred, target)\n",
    "    # Perform backpropogation\n",
    "    loss.backward()\n",
    "    # Update the params\n",
    "    optim.step()\n",
    "    # Reset the gradients after updating the params\n",
    "    optim.zero_grad()\n",
    "\n",
    "    # Print the progress\n",
    "    if e % np.round(epochs/10) == 0:        \n",
    "        print('epoch: {:d}, error: {:.2f}'.format(e, loss))"
   ]
  },
  {
   "cell_type": "markdown",
   "metadata": {},
   "source": [
    "#### B.10 Test the model on unseen or the test dataset"
   ]
  },
  {
   "cell_type": "code",
   "execution_count": 41,
   "metadata": {},
   "outputs": [
    {
     "name": "stdout",
     "output_type": "stream",
     "text": [
      "error: 10.687679290771484 %\n"
     ]
    }
   ],
   "source": [
    "# We choose the records as per the test indices\n",
    "x = mnist_data.data[testIndices].float().flatten(start_dim=1)\n",
    "# Pass them through the network to get the predictions\n",
    "pred = nn(x, w1, w2)\n",
    "# The predicted values is a matric with the rows representing total number of records and \n",
    "# columns the weights for the each unique class\n",
    "# For the vector of weights for each row, we will use np.argmax to find out the index which has the max weight\n",
    "# That index will be choosen as the predicted label for the row\n",
    "predLabels = pred.argmax(axis=1)\n",
    "\n",
    "# Get the test dataset actual values\n",
    "target = mnist_data.targets[testIndices]\n",
    "\n",
    "# We will use Mean Absolute Percentage Error (MAPE) to report on the test error\n",
    "# You may read about MAPE here: https://en.wikipedia.org/wiki/Mean_absolute_percentage_error\n",
    "_predlabel = predLabels + 1 # Offset the 0 label\n",
    "_target = target + 1 # Offset the 0 label\n",
    "print('error: {} %'.format( torch.mean(torch.abs((_target - _predlabel) / _target)) * 100 ))\n",
    "_predlabel = _predlabel - 1 # Undo the offset change\n"
   ]
  },
  {
   "cell_type": "markdown",
   "metadata": {},
   "source": [
    "#### B.11 Visualizing the test dataset\n",
    "##### Compare the actual and predicted values"
   ]
  },
  {
   "cell_type": "code",
   "execution_count": 13,
   "metadata": {},
   "outputs": [
    {
     "data": {
      "image/png": "[encoded data removed]",
      "text/plain": [
       "<Figure size 432x288 with 9 Axes>"
      ]
     },
     "metadata": {
      "needs_background": "light"
     },
     "output_type": "display_data"
    }
   ],
   "source": [
    "import random\n",
    "\n",
    "# We will visualize nine randomly choosen images\n",
    "# We choose 9 images from the test dataset and their corresponding index for the predicted dataset\n",
    "# indices will capture the predictedIndex and testIndex to choose as [(predictedIndex, testIndex), ...]\n",
    "indices = [random.choice(list(enumerate(testIndices))) for _ in range(9)]\n",
    "\n",
    "fig, axs = plt.subplots(3 ,3)\n",
    "\n",
    "for i, ax in enumerate(axs.flatten()):\n",
    "    ax.imshow(mnist_data.data[indices[i][1]])\n",
    "    ax.set_title('a: {}, p: {}'.format(mnist_data.targets[indices[i][1]], _predlabel[indices[i][0]]))\n",
    "    # Removes x and y axis labels and ticks\n",
    "    ax.axes.xaxis.set_visible(False)\n",
    "    ax.axes.yaxis.set_visible(False)\n",
    "\n",
    "fig.tight_layout()\n",
    "\n"
   ]
  },
  {
   "cell_type": "markdown",
   "metadata": {},
   "source": [
    "### C. Answers"
   ]
  },
  {
   "cell_type": "markdown",
   "metadata": {},
   "source": [
    "#### C.1 Task 1\n",
    "------------\n",
    "B.1: \n",
    "You load the dataset. As you have set download to False, you must have it locally on your computer.\n",
    "\n",
    "B.2: \n",
    "You say you visualize 9 random images. But in fact the nine random indices are never used. So you are actually just visualizing the same 9 images each time. \n",
    "\n",
    "B.3: \n",
    "You define the two-layered NN consisting of an input layer, hidden layer and an output layer.\n",
    "\n",
    "The function has three parameters: \n",
    "- x is the input vector\n",
    "- w1 is the weights of the first layer\n",
    "- w2 is the weights of the second layer\n",
    "\n",
    "First you apply a linear transformation to the input by doing a dot product: x @ w1. Then you pass the result through an activation function (ReLU). Then you do another linear transformation by calculating the dot product of l1 and w2. \n",
    "\n",
    "B.4: \n",
    "- You set the numbers of numbers of input neurons (28x28)=784\n",
    "- You set the number of hidden neurons, 124\n",
    "- You set the number of output neurons, 10\n",
    "\n",
    "B.5:\n",
    "- You set a random seed so that randomly generated values can be recreated\n",
    "- Then you initialize the weights of of the two hidden layers\n",
    "- You set requires_grad = True, meaning a gradients will be calculated\n",
    "\n",
    "B.6:\n",
    "- You set learning rate; this hyperparameter decides in what degree the weights and biases should be adjusted to the gradients\n",
    "- epochs; usually determines how many passes will be made through the dataset.\n",
    "- batch size; determines how many samples should be sent through forward before grads are calculated\n",
    "\n",
    "B.7:\n",
    "- Loss fn. is set to cross entropy\n",
    "- Optimizer is set to ADAM\n",
    "\n",
    "B.8:\n",
    "- Data is split into train and test.\n",
    "- You assign 80 % of the data as training data. What data is assigned to the training set is random.\n",
    "- The remaining 20 % is assigned to the test set. \n",
    "\n",
    "B.9:\n",
    "- You train the network.\n",
    "- You select batch_size number of random samples from the training set and predict their label.\n",
    "- You normalize the data and flatten the matrix from 28x28 -> 784.\n",
    "- Then you get their true label and calculate loss. \n",
    "- Then you adjust the weights and set the gradients to zero. \n",
    "\n",
    "B.10:\n",
    "- You evaluate the network on the entire test dataset.\n",
    "- You pass the test dataset through the NN and get a matrix with predictions. Each row is a sample and in each column you have a numerical value. If the biggest value is in column 0, then label 0 is predicted for the sample. This is done by the argmax function. \n",
    "- Then you get the true label of each sample and calculate Mean Absolute Percentage Error (MAPE). \n",
    "\n",
    "B.11:\n",
    "- You visualize 9 randomly selected handwritten digits and their predictions. \n",
    "- We can see that the NN does a fairly good job of predicting the label of the images. \n"
   ]
  },
  {
   "cell_type": "markdown",
   "metadata": {},
   "source": [
    "#### C.2 Task 2\n",
    "------------\n",
    "\n",
    "num_hidden_neurons = [20, 40, 60, 80, 100, 120, 140, 180, 200]\n"
   ]
  },
  {
   "cell_type": "code",
   "execution_count": 26,
   "metadata": {},
   "outputs": [
    {
     "name": "stdout",
     "output_type": "stream",
     "text": [
      "Training network with number of hidden neurons = 20\n",
      "epoch: 0, error: 34.94\n",
      "epoch: 200, error: 6.51\n",
      "epoch: 400, error: 3.16\n",
      "epoch: 600, error: 2.20\n",
      "epoch: 800, error: 2.08\n",
      "epoch: 1000, error: 2.01\n",
      "epoch: 1200, error: 1.83\n",
      "epoch: 1400, error: 1.84\n",
      "epoch: 1600, error: 2.03\n",
      "epoch: 1800, error: 1.68\n",
      "error: 44.77924728393555 %\n",
      "---------------------------------------------------------------------------------\n",
      "Training network with number of hidden neurons = 40\n",
      "epoch: 0, error: 60.77\n",
      "epoch: 200, error: 8.02\n",
      "epoch: 400, error: 6.31\n",
      "epoch: 600, error: 2.63\n",
      "epoch: 800, error: 3.33\n",
      "epoch: 1000, error: 1.94\n",
      "epoch: 1200, error: 2.23\n",
      "epoch: 1400, error: 1.32\n",
      "epoch: 1600, error: 2.47\n",
      "epoch: 1800, error: 1.38\n",
      "error: 19.73276710510254 %\n",
      "---------------------------------------------------------------------------------\n",
      "Training network with number of hidden neurons = 60\n",
      "epoch: 0, error: 100.06\n",
      "epoch: 200, error: 10.04\n",
      "epoch: 400, error: 6.77\n",
      "epoch: 600, error: 6.53\n",
      "epoch: 800, error: 4.10\n",
      "epoch: 1000, error: 2.40\n",
      "epoch: 1200, error: 4.15\n",
      "epoch: 1400, error: 2.38\n",
      "epoch: 1600, error: 1.87\n",
      "epoch: 1800, error: 2.33\n",
      "error: 15.070432662963867 %\n",
      "---------------------------------------------------------------------------------\n",
      "Training network with number of hidden neurons = 80\n",
      "epoch: 0, error: 86.64\n",
      "epoch: 200, error: 18.00\n",
      "epoch: 400, error: 7.17\n",
      "epoch: 600, error: 6.36\n",
      "epoch: 800, error: 2.18\n",
      "epoch: 1000, error: 2.51\n",
      "epoch: 1200, error: 2.02\n",
      "epoch: 1400, error: 1.46\n",
      "epoch: 1600, error: 0.39\n",
      "epoch: 1800, error: 1.74\n",
      "error: 12.149704933166504 %\n",
      "---------------------------------------------------------------------------------\n",
      "Training network with number of hidden neurons = 100\n",
      "epoch: 0, error: 80.76\n",
      "epoch: 200, error: 8.63\n",
      "epoch: 400, error: 6.06\n",
      "epoch: 600, error: 6.04\n",
      "epoch: 800, error: 3.03\n",
      "epoch: 1000, error: 4.34\n",
      "epoch: 1200, error: 2.54\n",
      "epoch: 1400, error: 2.04\n",
      "epoch: 1600, error: 2.51\n",
      "epoch: 1800, error: 1.60\n",
      "error: 10.237371444702148 %\n",
      "---------------------------------------------------------------------------------\n",
      "Training network with number of hidden neurons = 120\n",
      "epoch: 0, error: 117.30\n",
      "epoch: 200, error: 12.98\n",
      "epoch: 400, error: 8.01\n",
      "epoch: 600, error: 7.41\n",
      "epoch: 800, error: 2.98\n",
      "epoch: 1000, error: 3.11\n",
      "epoch: 1200, error: 2.32\n",
      "epoch: 1400, error: 2.07\n",
      "epoch: 1600, error: 1.35\n",
      "epoch: 1800, error: 1.30\n",
      "error: 10.719795227050781 %\n",
      "---------------------------------------------------------------------------------\n",
      "Training network with number of hidden neurons = 140\n",
      "epoch: 0, error: 97.41\n",
      "epoch: 200, error: 15.06\n",
      "epoch: 400, error: 6.96\n",
      "epoch: 600, error: 3.12\n",
      "epoch: 800, error: 4.35\n",
      "epoch: 1000, error: 4.17\n",
      "epoch: 1200, error: 4.25\n",
      "epoch: 1400, error: 3.07\n",
      "epoch: 1600, error: 1.19\n",
      "epoch: 1800, error: 1.83\n",
      "error: 10.828352928161621 %\n",
      "---------------------------------------------------------------------------------\n",
      "Training network with number of hidden neurons = 180\n",
      "epoch: 0, error: 135.01\n",
      "epoch: 200, error: 11.03\n",
      "epoch: 400, error: 6.18\n",
      "epoch: 600, error: 3.07\n",
      "epoch: 800, error: 2.36\n",
      "epoch: 1000, error: 3.11\n",
      "epoch: 1200, error: 3.34\n",
      "epoch: 1400, error: 1.69\n",
      "epoch: 1600, error: 1.43\n",
      "epoch: 1800, error: 2.25\n",
      "error: 8.875333786010742 %\n",
      "---------------------------------------------------------------------------------\n",
      "Training network with number of hidden neurons = 200\n",
      "epoch: 0, error: 132.54\n",
      "epoch: 200, error: 10.18\n",
      "epoch: 400, error: 6.35\n",
      "epoch: 600, error: 6.32\n",
      "epoch: 800, error: 7.78\n",
      "epoch: 1000, error: 4.15\n",
      "epoch: 1200, error: 1.96\n",
      "epoch: 1400, error: 2.54\n",
      "epoch: 1600, error: 3.45\n",
      "epoch: 1800, error: 3.68\n",
      "error: 9.537909507751465 %\n",
      "---------------------------------------------------------------------------------\n"
     ]
    }
   ],
   "source": [
    "num_hidden_neurons = [20, 40, 60, 80, 100, 120, 140, 180, 200]\n",
    "x_test = mnist_data.data[testIndices].float().flatten(start_dim=1)\n",
    "\n",
    "\n",
    "for num_hidden in num_hidden_neurons:\n",
    "    print(f\"Training network with number of hidden neurons = {num_hidden}\")\n",
    "    w1 = torch.randn(inNeurons, num_hidden, requires_grad=True)\n",
    "    w2 = torch.randn(num_hidden, outNeurons, requires_grad=True)\n",
    "    \n",
    "    lossfn = torch.nn.CrossEntropyLoss()\n",
    "    optim = torch.optim.Adam(params=[w1, w2], lr=lr)\n",
    "\n",
    "    # We pass the specified batch size of records through the network and perform back propogation at each itteration\n",
    "    for e in range(epochs):\n",
    "        # Choose the records for the batch from the trainIndices\n",
    "        rid = np.random.choice(trainIndices, size=batch_size)\n",
    "        # We retrieve the pixel data and for these record indices and flatten the 28x28 image into a vector of size 784 \n",
    "        x = mnist_data.data[rid].float().flatten(start_dim=1)\n",
    "        # Normalize the vector to be between 0 and 1\n",
    "        x = x / x.max()\n",
    "        # Make a prediction using the neural network\n",
    "        pred = nn(x, w1, w2)\n",
    "        # Get the ground truth image labels\n",
    "        target = mnist_data.targets[rid]\n",
    "        # Compute the loss\n",
    "        loss = lossfn(pred, target)\n",
    "        # Perform backpropogation\n",
    "        loss.backward()\n",
    "        # Update the params\n",
    "        optim.step()\n",
    "        # Reset the gradients after updating the params\n",
    "        optim.zero_grad()\n",
    "\n",
    "        # Print the progress\n",
    "        if e % np.round(epochs/10) == 0:        \n",
    "            print('epoch: {:d}, error: {:.2f}'.format(e, loss))\n",
    "            \n",
    "\n",
    "    pred_test = nn(x_test, w1, w2)\n",
    "    predLabels = pred_test.argmax(axis=1)\n",
    "    target = mnist_data.targets[testIndices]\n",
    "    \n",
    "    _predlabel = predLabels + 1 # Offset the 0 label\n",
    "    _target = target + 1 # Offset the 0 label\n",
    "    print('error: {} %'.format( torch.mean(torch.abs((_target - _predlabel) / _target)) * 100 ))\n",
    "    print(\"---------------------------------------------------------------------------------\")"
   ]
  },
  {
   "cell_type": "markdown",
   "metadata": {},
   "source": [
    "Observations: \n",
    "- Error falls consistently untill hidden neurons = 200\n",
    "- Training slows down when we use more neurons"
   ]
  },
  {
   "cell_type": "markdown",
   "metadata": {},
   "source": [
    "#### C.3 Task 3\n",
    "------------\n",
    "Your Answer Here"
   ]
  },
  {
   "cell_type": "code",
   "execution_count": 27,
   "metadata": {},
   "outputs": [
    {
     "name": "stdout",
     "output_type": "stream",
     "text": [
      "Training network with learning rate = 0.9\n",
      "epoch: 0, error: 106.11\n",
      "epoch: 200, error: 2.30\n",
      "epoch: 400, error: 2.30\n",
      "epoch: 600, error: 2.30\n",
      "epoch: 800, error: 2.30\n",
      "epoch: 1000, error: 2.30\n",
      "epoch: 1200, error: 2.30\n",
      "epoch: 1400, error: 2.30\n",
      "epoch: 1600, error: 2.30\n",
      "epoch: 1800, error: 2.30\n",
      "error: 70.50946044921875 %\n",
      "---------------------------------------------------------------------------------\n",
      "Training network with learning rate = 0.1\n",
      "epoch: 0, error: 142.12\n",
      "epoch: 200, error: 0.55\n",
      "epoch: 400, error: 0.32\n",
      "epoch: 600, error: 0.50\n",
      "epoch: 800, error: 0.38\n",
      "epoch: 1000, error: 0.42\n",
      "epoch: 1200, error: 0.39\n",
      "epoch: 1400, error: 0.31\n",
      "epoch: 1600, error: 0.22\n",
      "epoch: 1800, error: 0.56\n",
      "error: 8.118552207946777 %\n",
      "---------------------------------------------------------------------------------\n",
      "Training network with learning rate = 0.01\n",
      "epoch: 0, error: 92.65\n",
      "epoch: 200, error: 2.35\n",
      "epoch: 400, error: 1.18\n",
      "epoch: 600, error: 0.01\n",
      "epoch: 800, error: 0.69\n",
      "epoch: 1000, error: 0.63\n",
      "epoch: 1200, error: 0.24\n",
      "epoch: 1400, error: 0.05\n",
      "epoch: 1600, error: 0.55\n",
      "epoch: 1800, error: 0.31\n",
      "error: 5.20819091796875 %\n",
      "---------------------------------------------------------------------------------\n",
      "Training network with learning rate = 0.001\n",
      "epoch: 0, error: 109.38\n",
      "epoch: 200, error: 14.27\n",
      "epoch: 400, error: 3.91\n",
      "epoch: 600, error: 5.16\n",
      "epoch: 800, error: 3.32\n",
      "epoch: 1000, error: 3.84\n",
      "epoch: 1200, error: 4.70\n",
      "epoch: 1400, error: 3.88\n",
      "epoch: 1600, error: 2.04\n",
      "epoch: 1800, error: 3.60\n",
      "error: 11.880261421203613 %\n",
      "---------------------------------------------------------------------------------\n",
      "Training network with learning rate = 0.0001\n",
      "epoch: 0, error: 154.82\n",
      "epoch: 200, error: 85.18\n",
      "epoch: 400, error: 58.30\n",
      "epoch: 600, error: 40.23\n",
      "epoch: 800, error: 40.30\n",
      "epoch: 1000, error: 27.13\n",
      "epoch: 1200, error: 27.98\n",
      "epoch: 1400, error: 20.61\n",
      "epoch: 1600, error: 18.15\n",
      "epoch: 1800, error: 18.41\n",
      "error: 43.61394119262695 %\n",
      "---------------------------------------------------------------------------------\n"
     ]
    }
   ],
   "source": [
    "learning_rates = [0.9, 0.1, 0.01, 0.001, 0.0001]\n",
    "x_test = mnist_data.data[testIndices].float().flatten(start_dim=1)\n",
    "\n",
    "\n",
    "for lr in learning_rates:\n",
    "    print(f\"Training network with learning rate = {lr}\")\n",
    "    w1 = torch.randn(inNeurons, hNeurons, requires_grad=True)\n",
    "    w2 = torch.randn(hNeurons, outNeurons, requires_grad=True)\n",
    "    \n",
    "    lossfn = torch.nn.CrossEntropyLoss()\n",
    "    optim = torch.optim.Adam(params=[w1, w2], lr=lr)\n",
    "\n",
    "    # We pass the specified batch size of records through the network and perform back propogation at each itteration\n",
    "    for e in range(epochs):\n",
    "        # Choose the records for the batch from the trainIndices\n",
    "        rid = np.random.choice(trainIndices, size=batch_size)\n",
    "        # We retrieve the pixel data and for these record indices and flatten the 28x28 image into a vector of size 784 \n",
    "        x = mnist_data.data[rid].float().flatten(start_dim=1)\n",
    "        # Normalize the vector to be between 0 and 1\n",
    "        x = x / x.max()\n",
    "        # Make a prediction using the neural network\n",
    "        pred = nn(x, w1, w2)\n",
    "        # Get the ground truth image labels\n",
    "        target = mnist_data.targets[rid]\n",
    "        # Compute the loss\n",
    "        loss = lossfn(pred, target)\n",
    "        # Perform backpropogation\n",
    "        loss.backward()\n",
    "        # Update the params\n",
    "        optim.step()\n",
    "        # Reset the gradients after updating the params\n",
    "        optim.zero_grad()\n",
    "\n",
    "        # Print the progress\n",
    "        if e % np.round(epochs/10) == 0:        \n",
    "            print('epoch: {:d}, error: {:.2f}'.format(e, loss))\n",
    "            \n",
    "\n",
    "    pred_test = nn(x_test, w1, w2)\n",
    "    predLabels = pred_test.argmax(axis=1)\n",
    "    target = mnist_data.targets[testIndices]\n",
    "    \n",
    "    _predlabel = predLabels + 1 # Offset the 0 label\n",
    "    _target = target + 1 # Offset the 0 label\n",
    "    print('error: {} %'.format( torch.mean(torch.abs((_target - _predlabel) / _target)) * 100 ))\n",
    "    print(\"---------------------------------------------------------------------------------\")"
   ]
  },
  {
   "cell_type": "markdown",
   "metadata": {},
   "source": [
    "#### C.4 Task 4\n",
    "------------\n",
    "Your Answer Here\n",
    "\n",
    "4.1 \n",
    "To have another hidden layer we need to change the following:\n",
    "\n",
    "- In B.3 we need to add one linear transformation to the nn-function, let's call it w3. W3 also has to be a parameter for the function. We should also send this linear transformation through an activation function, in this case ReLU. \n",
    "\n",
    "- In B.5 we need to initiate one more tensor with weights, W3. It's important to set requires_grad = True. We have to make sure the dimension are correct between the two hidden layers and the output layer.\n",
    "\n",
    "- In B.7 we have to update the list of params in the optimizer (ADAM) with W3. \n",
    "\n",
    "- In B.9 we have to make sure the function call is updated with W3. The same goes for B.10."
   ]
  },
  {
   "cell_type": "code",
   "execution_count": 44,
   "metadata": {},
   "outputs": [],
   "source": [
    "def nn_2hidden(x, w1, w2, w3):\n",
    "    l1 = x @ w1\n",
    "    l1 = torch.relu(l1)\n",
    "    \n",
    "    l2 = l1 @ w2 \n",
    "    l2 = torch.relu(l2)\n",
    "    \n",
    "    l3 = l2 @ w3\n",
    "    return l3"
   ]
  },
  {
   "cell_type": "code",
   "execution_count": 45,
   "metadata": {},
   "outputs": [],
   "source": [
    "torch.seed = 42\n",
    "\n",
    "w1 = torch.randn(inNeurons, hNeurons, requires_grad=True)\n",
    "w2 = torch.randn(hNeurons, hNeurons, requires_grad=True)\n",
    "w3 = torch.randn(hNeurons, outNeurons, requires_grad=True)"
   ]
  },
  {
   "cell_type": "code",
   "execution_count": 46,
   "metadata": {},
   "outputs": [],
   "source": [
    "optim = torch.optim.Adam(params=[w1, w2, w3], lr=lr)"
   ]
  },
  {
   "cell_type": "code",
   "execution_count": 47,
   "metadata": {},
   "outputs": [
    {
     "name": "stdout",
     "output_type": "stream",
     "text": [
      "epoch: 0, error: 657.24\n",
      "epoch: 200, error: 64.46\n",
      "epoch: 400, error: 28.51\n",
      "epoch: 600, error: 30.01\n",
      "epoch: 800, error: 26.58\n",
      "epoch: 1000, error: 28.83\n",
      "epoch: 1200, error: 25.25\n",
      "epoch: 1400, error: 11.11\n",
      "epoch: 1600, error: 9.71\n",
      "epoch: 1800, error: 6.80\n"
     ]
    }
   ],
   "source": [
    "for e in range(epochs):\n",
    "    rid = np.random.choice(trainIndices, size=batch_size)\n",
    "    \n",
    "    x = mnist_data.data[rid].float().flatten(start_dim=1)\n",
    "    x = x / x.max()\n",
    "    \n",
    "    pred = nn_2hidden(x, w1, w2, w3)\n",
    "    target = mnist_data.targets[rid]\n",
    "    \n",
    "    loss = lossfn(pred, target)\n",
    "    loss.backward()\n",
    "    \n",
    "    optim.step()\n",
    "    optim.zero_grad()\n",
    "\n",
    "    if e % np.round(epochs/10) == 0:        \n",
    "        print('epoch: {:d}, error: {:.2f}'.format(e, loss))"
   ]
  },
  {
   "cell_type": "code",
   "execution_count": 48,
   "metadata": {},
   "outputs": [
    {
     "name": "stdout",
     "output_type": "stream",
     "text": [
      "error: 10.12952709197998 %\n"
     ]
    }
   ],
   "source": [
    "x = mnist_data.data[testIndices].float().flatten(start_dim=1)\n",
    "\n",
    "pred = nn_2hidden(x, w1, w2, w3)\n",
    "predLabels = pred.argmax(axis=1)\n",
    "\n",
    "target = mnist_data.targets[testIndices]\n",
    "\n",
    "_predlabel = predLabels + 1 # Offset the 0 label\n",
    "_target = target + 1 # Offset the 0 label\n",
    "print('error: {} %'.format( torch.mean(torch.abs((_target - _predlabel) / _target)) * 100 ))\n",
    "_predlabel = _predlabel - 1 # Undo the offset change"
   ]
  },
  {
   "cell_type": "code",
   "execution_count": null,
   "metadata": {},
   "outputs": [],
   "source": []
  }
 ],
 "metadata": {
  "interpreter": {
   "hash": "31f2aee4e71d21fbe5cf8b01ff0e069b9275f58929596ceb00d14d90e3e16cd6"
  },
  "kernelspec": {
   "display_name": "Python 3 (ipykernel)",
   "language": "python",
   "name": "python3"
  },
  "language_info": {
   "codemirror_mode": {
    "name": "ipython",
    "version": 3
   },
   "file_extension": ".py",
   "mimetype": "text/x-python",
   "name": "python",
   "nbconvert_exporter": "python",
   "pygments_lexer": "ipython3",
   "version": "3.8.6"
  }
 },
 "nbformat": 4,
 "nbformat_minor": 2
}
