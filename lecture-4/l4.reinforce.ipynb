{
 "cells": [
  {
   "cell_type": "code",
   "execution_count": 2,
   "metadata": {},
   "outputs": [],
   "source": [
    "# Import the environments from gym  \n",
    "import gym\n",
    "import numpy as np\n",
    "import torch\n",
    "import random\n",
    "from matplotlib import pyplot as plt"
   ]
  },
  {
   "cell_type": "markdown",
   "metadata": {},
   "source": [
    "### REINFORCE on OpenAI GYM - CartPole"
   ]
  },
  {
   "cell_type": "code",
   "execution_count": 3,
   "metadata": {},
   "outputs": [],
   "source": [
    "torch.seed = 1234\n",
    "np.random.seed(torch.seed)\n",
    "random.seed(torch.seed)"
   ]
  },
  {
   "cell_type": "code",
   "execution_count": 4,
   "metadata": {},
   "outputs": [
    {
     "data": {
      "text/plain": [
       "ValuesView(├──CartPole: [ v0, v1 ]\n",
       "├──MountainCar: [ v0 ]\n",
       "├──MountainCarContinuous: [ v0 ]\n",
       "├──Pendulum: [ v1 ]\n",
       "├──Acrobot: [ v1 ]\n",
       "├──LunarLander: [ v2 ]\n",
       "├──LunarLanderContinuous: [ v2 ]\n",
       "├──BipedalWalker: [ v3 ]\n",
       "├──BipedalWalkerHardcore: [ v3 ]\n",
       "├──CarRacing: [ v1 ]\n",
       "├──Blackjack: [ v1 ]\n",
       "├──FrozenLake: [ v1 ]\n",
       "├──FrozenLake8x8: [ v1 ]\n",
       "├──CliffWalking: [ v0 ]\n",
       "├──Taxi: [ v3 ]\n",
       "├──Reacher: [ v2 ]\n",
       "├──Pusher: [ v2 ]\n",
       "├──InvertedPendulum: [ v2 ]\n",
       "├──InvertedDoublePendulum: [ v2 ]\n",
       "├──HalfCheetah: [ v2, v3 ]\n",
       "├──Hopper: [ v2, v3 ]\n",
       "├──Swimmer: [ v2, v3 ]\n",
       "├──Walker2d: [ v2, v3 ]\n",
       "├──Ant: [ v2, v3 ]\n",
       "├──Humanoid: [ v2, v3 ]\n",
       "└──HumanoidStandup: [ v2 ]\n",
       ")"
      ]
     },
     "execution_count": 4,
     "metadata": {},
     "output_type": "execute_result"
    }
   ],
   "source": [
    "# List the environments offered by gym\n",
    "gym.envs.registry.all()"
   ]
  },
  {
   "cell_type": "code",
   "execution_count": 5,
   "metadata": {},
   "outputs": [],
   "source": [
    "# Create the CartPole Environment\n",
    "env = gym.make('CartPole-v1')"
   ]
  },
  {
   "cell_type": "code",
   "execution_count": 6,
   "metadata": {},
   "outputs": [
    {
     "name": "stdout",
     "output_type": "stream",
     "text": [
      "Sample State: [ 0.04614099 -0.0406047   0.0151189   0.010544  ]\n",
      "Action Set: Discrete(2)\n"
     ]
    }
   ],
   "source": [
    "state = env.reset()\n",
    "print('Sample State:', state)\n",
    "print('Action Set:', env.action_space)"
   ]
  },
  {
   "cell_type": "markdown",
   "metadata": {},
   "source": [
    "#### Create the helper functions"
   ]
  },
  {
   "cell_type": "code",
   "execution_count": 7,
   "metadata": {},
   "outputs": [],
   "source": [
    "# Computing the discounted rewards\n",
    "def discountRewards(rewards, gamma=0.99):\n",
    "    lenR = len(rewards)\n",
    "    discReturn = torch.pow(gamma, torch.arange(lenR).float()) * rewards\n",
    "    # Normalizes the rewards to be within 0 and 1 interval to improve numerical stability\n",
    "    discReturn = discReturn / discReturn.max()\n",
    "    return discReturn"
   ]
  },
  {
   "cell_type": "code",
   "execution_count": 8,
   "metadata": {},
   "outputs": [],
   "source": [
    "# Define the loss function\n",
    "# Function expects an array of action probabilities for the actions that were taken and the discounted rewards\n",
    "def lossFun(preds, r):\n",
    "    # Computes the log of the probabilities, multiplies byu the discounted rewards, sums them all, and flips the sign\n",
    "    return -1 * torch.sum(r * torch.log(preds))"
   ]
  },
  {
   "cell_type": "markdown",
   "metadata": {},
   "source": [
    "#### Create the Model"
   ]
  },
  {
   "cell_type": "code",
   "execution_count": 24,
   "metadata": {},
   "outputs": [],
   "source": [
    "# Create the model\n",
    "model = torch.nn.Sequential(\n",
    "    torch.nn.Linear(4, 250),\n",
    "    torch.nn.LeakyReLU(),\n",
    "    torch.nn.Linear(250, 2),\n",
    "    torch.nn.Softmax(dim=0)\n",
    ")\n",
    "\n",
    "learningRate = 0.009\n",
    "optimizer = torch.optim.Adam(model.parameters(), lr=learningRate)"
   ]
  },
  {
   "cell_type": "markdown",
   "metadata": {},
   "source": [
    "#### Train the model"
   ]
  },
  {
   "cell_type": "code",
   "execution_count": 25,
   "metadata": {},
   "outputs": [
    {
     "name": "stdout",
     "output_type": "stream",
     "text": [
      "episode: 0, score: 15.00\n",
      "episode: 100, score: 38.00\n",
      "episode: 200, score: 88.00\n",
      "episode: 300, score: 135.00\n",
      "episode: 400, score: 249.00\n",
      "episode: 500, score: 85.00\n",
      "episode: 600, score: 102.00\n",
      "episode: 700, score: 128.00\n",
      "episode: 800, score: 250.00\n",
      "episode: 900, score: 250.00\n"
     ]
    }
   ],
   "source": [
    "# REINFORCE training loop\n",
    "maxEpisodes = 1000 # Number of episodes to train on\n",
    "maxMoves = 250 # Max number of allowed moves per episode\n",
    "gamma = 0.8\n",
    "# A list to keep track of the episode length over training time\n",
    "score = []\n",
    "for episode in range(maxEspisodes):\n",
    "    currentState = env.reset()\n",
    "    done = False\n",
    "    # A list of state, action, reward\n",
    "    transitions = []\n",
    "    # In each episode, the max number of allowed moves if the game hasnt already ended yet\n",
    "    for t in range(maxMoves):\n",
    "        # Calculate the action probabilites\n",
    "        actionProb = model(torch.from_numpy(currentState).float())\n",
    "        # Will choose actions 0 or 1 based on their respective probability (stochastically)\n",
    "        action = np.random.choice(np.array([0, 1]), p=actionProb.detach().numpy())\n",
    "        previousState = currentState\n",
    "        # Perform the selected action in the environment\n",
    "        currentState, reward, done, info = env.step(action)        \n",
    "        # Store the transition. We do t+reward, as reward for cartpole if always one if the pole is upright. \n",
    "        # It will be game over if it doesnot receive a reward or done=True\n",
    "        transitions.append((previousState, action, t+reward))\n",
    "        # If the game is lost\n",
    "        if done: \n",
    "            break\n",
    "\n",
    "    # Store the length of the episode until now\n",
    "    episodeLen = len(transitions)\n",
    "    score.append(episodeLen)\n",
    "\n",
    "    rewardBatch = torch.Tensor([r for (s, a, r) in transitions]).flip(dims=(0, ))\n",
    "    discountedRewards = discountRewards(rewardBatch) # Compute the discounted version of rewards\n",
    "    # Collects the states in the episode in a single tensor\n",
    "    stateBatch = torch.Tensor([s for (s, a, r) in transitions])\n",
    "    # Collects the actions in the episode in a single tensor\n",
    "    actionBatch = torch.Tensor([a for (s, a, r) in transitions])\n",
    "\n",
    "    # Recomputes the action probabilites for all the states in the episode\n",
    "    predictedActionProbBatch = model(stateBatch)\n",
    "    # Sunsets of the action probabilites associated with the actions that were actually taken\n",
    "    choosenPredictedActionProbBatch = predictedActionProbBatch.gather(dim=1, index=actionBatch.long().view(-1,1)).squeeze()\n",
    "    # Calculate the loss\n",
    "    loss = lossFun(choosenPredictedActionProbBatch, discountedRewards)\n",
    "    optimizer.zero_grad()\n",
    "    loss.backward()\n",
    "    optimizer.step()\n",
    "\n",
    "    # Print the progress\n",
    "    if episode % np.round(maxEpisodes/10) == 0:               \n",
    "        print('episode: {:d}, score: {:.2f}'.format(episode, score[episode]))\n",
    "\n",
    "\n",
    "\n"
   ]
  },
  {
   "cell_type": "code",
   "execution_count": 26,
   "metadata": {},
   "outputs": [
    {
     "data": {
      "text/plain": [
       "[<matplotlib.lines.Line2D at 0x2e2ad04a290>]"
      ]
     },
     "execution_count": 26,
     "metadata": {},
     "output_type": "execute_result"
    },
    {
     "data": {
      "image/png": "[encoded data removed]",
      "text/plain": [
       "<Figure size 432x288 with 1 Axes>"
      ]
     },
     "metadata": {
      "needs_background": "light"
     },
     "output_type": "display_data"
    }
   ],
   "source": [
    "plt.plot(score)"
   ]
  },
  {
   "cell_type": "markdown",
   "metadata": {},
   "source": [
    "#### Test the Model"
   ]
  },
  {
   "cell_type": "code",
   "execution_count": 27,
   "metadata": {},
   "outputs": [
    {
     "name": "stdout",
     "output_type": "stream",
     "text": [
      "Total Reward 500.0 in 500 moves.\n"
     ]
    }
   ],
   "source": [
    "# Test it\n",
    "done = False\n",
    "numMoves = 0\n",
    "maxMoves = 500\n",
    "totalReward = 0\n",
    "while not done and maxMoves > 0:\n",
    "    numMoves += 1\n",
    "    maxMoves -= 1\n",
    "    currentState = env.reset()\n",
    "    # Uncomment, the following if you want to render it. Comment if you do not want to render it\n",
    "    #env.render()\n",
    "    # Calculate the action probabilites\n",
    "    actionProb = model(torch.from_numpy(currentState).float())\n",
    "    # Will choose actions 0 or 1 based on their respective probability (stochastically)\n",
    "    action = np.random.choice(np.array([0, 1]), p=actionProb.detach().numpy())\n",
    "    previousState = currentState\n",
    "    # Perform the selected action in the environment\n",
    "    currentState, reward, done, info = env.step(action)     \n",
    "    totalReward += reward\n",
    "\n",
    "print('Total Reward {} in {} moves.'.format(totalReward, numMoves))\n"
   ]
  },
  {
   "cell_type": "code",
   "execution_count": null,
   "metadata": {},
   "outputs": [],
   "source": []
  }
 ],
 "metadata": {
  "interpreter": {
   "hash": "25a22a22ae3721dc277425b9221481ff56af47d502af71cd4744bf87f0122518"
  },
  "kernelspec": {
   "display_name": "Python 3 (ipykernel)",
   "language": "python",
   "name": "python3"
  },
  "language_info": {
   "codemirror_mode": {
    "name": "ipython",
    "version": 3
   },
   "file_extension": ".py",
   "mimetype": "text/x-python",
   "name": "python",
   "nbconvert_exporter": "python",
   "pygments_lexer": "ipython3",
   "version": "3.8.6"
  }
 },
 "nbformat": 4,
 "nbformat_minor": 2
}
