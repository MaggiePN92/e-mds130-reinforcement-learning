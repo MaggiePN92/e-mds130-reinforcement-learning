{
 "cells": [
  {
   "cell_type": "markdown",
   "source": [
    "# Topic 4: Numerical Computing in Python\n",
    "## E-DAT540-1 21H Introduction to Data Science\n",
    "---\n",
    "Instructor: \\\n",
    "  Antorweep Chakravorty   \n",
    "  Email: antorweep.chakravorty@uis.no \\\n",
    "  Address: \\\n",
    "    Room Number: KE E-425 \\\n",
    "    Det teknisk- naturvitenskapelige fakultet \\\n",
    "    Institutt for data- og elektroteknologi \\\n",
    "    Universitetet i Stavanger \\\n",
    "    Kjell Arholms gate 41, 4021 Stavanger \n",
    "       \n",
    "---"
   ],
   "metadata": {}
  },
  {
   "cell_type": "markdown",
   "source": [
    "## Numpy\n",
    "- **NumPy** or *Numerical Python*, is one of the most important foundational package for numerical computing in python\n",
    "- *ndarray*, an efficient multidimensional array provides fast array-oriented arithmetic operations and flexible *broadcasting* capabilities\n",
    "- Mathematical functions for fast operations on entire array of data without having to write loops\n",
    "- Tools for reading/writing array data to disk and working with memory-mapped files\n",
    "- Linear algebra, random number generation and Fourier transform capabilities\n",
    "- A C-API for connecting NumPy with libraries written in C, C++, or FORTRAN\n",
    "- NumPy C-API allows data to be easily passed to external libraries written in a low-level language and for external libraries to return data to python as NumPy arrays\n",
    "- NumPy based algorithms are generally 10 to 100 times faster than their pure python counterparts and use significantly less memory"
   ],
   "metadata": {}
  },
  {
   "cell_type": "code",
   "execution_count": 25,
   "source": [
    "# In order to work with Numpy we have to import the numpy module. We can also give an alias for it to refer to this module using the alias\n",
    "import numpy as np"
   ],
   "outputs": [],
   "metadata": {}
  },
  {
   "cell_type": "markdown",
   "source": [
    "## NDArrays\n",
    "- Fast vectorized array operations for data mugging and cleaning, sub-setting, and filtering, transformation, and any kinds of computations\n",
    "- Common array algorithms like sorting, unique, and set operations\n",
    "- Efficient descriptive statistics and aggregating/summarizing data\n",
    "- Data alignment and relational data manipulation for merging and joining heterogeneous datasets\n",
    "- Expressing conditional logic as array expressions instead of loops \n",
    "- Group-wise data manipulations (aggregation, transformation, function application)"
   ],
   "metadata": {}
  },
  {
   "cell_type": "markdown",
   "source": [
    "### Array Creating Functions\n",
    "#### array()\n",
    "- ndarray can be created using the **np.array()** function\n",
    "- It accepts any sequence-like object (including other arrays) and produces a new numpy array containing the passed data\n",
    "- Nested sequences, like a list of equal-length list, will also be converted into a multidimensional array"
   ],
   "metadata": {}
  },
  {
   "cell_type": "code",
   "execution_count": 34,
   "source": [
    "# Creating a single dimensional array for a python list\n",
    "aSeq = [1, 2, 3]\n",
    "anArray = np.array(aSeq)\n",
    "print('Array created using a list:\\n', anArray)\n",
    "\n",
    "# Creating a multi dimensional array for a nested python list\n",
    "aNestedSeq = [[1, 2, 3], [4, 5, 6]]\n",
    "anArray = np.array(aNestedSeq)\n",
    "print('Array created using a nested list:\\n', anArray)\n"
   ],
   "outputs": [
    {
     "output_type": "stream",
     "name": "stdout",
     "text": [
      "Array created using a list:\n",
      " [1 2 3]\n",
      "Array created using a nested list:\n",
      " [list([1, 2, 3]) list([4, 6])]\n"
     ]
    },
    {
     "output_type": "stream",
     "name": "stderr",
     "text": [
      "/var/folders/b5/qtlwb6j979d58ssnfbkgyckc0000gn/T/ipykernel_12999/2091222940.py:8: VisibleDeprecationWarning: Creating an ndarray from ragged nested sequences (which is a list-or-tuple of lists-or-tuples-or ndarrays with different lengths or shapes) is deprecated. If you meant to do this, you must specify 'dtype=object' when creating the ndarray.\n",
      "  anArray = np.array(aNestedSeq)\n"
     ]
    }
   ],
   "metadata": {}
  },
  {
   "cell_type": "markdown",
   "source": [
    "#### arange()\n",
    "- **np.arange()** is an array-valued version of built-in python *range* function\n",
    "- Generate a sequence of value\n",
    "- A *start* and *end* value may be provided as a first and second argument respectively to set the start and end of the range. Note that the end value is never included in the range. By default the start value is 0, if not provided. Incases where only one argument is provided, it is automatically considered as the end value.\n",
    "- An third argument *step* set the interval of the range. By default the step argument is equal to 1, if not specified. The step argument can also be negative to create a descending range. In such as case, the end argument value should be smaller than the start argument value\n",
    "\n"
   ],
   "metadata": {}
  },
  {
   "cell_type": "code",
   "execution_count": 36,
   "source": [
    "# Creating a sequence of 10 value starting from value 0\n",
    "print('Range 0 to 9:', np.arange(10))\n",
    "\n",
    "# Creating a sequence of 10 values starting from value 1\n",
    "print('Range 1 to 10:', np.arange(start=1, stop=11))\n",
    "\n",
    "# Creating a sequence of 5 values starting from value 0 with an interval of two between consecutive values\n",
    "print('Range 0 to 8:', np.arange(0, 10, step=2))\n",
    "\n",
    "# Creating a decending sequence starting from 10 to 1\n",
    "# Creating a sequence of 10 values starting from value 1\n",
    "print('Range 10 to 1:', np.arange(start=10, stop=0, step=-1))\n"
   ],
   "outputs": [
    {
     "output_type": "stream",
     "name": "stdout",
     "text": [
      "Range 0 to 9: [0 1 2 3 4 5 6 7 8 9]\n",
      "Range 1 to 10: [ 1  2  3  4  5  6  7  8  9 10]\n",
      "Range 0 to 8: [0 2 4 6 8]\n",
      "Range 10 to 1: [10  9  8  7  6  5  4  3  2  1]\n"
     ]
    }
   ],
   "metadata": {}
  },
  {
   "cell_type": "markdown",
   "source": [
    "#### zeros(), zeros_like()\n",
    "- **np.zeros()** and **np.zeros_like()** creates ndarrays containing zeros as values for each index\n",
    "- zeros()\n",
    "  - a scaler value can be passed as an argument to create a single dimension array\n",
    "  - a tuple can be passed as an argument to create a multi dimensional array\n",
    "- zeros_like\n",
    "  - accepts another array as the argument and creates an array of the same size like the array passed as its argument containing 0 as values for each index"
   ],
   "metadata": {}
  },
  {
   "cell_type": "code",
   "execution_count": 4,
   "source": [
    "# Creating a single dimensional array of size 5 containing the value zero for each index\n",
    "arr1 = np.zeros(5)\n",
    "print('arr1:', arr1)\n",
    "\n",
    "# Creating a multi dimensional array of size (2, 5) containing the value zero for each index\n",
    "arr2 = np.zeros((2,5))\n",
    "print('arr2:\\n', arr2)\n"
   ],
   "outputs": [
    {
     "output_type": "stream",
     "name": "stdout",
     "text": [
      "arr1: [0. 0. 0. 0. 0.]\n",
      "arr2:\n",
      " [[0. 0. 0. 0. 0.]\n",
      " [0. 0. 0. 0. 0.]]\n"
     ]
    }
   ],
   "metadata": {}
  },
  {
   "cell_type": "code",
   "execution_count": 5,
   "source": [
    "# Creating a non zero array of size (3,2)\n",
    "arr3 = np.array([[1,2],[3,4],[5,6]])\n",
    "\n",
    "# Creating an array of the same size as arr3 with 0 as value for each index\n",
    "arr4 = np.zeros_like(arr3)\n",
    "print('arr4:\\n', arr4)\n"
   ],
   "outputs": [
    {
     "output_type": "stream",
     "name": "stdout",
     "text": [
      "arr4:\n",
      " [[0 0]\n",
      " [0 0]\n",
      " [0 0]]\n"
     ]
    }
   ],
   "metadata": {}
  },
  {
   "cell_type": "markdown",
   "source": [
    "#### ones(), ones_like()\n",
    "- **np.ones()** and **np.ones_like()** creates ndarrays containing ones as values for each index\n",
    "- ones()\n",
    "  - a scaler value can be passed as an argument to create a single dimension array\n",
    "  - a tuple can be passed as an argument to create a multi dimensional array\n",
    "- ones_like\n",
    "  - accepts another array as the argument and creates an array of the same size like the array passed as its argument containing 1 as values for each index"
   ],
   "metadata": {}
  },
  {
   "cell_type": "code",
   "execution_count": 6,
   "source": [
    "# Creating a single dimensional array of size 5 containing the value one for each index\n",
    "arr1 = np.ones(5)\n",
    "print('arr1:', arr1)\n",
    "\n",
    "# Creating a multi dimensional array of size (2, 5) containing the value one for each index\n",
    "arr2 = np.ones((2, 5))\n",
    "print('arr2:\\n', arr2)\n"
   ],
   "outputs": [
    {
     "output_type": "stream",
     "name": "stdout",
     "text": [
      "arr1: [1. 1. 1. 1. 1.]\n",
      "arr2:\n",
      " [[1. 1. 1. 1. 1.]\n",
      " [1. 1. 1. 1. 1.]]\n"
     ]
    }
   ],
   "metadata": {}
  },
  {
   "cell_type": "code",
   "execution_count": 7,
   "source": [
    "# Creating a non one array of size (3,2)\n",
    "arr3 = np.array([[1, 2], [3, 4], [5, 6]])\n",
    "\n",
    "# Creating an array of the same size as arr3 with 1 as value for each index\n",
    "arr4 = np.ones_like(arr3)\n",
    "print('arr4:\\n', arr4)\n"
   ],
   "outputs": [
    {
     "output_type": "stream",
     "name": "stdout",
     "text": [
      "arr4:\n",
      " [[1 1]\n",
      " [1 1]\n",
      " [1 1]]\n"
     ]
    }
   ],
   "metadata": {}
  },
  {
   "cell_type": "markdown",
   "source": [
    "#### empty(), empty_like()\n",
    "- **np.empty()** and **np.empty_like()** creates ndarray that contains zeros, ones or garbage values\n",
    "- empty()\n",
    "  - a scaler value can be passed as an argument to create a single dimension array\n",
    "  - a tuple can be passed as an argument to create a multi dimensional array\n",
    "- empty_like\n",
    "  - accepts another array as the argument and creates an array of the same size like the array passed as its argument containing garbage value for each index"
   ],
   "metadata": {}
  },
  {
   "cell_type": "code",
   "execution_count": 8,
   "source": [
    "# Creating a single dimensional array of size 5 containing the garbage value for each index\n",
    "arr1 = np.empty(5)\n",
    "print('arr1:', arr1)\n",
    "\n",
    "# Creating a multi dimensional array of size (2, 5) containing the garbage value for each index\n",
    "arr2 = np.empty((2, 5))\n",
    "print('arr2:\\n', arr2)\n"
   ],
   "outputs": [
    {
     "output_type": "stream",
     "name": "stdout",
     "text": [
      "arr1: [1. 1. 1. 1. 1.]\n",
      "arr2:\n",
      " [[1. 1. 1. 1. 1.]\n",
      " [1. 1. 1. 1. 1.]]\n"
     ]
    }
   ],
   "metadata": {}
  },
  {
   "cell_type": "code",
   "execution_count": 9,
   "source": [
    "# Creating an array of size (3,2)\n",
    "arr3 = np.array([[1, 2], [3, 4], [5, 6]])\n",
    "\n",
    "# Creating an array of the same size as arr3 with some value for each index\n",
    "arr4 = np.empty_like(arr3)\n",
    "print('arr4:\\n', arr4)\n"
   ],
   "outputs": [
    {
     "output_type": "stream",
     "name": "stdout",
     "text": [
      "arr4:\n",
      " [[1 2]\n",
      " [3 4]\n",
      " [5 6]]\n"
     ]
    }
   ],
   "metadata": {}
  },
  {
   "cell_type": "markdown",
   "source": [
    "#### identity()\n",
    "- **np.identity()** creates a two dimensional array with ones on the diagonal and zeros elsewhere.\n",
    "- accepts a scaler value and creates a square two dimensional array"
   ],
   "metadata": {}
  },
  {
   "cell_type": "code",
   "execution_count": 10,
   "source": [
    "print('Creating an identity square array of size (3,3):\\n', np.identity(3))\n"
   ],
   "outputs": [
    {
     "output_type": "stream",
     "name": "stdout",
     "text": [
      "Creating an identity square array of size (3,3):\n",
      " [[1. 0. 0.]\n",
      " [0. 1. 0.]\n",
      " [0. 0. 1.]]\n"
     ]
    }
   ],
   "metadata": {}
  },
  {
   "cell_type": "markdown",
   "source": [
    "#### shape\n",
    "- The *shape* attribute of a ndarray describes the size dimensions"
   ],
   "metadata": {}
  },
  {
   "cell_type": "code",
   "execution_count": 11,
   "source": [
    "arr1 = np.array([1,2,3])\n",
    "arr2 = np.array([[1,2,3],[4,5,6]])\n",
    "\n",
    "print(\"Shape of arr1:\", arr1.shape)\n",
    "print(\"Shape of arr2:\", arr2.shape)"
   ],
   "outputs": [
    {
     "output_type": "stream",
     "name": "stdout",
     "text": [
      "Shape of arr1: (3,)\n",
      "Shape of arr2: (2, 3)\n"
     ]
    }
   ],
   "metadata": {}
  },
  {
   "cell_type": "markdown",
   "source": [
    "#### reshape()\n",
    "- **reshape()** is an instance method of a ndarray that can reshape an array to another shape\n",
    "- A sequence of value separated by a comma, can be passed as the arguments that specifies the shape of the intended array\n",
    "- Take care that the product of the values passed as arguments should be equal to the number of elements in the array\n",
    "- One of the passed shape dimensions can be *-1*, in which case the value would be inferred"
   ],
   "metadata": {}
  },
  {
   "cell_type": "code",
   "execution_count": 40,
   "source": [
    "# A single dimensional array of size 10\n",
    "arr1 = np.arange(10)\n",
    "print('Shape of arr1:{0} and the content of arr1:{1}'.format(arr1.shape, arr1))\n",
    "\n",
    "# Reshaping arr1 to a multi dimensional array of size (2,5)\n",
    "arr2 = arr1.reshape(2,5)\n",
    "print('Print shape of arr2: {0} and the content of arr2:\\n{1}'.format(arr2.shape, arr2))\n",
    "\n",
    "# A multi dimensional array of size 4,4\n",
    "arr3 = np.arange(16).reshape(4,4)\n",
    "print('Shape of arr3:{0} and the content of arr3:\\n{1}'.format(arr3.shape, arr3))\n",
    "\n",
    "# Reshaping arr3 to a multi dimensional array of size (8,2)\n",
    "arr4 = arr3.reshape(8, 2)\n",
    "print('Print shape of arr4: {0} and the content of arr4:\\n{1}'.format(\n",
    "    arr4.shape, arr4))\n",
    "\n",
    "# Reshaping arr3 to a multi dimensional array of size (8,2)\n",
    "arr5 = arr3.reshape(-1, 2)\n",
    "print('Print shape of arr5: {0} and the content of arr5:\\n{1}'.format(\n",
    "    arr5.shape, arr5))\n"
   ],
   "outputs": [
    {
     "output_type": "stream",
     "name": "stdout",
     "text": [
      "Shape of arr1:(10,) and the content of arr1:[0 1 2 3 4 5 6 7 8 9]\n",
      "Print shape of arr2: (2, 5) and the content of arr2:\n",
      "[[0 1 2 3 4]\n",
      " [5 6 7 8 9]]\n",
      "Shape of arr3:(4, 4) and the content of arr3:\n",
      "[[ 0  1  2  3]\n",
      " [ 4  5  6  7]\n",
      " [ 8  9 10 11]\n",
      " [12 13 14 15]]\n",
      "Print shape of arr4: (8, 2) and the content of arr4:\n",
      "[[ 0  1]\n",
      " [ 2  3]\n",
      " [ 4  5]\n",
      " [ 6  7]\n",
      " [ 8  9]\n",
      " [10 11]\n",
      " [12 13]\n",
      " [14 15]]\n",
      "Print shape of arr5: (8, 2) and the content of arr5:\n",
      "[[ 0  1]\n",
      " [ 2  3]\n",
      " [ 4  5]\n",
      " [ 6  7]\n",
      " [ 8  9]\n",
      " [10 11]\n",
      " [12 13]\n",
      " [14 15]]\n"
     ]
    }
   ],
   "metadata": {}
  },
  {
   "cell_type": "markdown",
   "source": [
    "### Data Types\n",
    "Basic numpy data types:\n",
    "|Numpy type|bits|Range|Description|\n",
    "|----------|-----|-----|-----------|\n",
    "|int8|8|-128 to 127|a signed integer|\n",
    "|uint8|8|0 to 255|an unsigned integer|\n",
    "|int16|16|-32,768 to 32,767|a signed integer|\n",
    "|uint16|16|0 to 65,535|an unsigned integer value|\n",
    "|int32|32|-2,147,483,648 to 2,147,483,647|a signed integer|\n",
    "|uint32|32|0 to 4,294,967,295|an unsigned integer|\n",
    "|int64|64|-9,223,372,036,854,775,808 to 9,223,372,036,854,775,807|a signed integer|\n",
    "|uint64|64|0 to 18,446,744,073,709,551,615|an unsigned integer|\n",
    "|float16|16|3.4E +/- 38 (7 digits)| a signed float value|\n",
    "|float64|64|1.7E +/- 308 (15 digits)|a signed float value|\n",
    "|string_|-|-|Fixed length ASCII string with 1 byte per character|\n",
    "|unicode_|-|-|Fixed length UNICODE. Number of bytes specific to platform|\n",
    "|object|-|-|A python object, the value could be any python object|\n",
    "\n",
    "[Read more](https://docs.microsoft.com/en-us/cpp/cpp/data-type-ranges?view=msvc-160)"
   ],
   "metadata": {}
  },
  {
   "cell_type": "markdown",
   "source": [
    "### Casting\n",
    "#### dtype\n",
    "- The *dtype*, object describes the data type stored in a homogeneous ndarray\n",
    "- Each ndarray has a *dtype* attribute that describe the data stored in the array\n",
    "- Even the **np.array()** method can be provided with a second argument to explicitly specify the type of its content"
   ],
   "metadata": {}
  },
  {
   "cell_type": "markdown",
   "source": [
    "#### astype\n",
    "- A NumPy array can be converted or casted from one dtype to another using the ndarray's **astype** method\n",
    "- astype accepts a *dtype* argument that specifies the data type for the converted array\n",
    "- Calling astype always creates a new array (a copy of the data), even if the new dtype is the same as the old dtype"
   ],
   "metadata": {}
  },
  {
   "cell_type": "code",
   "execution_count": 55,
   "source": [
    "# Creating a ndarray\n",
    "arr = np.array([1,2,3])\n",
    "\n",
    "# Casting the ndarray to float. Since, as type creates a copy, its stored in arr1\n",
    "arr1 = arr.astype(dtype=np.float16)\n",
    "print('dtype of arr: {0} and of arr1: {1}'.format(arr.dtype, arr1.dtype))\n"
   ],
   "outputs": [
    {
     "output_type": "stream",
     "name": "stdout",
     "text": [
      "dtype of arr: int64 and of arr1: float16\n"
     ]
    }
   ],
   "metadata": {}
  },
  {
   "cell_type": "markdown",
   "source": [
    "## Pseudorandomization\n",
    "- The numpy.random module supplements the build-in python random with functions for efficiency generating whole arrays of sample values from many kinds of probability distributions\n",
    "- They are termed as pseudorandom numbers because they are generated by an algorithm with deterministic behavior based on the *seed* of the random number generator"
   ],
   "metadata": {}
  },
  {
   "cell_type": "markdown",
   "source": [
    "### Random generator\n",
    "- The data generation functions in numpy.random\n",
    "#### seed()\n",
    "- The seed method sets the global state to initialize a random number generator. \n",
    "- Everytime a fresh random function is executed, it will produce the same result if it has been initialized with the same random seed value\n",
    "- It can be any numeric value"
   ],
   "metadata": {}
  },
  {
   "cell_type": "markdown",
   "source": [
    "#### Random State\n",
    "- To avoid global state, *numpy.random.RandomState* can be used to create a random number generator isolated from other"
   ],
   "metadata": {}
  },
  {
   "cell_type": "markdown",
   "source": [
    "### Simple random data"
   ],
   "metadata": {}
  },
  {
   "cell_type": "markdown",
   "source": [
    "#### rand()\n",
    "- Creates a random array of the given shape \n",
    "- Populates it with random samples from a uniform distribution \n",
    "- Filled values are between 0 and 1"
   ],
   "metadata": {}
  },
  {
   "cell_type": "code",
   "execution_count": 17,
   "source": [
    "\n",
    "# Create a single dimensional random array\n",
    "arr = np.random.rand(2)\n",
    "print('Single dimensional {0} random array:\\n{1}'.format(arr.shape, arr))\n",
    "\n",
    "# Create a multi dimensional random array of size (4,2)\n",
    "arr1 = np.random.rand(4,2)\n",
    "print('Multiple dimensional {0} random array:\\n{1}'.format(arr1.shape, arr1))\n"
   ],
   "outputs": [
    {
     "output_type": "stream",
     "name": "stdout",
     "text": [
      "Single dimensional (2,) random array:\n",
      "[0.62210877 0.43772774]\n",
      "Multiple dimensional (4, 2) random array:\n",
      "[[0.78535858 0.77997581]\n",
      " [0.27259261 0.27646426]\n",
      " [0.80187218 0.95813935]\n",
      " [0.87593263 0.35781727]]\n"
     ]
    }
   ],
   "metadata": {}
  },
  {
   "cell_type": "markdown",
   "source": [
    "#### randn()\n",
    "- Creates a random array of the given shape \n",
    "- Populates it with random samples from a standard normal distribution \n",
    "- Filled with values such that the mean and variance of the sample is 0 and 1 respectively"
   ],
   "metadata": {}
  },
  {
   "cell_type": "code",
   "execution_count": 147,
   "source": [
    "\n",
    "# Create a single dimensional random array\n",
    "arr = np.random.randn(2)\n",
    "print('Single dimensional {0} random array:\\n{1}'.format(arr.shape, arr))\n",
    "\n",
    "# Create a multi dimensional random array of size (4,2)\n",
    "arr1 = np.random.randn(4, 2)\n",
    "print('Multiple dimensional {0} random array:\\n{1}'.format(arr1.shape, arr1))\n"
   ],
   "outputs": [
    {
     "output_type": "stream",
     "name": "stdout",
     "text": [
      "Single dimensional (2,) random array:\n",
      "[-0.17446818 -0.64247527]\n",
      "Multiple dimensional (4, 2) random array:\n",
      "[[-0.62502311  1.3258867 ]\n",
      " [ 0.5312549   1.27528435]\n",
      " [-0.68282564 -0.94818614]\n",
      " [ 0.7773618   0.3251135 ]]\n"
     ]
    }
   ],
   "metadata": {}
  },
  {
   "cell_type": "markdown",
   "source": [
    "#### randint()\n",
    "- Creates a random array of the given shape \n",
    "- Populates it with random values between the specified **low** (inclusive) and **high** (exclusive) parameter values.\n",
    "- A third size parameter is also be provided to create the random array as specified"
   ],
   "metadata": {}
  },
  {
   "cell_type": "code",
   "execution_count": 148,
   "source": [
    "# Generating a random integer value between -10 and 10.\n",
    "val = np.random.randint(low=-10, high=10)\n",
    "print('A randomly generated scaler integer value: {0}'.format(val))\n",
    "\n",
    "# Generating a random single dimensional array with values between -10 and 10.\n",
    "arr1 = np.random.randint(low=-10, high=10, size=2)\n",
    "print('Single dimensional {0} random array:\\n{1}'.format(arr1.shape, arr1))\n",
    "\n",
    "# Generating a random multi dimensional array of size (4,2) with values between -10 and 10\n",
    "arr2 = np.random.randint(-10, 10, (4,2))\n",
    "print('Multiple dimensional {0} random array:\\n{1}'.format(arr2.shape, arr2))\n"
   ],
   "outputs": [
    {
     "output_type": "stream",
     "name": "stdout",
     "text": [
      "A randomly generated scaler integer value: -3\n",
      "Single dimensional (2,) random array:\n",
      "[  7 -10]\n",
      "Multiple dimensional (4, 2) random array:\n",
      "[[-1  8]\n",
      " [-1 -9]\n",
      " [ 4 -7]\n",
      " [ 2 -1]]\n"
     ]
    }
   ],
   "metadata": {}
  },
  {
   "cell_type": "markdown",
   "source": [
    "#### random_sample()\n",
    "- Creates a random array of the given shape \n",
    "- Populates it with random samples from a continuous uniform distribution \n",
    "- Filled values are between 0 and 1"
   ],
   "metadata": {}
  },
  {
   "cell_type": "code",
   "execution_count": 20,
   "source": [
    "# A scaler value can be generated by directly calling the function\n",
    "val = np.random.sample()\n",
    "print('A randomly generated scaler value: {0}'.format(val))\n",
    "\n",
    "# Generating a random single dimensional array\n",
    "arr1 = np.random.sample(2)\n",
    "print('Single dimensional {0} random array:\\n{1}'.format(arr1.shape, arr1))\n",
    "\n",
    "# Generating a random multi dimensional array of size (4,2) \n",
    "arr2 = np.random.sample((4,2))\n",
    "print('Multiple dimensional {0} random array:\\n{1}'.format(arr2.shape, arr2))\n"
   ],
   "outputs": [
    {
     "output_type": "stream",
     "name": "stdout",
     "text": [
      "A randomly generated scaler value: 0.5680986526260692\n",
      "Single dimensional (2,) random array:\n",
      "[0.86912739 0.43617342]\n",
      "Multiple dimensional (4, 2) random array:\n",
      "[[0.80214764 0.14376682]\n",
      " [0.70426097 0.70458131]\n",
      " [0.21879211 0.92486763]\n",
      " [0.44214076 0.90931596]]\n"
     ]
    }
   ],
   "metadata": {}
  },
  {
   "cell_type": "markdown",
   "source": [
    "#### choice()\n",
    "- Creates an array containing random samples from another single dimensional array\n",
    "- A scaler value can also be passed instead of the array, in such as case it will automatically create a range using the scaler value as the input single dimensional array\n",
    "- A size parameter can also be provided as the second argument to specify the size of the generated array. If no size parameter is provided a scaler choice is returned"
   ],
   "metadata": {}
  },
  {
   "cell_type": "code",
   "execution_count": 176,
   "source": [
    "# A scaler value can be generated by not specifying the size\n",
    "val = np.random.choice(10)\n",
    "print('A randomly generated scaler value: {0}'.format(val))\n",
    "\n",
    "# Generating a random single dimensional array using a scaler value rather than an array as input\n",
    "arr1 = np.random.choice(10, 5)\n",
    "print('Single dimensional {0} random array using a scaler value as input:\\n{1}'.format(arr1.shape, arr1))\n",
    "\n",
    "# Generating a random multi dimensional array using a scaler value rather than an array as input\n",
    "arr2 = np.random.choice(10, (4,2))\n",
    "print('Multiple dimensional {0} random array using a scaler value as input:\\n{1}'.format(\n",
    "    arr2.shape, arr2))\n",
    "\n",
    "# Using arr1 as input to choose 2 random values from it\n",
    "arr3 = np.random.choice(arr1, size=(2,2))\n",
    "print('Multiple dimensional {0} random array using a single dimensional array as input:\\n{1}'.format(\n",
    "    arr3.shape, arr3))\n",
    "\n"
   ],
   "outputs": [
    {
     "output_type": "stream",
     "name": "stdout",
     "text": [
      "A randomly generated scaler value: 9\n",
      "Single dimensional (5,) random array using a scaler value as input:\n",
      "[7 4 5 6 3]\n",
      "Multiple dimensional (4, 2) random array using a scaler value as input:\n",
      "[[8 1]\n",
      " [7 4]\n",
      " [1 9]\n",
      " [2 4]]\n",
      "Multiple dimensional (2, 2) random array using a single dimensional array as input:\n",
      "[[6 6]\n",
      " [4 3]]\n"
     ]
    }
   ],
   "metadata": {}
  },
  {
   "cell_type": "markdown",
   "source": [
    "#### bytes()\n",
    "- Creates an string containing random bytes\n",
    "- A length parameter is provide to specify the number of bytes"
   ],
   "metadata": {}
  },
  {
   "cell_type": "code",
   "execution_count": 177,
   "source": [
    "# Creating a string of random bytes\n",
    "rStr = np.random.bytes(10)\n",
    "\n",
    "print('A string containing random bytes of size 10:', rStr)"
   ],
   "outputs": [
    {
     "output_type": "stream",
     "name": "stdout",
     "text": [
      "A string containing random bytes of size 10: b'k\\xfe\\x93)k\\xa6\\xfa\\r\\x1cL'\n"
     ]
    }
   ],
   "metadata": {}
  },
  {
   "cell_type": "markdown",
   "source": [
    "### Permutations\n",
    "#### shuffle()\n",
    "- Accepts an array as input\n",
    "- Modify an array in-place by shuffling its contents\n",
    "- In case of multi dimension arrays, shuffle is only made on the first axis"
   ],
   "metadata": {}
  },
  {
   "cell_type": "code",
   "execution_count": 205,
   "source": [
    "# Creating a single dimensional array\n",
    "arr1 = np.arange(10)\n",
    "print('Un-shuffled arr1:{0}'.format(arr1))\n",
    "# Shuffling the array\n",
    "np.random.shuffle(arr1)\n",
    "print('Shuffled arr1:{0}'.format(arr1))\n",
    "\n",
    "# Creating a multi dimensional array\n",
    "arr2 = np.arange(16).reshape(4, 2, 2)\n",
    "print('Un-shuffled arr2:\\n{0}'.format(arr2))\n",
    "# Shuffling the array\n",
    "np.random.shuffle(arr2)\n",
    "print('Shuffled arr2:\\n{0}'.format(arr2))\n"
   ],
   "outputs": [
    {
     "output_type": "stream",
     "name": "stdout",
     "text": [
      "Un-shuffled arr1:[0 1 2 3 4 5 6 7 8 9]\n",
      "Shuffled arr1:[9 0 7 3 5 8 1 6 2 4]\n",
      "Un-shuffled arr2:\n",
      "[[[ 0  1]\n",
      "  [ 2  3]]\n",
      "\n",
      " [[ 4  5]\n",
      "  [ 6  7]]\n",
      "\n",
      " [[ 8  9]\n",
      "  [10 11]]\n",
      "\n",
      " [[12 13]\n",
      "  [14 15]]]\n",
      "Shuffled arr2:\n",
      "[[[ 8  9]\n",
      "  [10 11]]\n",
      "\n",
      " [[12 13]\n",
      "  [14 15]]\n",
      "\n",
      " [[ 0  1]\n",
      "  [ 2  3]]\n",
      "\n",
      " [[ 4  5]\n",
      "  [ 6  7]]]\n"
     ]
    }
   ],
   "metadata": {}
  },
  {
   "cell_type": "markdown",
   "source": [
    "#### permutation()\n",
    "- Accepts a scaler or an array as input. \n",
    "- In case a scaler is provided as an input parameter, automatically a range is created as the input\n",
    "- Randomly permute a sequence, or return a permuted range.\n",
    "- In case of multi dimension arrays, permutation is only made on the first axis"
   ],
   "metadata": {}
  },
  {
   "cell_type": "code",
   "execution_count": 24,
   "source": [
    "# Creating a permuted single dimensional array using a scaler input\n",
    "arr1 = np.random.permutation(10)\n",
    "print('Permuted array of size {0}, created from range 0 - 10: {1}'.format(arr1.shape, arr1))\n",
    "# Permuting a single dimensional array\n",
    "arr2 = np.random.permutation(arr1)\n",
    "print('Permuted arr1: {0}'.format(arr2))\n",
    "# Creating a multi dimensional array\n",
    "arr3 = np.arange(10).reshape(5, 2)\n",
    "print(\n",
    "    'Array of size {0} containing values:\\n{1}'.format(arr3.shape, arr3))\n",
    "# Permuting a multi dimensional array\n",
    "arr4 = np.random.permutation(arr3)\n",
    "print('Permuted arr3: {0}'.format(arr4))\n"
   ],
   "outputs": [
    {
     "output_type": "stream",
     "name": "stdout",
     "text": [
      "Permuted array of size (10,), created from range 0 - 10: [8 3 5 0 6 4 1 2 9 7]\n",
      "Permuted arr1: [2 8 4 0 6 1 9 5 3 7]\n",
      "Array of size (5, 2) containing values:\n",
      "[[0 1]\n",
      " [2 3]\n",
      " [4 5]\n",
      " [6 7]\n",
      " [8 9]]\n",
      "Permuted arr3: [[4 5]\n",
      " [6 7]\n",
      " [2 3]\n",
      " [0 1]\n",
      " [8 9]]\n"
     ]
    }
   ],
   "metadata": {}
  },
  {
   "cell_type": "markdown",
   "source": [
    "## Basic Indexing and Slicing"
   ],
   "metadata": {}
  },
  {
   "cell_type": "markdown",
   "source": [
    "### Indexing\n",
    "#### Single Dimensional Arrays\n",
    "- Indexing and slicing on single dimensional arrays are similar to python lists on the surface\n",
    "- In numpy, we can also use negative indexing to access arrays from the end"
   ],
   "metadata": {}
  },
  {
   "cell_type": "code",
   "execution_count": 25,
   "source": [
    "# Creating a single dimensional random integer array of size 10\n",
    "arr = np.random.randint(0, 100, 10)\n",
    "print('Content of arr: {0}'.format(arr))\n",
    "# Accessing the element using positive indexing\n",
    "print('Element at index 0: {0}'.format(arr[0]))\n",
    "print('Element at index 1: {0}'.format(arr[1]))\n",
    "print('Element at index 2: {0}'.format(arr[2]))\n",
    "\n",
    "# Accessing the elements using negative indexing\n",
    "print('Element at the last index: {0}'.format(arr[-1]))\n",
    "print('Element at second last index: {0}'.format(arr[-2]))\n"
   ],
   "outputs": [
    {
     "output_type": "stream",
     "name": "stdout",
     "text": [
      "Content of arr: [41  1 14  3 30 12 73 19 26 96]\n",
      "Element at index 0: 41\n",
      "Element at index 1: 1\n",
      "Element at index 2: 14\n",
      "Element at the last index: 96\n",
      "Element at second last index: 26\n"
     ]
    }
   ],
   "metadata": {}
  },
  {
   "cell_type": "markdown",
   "source": [
    "#### Multi-Dimensional Arrays\n",
    "- Accessing elements in multi dimensional arrays follows similar principles like single dimensional arrays\n",
    "- However, for multi dimensional arrays, the indices for each axis needs to be specified by passing a comma separated list of indices"
   ],
   "metadata": {}
  },
  {
   "cell_type": "code",
   "execution_count": 207,
   "source": [
    "# Creating a multi dimensional random integer array of size 3, 4\n",
    "arr = np.random.randint(0, 100, 12).reshape(3,4)\n",
    "print('Content of arr:\\n{0}'.format(arr))\n",
    "print('Number of axis in arr: {0}'.format(len(arr.shape)))\n",
    "\n",
    "# Accessing the element using positive indexing\n",
    "print('Element at index 0 for axis  0: {0}'.format(arr[0]))\n",
    "print('Element at index 1 for axis 0: {0}'.format(arr[1]))\n",
    "print('Element at index 0 for axis 0 and index 0 for axis 1: {0}'.format(arr[0, 0]))\n",
    "print(\n",
    "    'Element at index 0 for axis 0 and index 1 for axis 1: {0}'.format(arr[0, 1]))\n",
    "print(\n",
    "    'Element at index 1 for axis 0 and index 3 for axis 1: {0}'.format(arr[-1, -3]))\n"
   ],
   "outputs": [
    {
     "output_type": "stream",
     "name": "stdout",
     "text": [
      "Content of arr:\n",
      "[[26  9 30 76]\n",
      " [ 5 51 51 26]\n",
      " [36  6 88 30]]\n",
      "Number of axis in arr: 2\n",
      "Element at index 0 for axis  0: [26  9 30 76]\n",
      "Element at index 1 for axis 0: [ 5 51 51 26]\n",
      "Element at index 0 for axis 0 and index 0 for axis 1: 26\n",
      "Element at index 0 for axis 0 and index 1 for axis 1: 9\n",
      "Element at index 1 for axis 0 and index 3 for axis 1: 6\n"
     ]
    }
   ],
   "metadata": {}
  },
  {
   "cell_type": "markdown",
   "source": [
    "### Slicing"
   ],
   "metadata": {}
  },
  {
   "cell_type": "markdown",
   "source": [
    "- Single dimensional arrays can be sliced in similar fashion to that of normal python lists\n",
    "- Multi-dimensional arrays can be sliced on each **axis** generating a view on a sub-array or element\n",
    "- *axis* are the dimensions on a ndarray. For example a 3d array has 3 axes\n",
    "- There are many forms of indexing to create slices on an array.\n",
    "  - Each form of indexing applies to a axis on the array \n",
    "  - Multiple forms of indexing could also be combined by applying a different indexing from on different axes"
   ],
   "metadata": {}
  },
  {
   "cell_type": "markdown",
   "source": [
    "#### Basic Indexing\n",
    "- Basic indexing uses numeric indices to create a sliced view on an array\n",
    "- The created slice always contains continuous sequences of indices\n",
    "- Basic indexing creates a view of the data, any assignment to the slice would update the values in the original value  "
   ],
   "metadata": {}
  },
  {
   "cell_type": "code",
   "execution_count": 210,
   "source": [
    "# Creating a single dimensional array with 1 axis\n",
    "arr1 = np.arange(10)\n",
    "print('arr1:{0}'.format(arr1))\n",
    "# Slicing the array to retreive elements from index 2-7 on axis=0\n",
    "print('Slice on arr1:{0}'.format(arr1[2:7]))\n",
    "\n",
    "# Creating a multi dimensional array with 2 axis\n",
    "arr2 = np.arange(12).reshape(3,4)\n",
    "print('arr2:\\n{0}'.format(arr2))\n",
    "# Slicing the array to retreive elements from index 0 to 3 on axis=0 and 1 to 4 on axis=1\n",
    "print('Slice on arr2:\\n{0}'.format(arr2[0:3, 1:4]))\n",
    "\n",
    "# Creating a multi dimensional array with 3 axis\n",
    "arr3 = np.arange(24).reshape(2,3,4)\n",
    "print('arr3:\\n{0}'.format(arr3))\n",
    "# Slicing the array to retreive elements from index 1 on axis=0, 1 to 3 on axis=1 and index 2 to 4 on axis=3\n",
    "print('Slice on arr3:\\n{0}'.format(arr3[1, 1:3, 2:4]))\n"
   ],
   "outputs": [
    {
     "output_type": "stream",
     "name": "stdout",
     "text": [
      "arr1:[0 1 2 3 4 5 6 7 8 9]\n",
      "Slice on arr1:[2 3 4 5 6]\n",
      "arr2:\n",
      "[[ 0  1  2  3]\n",
      " [ 4  5  6  7]\n",
      " [ 8  9 10 11]]\n",
      "Slice on arr2:\n",
      "[[ 1  2  3]\n",
      " [ 5  6  7]\n",
      " [ 9 10 11]]\n",
      "arr3:\n",
      "[[[ 0  1  2  3]\n",
      "  [ 4  5  6  7]\n",
      "  [ 8  9 10 11]]\n",
      "\n",
      " [[12 13 14 15]\n",
      "  [16 17 18 19]\n",
      "  [20 21 22 23]]]\n",
      "Slice on arr3:\n",
      "[[18 19]\n",
      " [22 23]]\n"
     ]
    }
   ],
   "metadata": {}
  },
  {
   "cell_type": "code",
   "execution_count": 60,
   "source": [
    "# Creating a multi dimensional array with 2 axis\n",
    "arr2 = np.arange(12).reshape(3, 4)\n",
    "print('arr2:\\n{0}'.format(arr2))\n",
    "# Slicing the array to retreive elements from index 0 to 3 on axis=0 and 1 to 4 on axis=1\n",
    "arr2Slice = arr2[0:3, 1:4] # Storing the slice into a variable\n",
    "print('arr2Slice:\\n{0}'.format(arr2Slice))\n",
    "# Assigning a scaler value to the complete slice in arr2Slice\n",
    "arr2Slice[:] = -1\n",
    "print('arr2Slice after assignment of a scaler value:\\n{0}'.format(arr2Slice))\n",
    "# Checking arr2 after assignment into arr2Slice\n",
    "print('arr2:\\n{0}'.format(arr2))\n",
    "# Assigning an array of the same shape to arr2Slice to arr2Slice\n",
    "arr2Slice[:] = np.random.randint(0, 100, arr2Slice.shape)\n",
    "print('arr2Slice after assignment of an random array:\\n{0}'.format(arr2Slice))\n",
    "# Checking arr2 after assignment into arr2Slice\n",
    "print('arr2:\\n{0}'.format(arr2))\n",
    "# Assignment can be made directly into the array slice, without storing the reference into a variable\n",
    "arr2[0:3, 1:4] = 0\n",
    "print('arr2 after directly assigning a scaler value to its slice:\\n{0}'.format(arr2))\n"
   ],
   "outputs": [
    {
     "output_type": "stream",
     "name": "stdout",
     "text": [
      "arr2:\n",
      "[[ 0  1  2  3]\n",
      " [ 4  5  6  7]\n",
      " [ 8  9 10 11]]\n",
      "arr2Slice:\n",
      "[[ 1  2  3]\n",
      " [ 5  6  7]\n",
      " [ 9 10 11]]\n",
      "arr2Slice after assignment of a scaler value:\n",
      "[[-1 -1 -1]\n",
      " [-1 -1 -1]\n",
      " [-1 -1 -1]]\n",
      "arr2:\n",
      "[[ 0 -1 -1 -1]\n",
      " [ 4 -1 -1 -1]\n",
      " [ 8 -1 -1 -1]]\n",
      "arr2Slice after assignment of an random array:\n",
      "[[69 81 80]\n",
      " [ 8 75 15]\n",
      " [20 16 64]]\n",
      "arr2:\n",
      "[[ 0 69 81 80]\n",
      " [ 4  8 75 15]\n",
      " [ 8 20 16 64]]\n",
      "arr2 after directly assigning a scaler value to its slice:\n",
      "[[0 0 0 0]\n",
      " [4 0 0 0]\n",
      " [8 0 0 0]]\n"
     ]
    }
   ],
   "metadata": {}
  },
  {
   "cell_type": "markdown",
   "source": [
    "##### Negative Indexing\n",
    "- Negative indexing is an extension of basic indexing where we use both positive and negative numeric indices\n",
    "- Negative indexing also creates a view on the sliced array\n",
    "- Like basic indexing, updates to a created slice directly modifies the original array"
   ],
   "metadata": {}
  },
  {
   "cell_type": "code",
   "execution_count": 72,
   "source": [
    "# Creating a multi dimensional array with 2 axis\n",
    "arr2 = np.arange(12).reshape(3, 4)\n",
    "print('arr2:\\n{0}'.format(arr2))\n",
    "# Slicing the array to retreive elements from index -3 to -1 on axis=0 and -3 to -1 on axis=1\n",
    "arr2Slice = arr2[-3:-1, -3:-1]  # Storing the slice into a variable\n",
    "print('arr2Slice creating using negative indexing:\\n{0}'.format(arr2Slice))\n",
    "# Slicing the array to retreive elements from index -3 to -1 on axis=0 and -3 to -1 on axis=1\n",
    "arr2Slice1 = arr2[-3:-1, 1:3]  # Storing the slice into a variable\n",
    "print('arr2Slice1 creating using negative and positive indexing:\\n{0}'.format(arr2Slice1))\n",
    "print('Slice on arr2 created using negative and positive indexing:\\n{0}'.format(\n",
    "    arr2[0:-1, -3:3]))\n"
   ],
   "outputs": [
    {
     "output_type": "stream",
     "name": "stdout",
     "text": [
      "arr2:\n",
      "[[ 0  1  2  3]\n",
      " [ 4  5  6  7]\n",
      " [ 8  9 10 11]]\n",
      "arr2Slice creating using negative indexing:\n",
      "[[1 2]\n",
      " [5 6]]\n",
      "arr2Slice1 creating using negative and positive indexing:\n",
      "[[1 2]\n",
      " [5 6]]\n",
      "Slice on arr2 created using negative and positive indexing:\n",
      "[[1 2]\n",
      " [5 6]]\n"
     ]
    }
   ],
   "metadata": {}
  },
  {
   "cell_type": "markdown",
   "source": [
    "##### Wildcard Indexing\n",
    "- Wildcard indexing is another form of basic indexing where we do not use any numeric indices\n",
    "- Depending on whether this form is indexing is used to denote the start or end index, it automatically chooses all elements from either the start or the end of the array\n",
    "- This form of indexing can be combined with positive or negative indices as well\n",
    "- Wildcard indexing also creates a view on the sliced array\n",
    "- Like basic indexing, updates to a created slice directly modifies the original array"
   ],
   "metadata": {}
  },
  {
   "cell_type": "code",
   "execution_count": 75,
   "source": [
    "# Creating a multi dimensional array with 2 axis\n",
    "arr2 = np.arange(12).reshape(3, 4)\n",
    "print('arr2:\\n{0}'.format(arr2))\n",
    "# Slicing the array to retreive elements from all indices on axis=0 and all indices on axis=1\n",
    "print('arr2Slice creating using wildcard indexing:\\n{0}'.format(arr2[:, :]))\n",
    "\n",
    "# Slicing the array to retreive elements from index -3 to all on axis=0 and all to 4 on axis=1\n",
    "print('arr2Slice1 creating using wildcard and numeric indexing:\\n{0}'.format(\n",
    "    arr2[-3:, :4]))"
   ],
   "outputs": [
    {
     "output_type": "stream",
     "name": "stdout",
     "text": [
      "arr2:\n",
      "[[ 0  1  2  3]\n",
      " [ 4  5  6  7]\n",
      " [ 8  9 10 11]]\n",
      "arr2Slice creating using wildcard indexing:\n",
      "[[ 0  1  2  3]\n",
      " [ 4  5  6  7]\n",
      " [ 8  9 10 11]]\n",
      "arr2Slice1 creating using wildcard and numeric indexing:\n",
      "[[ 0  1  2  3]\n",
      " [ 4  5  6  7]\n",
      " [ 8  9 10 11]]\n"
     ]
    }
   ],
   "metadata": {}
  },
  {
   "cell_type": "markdown",
   "source": [
    "#### Boolean Indexing\n",
    "- Boolean indexing uses a array or sequence of boolean value equal to the shape of the array\n",
    "  - The sequence of boolean values can be defined as a list of boolean values\n",
    "  - Alternatively, a condition can also be used to generate the sequence of boolean values\n",
    "- Both single and multi dimensional arrays can be sliced using boolean indexing\n",
    "- The created slice contains elements from the array for which a *True* is present in the boolean sequence\n",
    "- A slice created using boolean indexing is a new array which contains a copy of the elements from the original array"
   ],
   "metadata": {}
  },
  {
   "cell_type": "code",
   "execution_count": 84,
   "source": [
    "# Creating a single dimensional array with 5 values\n",
    "arr = np.random.randint(0, 100, 5)\n",
    "print('arr: {0}'.format(arr))\n",
    "# Let us choose values at index 0, 2, 4 from arr using boolean indexing\n",
    "# Creating a list of boolean values that contains 5 elements with elements at index 0, 2 and 4 being True\n",
    "boolIndices = [True, False, True, False, True]\n",
    "print('Boolean Indices: {0}'.format(boolIndices))\n",
    "# Slicing arr using boolean indexing\n",
    "print('Sliced arr: {0}'.format(arr[boolIndices]))\n",
    "# Creating a list of boolean values using a condition on arr\n",
    "boolIndices = arr <= 50\n",
    "print('Boolean Indices created using a condition on arr: {0}'.format(boolIndices))\n",
    "# Slicing arr using boolean indexing\n",
    "print('Sliced arr using boolIndices created using a condition: {0}'.format(arr[boolIndices]))\n",
    "# Slicing arr using the condition directly \n",
    "print('Sliced arr using a condition directly for axis=0: {0}'.format(arr[arr > 50]))\n"
   ],
   "outputs": [
    {
     "output_type": "stream",
     "name": "stdout",
     "text": [
      "arr: [17 39 59 82 37]\n",
      "Boolean Indices: [True, False, True, False, True]\n",
      "Sliced arr: [17 59 37]\n",
      "Boolean Indices created using a condition on arr: [ True  True False False  True]\n",
      "Sliced arr using boolIndices created using a condition: [17 39 37]\n",
      "Sliced arr using a condition directly for axis=0: [59 82]\n"
     ]
    }
   ],
   "metadata": {}
  },
  {
   "cell_type": "code",
   "execution_count": 211,
   "source": [
    "# Creating a multidimensional array\n",
    "arr = np.random.randint(0,100,12).reshape(3,4)\n",
    "print('multi dimensional arr:\\n{0}'.format(arr))\n",
    "\n",
    "# We will slice the array using the condition arr > 25 which will generate a boolean array of the same shape as arr\n",
    "print(\n",
    "    'Array generated to slice arr using condition arr > 25:\\n{0}'.format(arr > 25))\n",
    "\n",
    "print(arr > 25)\n",
    "\n",
    "print('Sliced arr using condition arr > 25: {0}'.format(arr[arr > 25]))\n"
   ],
   "outputs": [
    {
     "output_type": "stream",
     "name": "stdout",
     "text": [
      "multi dimensional arr:\n",
      "[[82 44 48 26]\n",
      " [ 6 66 43 88]\n",
      " [30  9 36 83]]\n",
      "Array generated to slice arr using condition arr > 25:\n",
      "[[ True  True  True  True]\n",
      " [False  True  True  True]\n",
      " [ True False  True  True]]\n",
      "[[ True  True  True  True]\n",
      " [False  True  True  True]\n",
      " [ True False  True  True]]\n",
      "Sliced arr using condition arr > 25: [82 44 48 26 66 43 88 30 36 83]\n"
     ]
    }
   ],
   "metadata": {}
  },
  {
   "cell_type": "code",
   "execution_count": 134,
   "source": [
    "# Creating a single dimensional array with 5 values\n",
    "arr = np.random.randint(0, 100, 5)\n",
    "print('arr: {0}'.format(arr))\n",
    "# Assigning to a slice to a variable, creates a copy\n",
    "arrSlice = arr[[True, True, False, False, False]]\n",
    "print('arrSlice: {0}'.format(arrSlice))\n",
    "# Assigning to the slice\n",
    "arrSlice[:] = -1\n",
    "print('Values in arrSlice after assigning -1 to it: {0}'.format(arrSlice))\n",
    "print('Values in arr after assigning -1 to arrSlice created using boolean indexing: {0}'.format(arr))"
   ],
   "outputs": [
    {
     "output_type": "stream",
     "name": "stdout",
     "text": [
      "arr: [10 87 51 11 18]\n",
      "arrSlice: [10 87]\n",
      "Values in arrSlice after assigning -1 to it: [-1 -1]\n",
      "Values in arr after assigning -1 to arrSlice created using boolean indexing: [10 87 51 11 18]\n"
     ]
    }
   ],
   "metadata": {}
  },
  {
   "cell_type": "markdown",
   "source": [
    "\n",
    "#### Fancy Indexing\n",
    "- Fancy indexing is used to describe indexing using integers arrays or sequences on the appropriate axis\n",
    "- Can be used to re-order the values\n",
    "- Indices can be repeated to create duplicates\n",
    "- Both single and multi dimensional arrays can be sliced using fancy indexing\n",
    "- A slice created using fancy indexing is a new array which contains a copy of the elements from the original array"
   ],
   "metadata": {}
  },
  {
   "cell_type": "code",
   "execution_count": 138,
   "source": [
    "# Creating a single dimensional array with 5 values\n",
    "arr = np.random.randint(0, 100, 5)\n",
    "print('arr: {0}'.format(arr))\n",
    "# Let us choose values at index 0, 2, 4 as 0, 4, 2, 2 from arr using fancy indexing\n",
    "# Slicing arr using fancy indexing\n",
    "print('Sliced arr: {0}'.format(arr[[0, 4, 2, 2]]))\n",
    "\n",
    "# Creating a multidimensional array\n",
    "arr = np.random.randint(0, 100, 12).reshape(3, 4)\n",
    "print('multi dimensional arr:\\n{0}'.format(arr))\n",
    "# Slicing the array using fancy indexing on axis=1 and selecting all indices from axis=0 using wildcard indexing\n",
    "print('Sliced arr:\\n{0}'.format(arr[:, [1, 1]]))\n"
   ],
   "outputs": [
    {
     "output_type": "stream",
     "name": "stdout",
     "text": [
      "arr: [97 58 35 26 81]\n",
      "Sliced arr: [97 81 35 35]\n",
      "multi dimensional arr:\n",
      "[[87 14 51 84]\n",
      " [17 79 39 48]\n",
      " [73 79 94 24]]\n",
      "Sliced arr:\n",
      "[[14 14]\n",
      " [79 79]\n",
      " [79 79]]\n"
     ]
    }
   ],
   "metadata": {}
  },
  {
   "cell_type": "markdown",
   "source": [
    "#### Combining different forms of indexing techniques\n",
    "- Multiple forms on indexing techniques can be combined to create slices from multi dimensional arrays\n",
    "  - a different form of indexing technique can be specified for each axis\n",
    "- Using Boolean or Fancy indexing along with Basic indexing always creates a copy- \n",
    "- Using just different forms of Basic indexing does not create a copy\n",
    "- Boolean and Fancy indexing cannot be combined together"
   ],
   "metadata": {}
  },
  {
   "cell_type": "code",
   "execution_count": 156,
   "source": [
    "# Creating a multidimensional array\n",
    "arr = np.random.randint(0, 100, 12).reshape(3, 4)\n",
    "print('Combining basic and fancy indexing for axis=0 and axis=1 respectively:\\n{0}'.format(arr[0:3, [1,2]]))\n",
    "print('Combining boolean and basic indexing for axis=0 and axis=1 respectively:\\n{0}'.format(\n",
    "    arr[[True, False, False], :]))\n"
   ],
   "outputs": [
    {
     "output_type": "stream",
     "name": "stdout",
     "text": [
      "Combining basic and fancy indexing for axis=0 and axis=1 respectively:\n",
      "[[ 7 22]\n",
      " [ 3 27]\n",
      " [32 55]]\n",
      "Combining boolean and basic indexing for axis=0 and axis=1 respectively:\n",
      "[[ 1  7 22 58]]\n"
     ]
    }
   ],
   "metadata": {}
  },
  {
   "cell_type": "markdown",
   "source": [
    "### copy\n",
    "- A copy of a array slice can be created using the **copy** method of any dnarray \n",
    "- copying of a slice is relevant when working with basic indexing \n",
    "  - When slicing and assigning with basic indexing, we may need avoid modifying the original array\n",
    "  - In these cases a copy of the slice can be created"
   ],
   "metadata": {}
  },
  {
   "cell_type": "code",
   "execution_count": 161,
   "source": [
    "# Creating a single dimensional array with 5 values\n",
    "arr = np.random.randint(0, 100, 10)\n",
    "print('arr: {0}'.format(arr))\n",
    "# Creating a slice of arr\n",
    "arrSlice = arr[2:7].copy()\n",
    "print('arrSlice: {0}'.format(arrSlice))\n",
    "# Assigning to arrSlice\n",
    "arrSlice[:] = -1\n",
    "print('arrSlice after assignment: {0}'.format(arrSlice))\n",
    "print('arr after assignment to slice arrSlice: {0}'.format(arr))"
   ],
   "outputs": [
    {
     "output_type": "stream",
     "name": "stdout",
     "text": [
      "arr: [77 82 26 27 11 93  8 36 96  0]\n",
      "arrSlice: [26 27 11 93  8]\n",
      "arrSlice after assignment: [-1 -1 -1 -1 -1]\n",
      "arr after assignment to slice arrSlice: [77 82 26 27 11 93  8 36 96  0]\n"
     ]
    }
   ],
   "metadata": {}
  },
  {
   "cell_type": "markdown",
   "source": [
    "## Transposing Arrays and Swapping Axes\n",
    "### Transposing\n",
    "- Transposing is a form of reshaping that returns a view on the underlying data without copying.\n",
    "- Arrays have the *transpose* method and also the special attribute *T*   \n",
    "- Transposing is useful while performing matrix computations.\n",
    "- For example, the inner matrix product can be computed using np.dot\n",
    "- For higher dimensional arrays, *transpose* might also accept a tuple of axis numbers to permute the axes\n",
    "- Transposing an array creates a copy"
   ],
   "metadata": {}
  },
  {
   "cell_type": "code",
   "execution_count": 218,
   "source": [
    "# Creating a 2 dimensional array\n",
    "arr = np.random.randint(0,100, 8).reshape(2,4)\n",
    "print('arr has the shape {0}:\\n{1}'.format(arr.shape, arr))\n",
    "# arr can be transposed using the instance attribute T. axis 0 becomes axis 1 and axis 1 becomes axis 0\n",
    "arrTransposed = arr.T\n",
    "print('arr transposed has the shape {0}:\\n{1}'.format(arrTransposed.shape, arrTransposed))\n"
   ],
   "outputs": [
    {
     "output_type": "stream",
     "name": "stdout",
     "text": [
      "arr has the shape (2, 4):\n",
      "[[58  5 61 88]\n",
      " [29 61 89 46]]\n",
      "arr transposed has the shape (4, 2):\n",
      "[[58 29]\n",
      " [ 5 61]\n",
      " [61 89]\n",
      " [88 46]]\n"
     ]
    }
   ],
   "metadata": {}
  },
  {
   "cell_type": "code",
   "execution_count": 169,
   "source": [
    "# Creating a 3 dimensional array\n",
    "arr = np.random.randint(0, 100, 6).reshape(1, 2, 3)\n",
    "print('arr has the shape {0}:\\n{1}'.format(arr.shape, arr))\n",
    "# arr can be transposed using the instance attribute T. axis 0 becomes axis 2 and axis 1 remains same and axis 2 becomes axis 0\n",
    "arrTransposed = arr.T\n",
    "print('arr transposed has the shape {0}:\\n{1}'.format(\n",
    "    arrTransposed.shape, arrTransposed.T))\n"
   ],
   "outputs": [
    {
     "output_type": "stream",
     "name": "stdout",
     "text": [
      "arr has the shape (1, 2, 3):\n",
      "[[[29 85 75]\n",
      "  [26 78 16]]]\n",
      "arr transposed has the shape (3, 2, 1):\n",
      "[[[29 85 75]\n",
      "  [26 78 16]]]\n"
     ]
    }
   ],
   "metadata": {}
  },
  {
   "cell_type": "code",
   "execution_count": 221,
   "source": [
    "# Creating a 3 dimensional array\n",
    "arr = np.random.randint(0, 100, 6).reshape(1, 2, 3)\n",
    "print('arr has the shape {0}:\\n{1}'.format(arr.shape, arr))\n",
    "\n",
    "# The transpose method can better specify the position of the axis in the transposed array explicitly\n",
    "arrTransposed = arr.transpose(2,0,1)\n",
    "# arr can be transposed using the instance attribute T. axis 0 becomes axis 2 and axis 1 remains same and axis 2 becomes axis 0\n",
    "print('arr transposed has the shape {0}:\\n{1}'.format(\n",
    "    arrTransposed.shape, arrTransposed))\n"
   ],
   "outputs": [
    {
     "output_type": "stream",
     "name": "stdout",
     "text": [
      "arr has the shape (1, 2, 3):\n",
      "[[[56 15 80]\n",
      "  [16 38  7]]]\n",
      "arr transposed has the shape (3, 1, 2):\n",
      "[[[56 16]]\n",
      "\n",
      " [[15 38]]\n",
      "\n",
      " [[80  7]]]\n"
     ]
    }
   ],
   "metadata": {}
  },
  {
   "cell_type": "markdown",
   "source": [
    "### Swapping Axis\n",
    "- **swapaxes** is a method that takes a pair of axis numbers and switches the indicated axes to rearrange the data"
   ],
   "metadata": {}
  },
  {
   "cell_type": "code",
   "execution_count": 176,
   "source": [
    "# Creating a 3 dimensional array\n",
    "arr = np.random.randint(0, 100, 6).reshape(1, 2, 3)\n",
    "print('arr has the shape {0}:\\n{1}'.format(arr.shape, arr))\n",
    "\n",
    "# The swapaxes method accepts two axes as inputs and swaps them\n",
    "arrTransposed = arr.swapaxes(1, 2)\n",
    "# arr can be transposed using the instance attribute T. axis 0 becomes axis 2 and axis 1 remains same and axis 2 becomes axis 0\n",
    "print('arr transposed has the shape {0}:\\n{1}'.format(\n",
    "    arrTransposed.shape, arrTransposed))\n"
   ],
   "outputs": [
    {
     "output_type": "stream",
     "name": "stdout",
     "text": [
      "arr has the shape (1, 2, 3):\n",
      "[[[15 56 63]\n",
      "  [74 98 81]]]\n",
      "arr transposed has the shape (1, 3, 2):\n",
      "[[[15 74]\n",
      "  [56 98]\n",
      "  [63 81]]]\n"
     ]
    }
   ],
   "metadata": {}
  },
  {
   "cell_type": "markdown",
   "source": [
    "## Broadcasting\n",
    "- describes how arithmetic works between arrays of different shapes\n",
    "> Two arrays are compatible for broadcasting if for each trailing dimension (inner) the axis length matches or either of the length is 1"
   ],
   "metadata": {}
  },
  {
   "cell_type": "markdown",
   "source": [
    "## Arithmetic Operations\n",
    "- ndarray offers *vectorization*, that is allow batch operation on data without writing any for loops\n",
    "- Arithmetic operations can be performed on \n",
    "  - An array and scaler value\n",
    "  - Arrays of same size and shape\n",
    "  - Array of different size and shape only if their inner dimension(s) are the same\n",
    "- Operations with scalars propagate the scalar argument to each element in the array\n",
    "- Any arithmetic operations between equal size arrays applies the operation element wise\n",
    "- Operations between different sized arrays is called broadcasting\n",
    "- Comparison operators can also be applied to arrays and results in boolean \n",
    "- Arithmetic operators: +, -, /, *, %, **, // \n",
    "- Comparison operators:  ==, !=. <, <=, >, >="
   ],
   "metadata": {}
  },
  {
   "cell_type": "code",
   "execution_count": 209,
   "source": [
    "# Creating a single dimensional array\n",
    "arr1 = np.random.randint(0, 100, 6)\n",
    "print('arr1:{0}'.format(arr1))\n",
    "# Performing an arithmetic power operation with a scaler value\n",
    "print('Each element in arr1 raised to the power of 2:{0}'.format(arr1 ** 2))\n",
    "\n",
    "# Creating a multi dimensional array\n",
    "arr2 = np.random.randint(0, 100, 6).reshape(3,2)\n",
    "print('arr2 (shape: {0}):\\n{1}'.format(arr2.shape, arr2))\n",
    "# Performing an arithmetic addition operation with a scaler value\n",
    "print(\n",
    "    'Each element in arr2 has the value +1 added to it:\\n{0}'.format(arr2 + 1))\n",
    "\n",
    "# Creating another multi dimensional array with the same shape as arr2\n",
    "arr3 = np.random.randint(0, 100, 6).reshape(3, 2)\n",
    "print('arr3 (shape: {0}):\\n{1}'.format(arr3.shape, arr3))\n",
    "# Performing an arithmetic substraction operation between the two arrays\n",
    "print(\n",
    "    'Each element in arr3 is substracted from each element in arr2:\\n{0}'.format(arr2 - arr3))\n",
    "\n",
    "# Creating a single dimensional array with the same shape as the inner dimension (axis=1) of arr2\n",
    "arr4 = np.random.randint(0, 100, 2)\n",
    "print('arr4 (shape: {0}):\\n{1}'.format(arr4.shape, arr4))\n",
    "# Performing an arithmetic multiplication operation between the two arrays of different shape but same inner dimension\n",
    "print(\n",
    "    'Each element in arr4 is multiplied to each element in arr2:\\n{0}'.format(arr2 * arr4))\n",
    "\n",
    "# Creating a three dimensional array with its inner dimensions (axis=1, axis=2) same as of arr2\n",
    "arr5 = np.random.randint(0, 100, 12).reshape(2,3,2)\n",
    "print('arr5 (shape: {0}):\\n{1}'.format(arr5.shape, arr5))\n",
    "# Performing an arithmetic division operation between the two arrays of different shape but same inner dimension\n",
    "print(\n",
    "    'Each element in arr5 is divided by each element in arr2:\\n{0}'.format(arr5 / arr2))\n"
   ],
   "outputs": [
    {
     "output_type": "stream",
     "name": "stdout",
     "text": [
      "arr1:[43 18 29 70 72 98]\n",
      "Each element in arr1 raised to the power of 2:[1849  324  841 4900 5184 9604]\n",
      "arr2 (shape: (3, 2)):\n",
      "[[ 6 48]\n",
      " [31 59]\n",
      " [73 61]]\n",
      "Each element in arr2 has the value +1 added to it:\n",
      "[[ 7 49]\n",
      " [32 60]\n",
      " [74 62]]\n",
      "arr3 (shape: (3, 2)):\n",
      "[[ 5 27]\n",
      " [16 33]\n",
      " [40 91]]\n",
      "Each element in arr3 is substracted from each element in arr2:\n",
      "[[  1  21]\n",
      " [ 15  26]\n",
      " [ 33 -30]]\n",
      "arr4 (shape: (2,)):\n",
      "[42 38]\n",
      "Each element in arr4 is multiplied to each element in arr2:\n",
      "[[ 252 1824]\n",
      " [1302 2242]\n",
      " [3066 2318]]\n",
      "arr5 (shape: (2, 3, 2)):\n",
      "[[[76  9]\n",
      "  [26 29]\n",
      "  [72 47]]\n",
      "\n",
      " [[37 73]\n",
      "  [84 63]\n",
      "  [40 68]]]\n",
      "Each element in arr5 is divided by each element in arr2:\n",
      "[[[12.66666667  0.1875    ]\n",
      "  [ 0.83870968  0.49152542]\n",
      "  [ 0.98630137  0.7704918 ]]\n",
      "\n",
      " [[ 6.16666667  1.52083333]\n",
      "  [ 2.70967742  1.06779661]\n",
      "  [ 0.54794521  1.1147541 ]]]\n"
     ]
    }
   ],
   "metadata": {}
  },
  {
   "cell_type": "code",
   "execution_count": 204,
   "source": [
    "# Creating a single dimensional array\n",
    "arr1 = np.random.randint(0, 100, 6)\n",
    "print('arr1:{0}'.format(arr1))\n",
    "# Performing an comparison operation with a scaler value\n",
    "print('Each element in arr1 is checked to see if it is greater than the value 50: {0}'.format(arr1 > 50))\n",
    "\n",
    "# Creating a multi dimensional array\n",
    "arr2 = np.random.randint(0, 100, 6).reshape(3, 2)\n",
    "print('arr2:\\n{0}'.format(arr2))\n",
    "# Performing an comparison operation with a scaler value and adding the resulted two arrays together\n",
    "print(\n",
    "    'Each element in arr2 is checked to see if it is greater than the value 25 and smaller than 75:\\n{0}'.format( (arr2 > 25) + (arr2 < 75)))\n"
   ],
   "outputs": [
    {
     "output_type": "stream",
     "name": "stdout",
     "text": [
      "arr1:[42 52 42 33 67 74]\n",
      "Each element in arr1 is checked to see if it is greater than the value 50: [False  True False False  True  True]\n",
      "arr2:\n",
      "[[40 27]\n",
      " [52  4]\n",
      " [13 29]]\n",
      "Each element in arr2 is checked to see if it is greater than the value 25 and smaller than 75:\n",
      "[[ True  True]\n",
      " [ True  True]\n",
      " [ True  True]]\n"
     ]
    }
   ],
   "metadata": {}
  },
  {
   "cell_type": "markdown",
   "source": [
    "## Universal Function: Fast Element Wise Array Functions\n",
    "- Performs element wise operations on data in ndarrays\n",
    "- They act as vectorized wrappers for simple functions that take one or more scalar values and produce one or more scalar results\n",
    "- Most ufuncs are simple element wise transformations on an array, like sqrt or exp and are called as *unary* ufuncs"
   ],
   "metadata": {}
  },
  {
   "cell_type": "markdown",
   "source": [
    "### ufunc:\n",
    "- Performs element wise operation on a single array\n",
    "\n",
    "\n",
    "|function|description|\n",
    "|--------|-----------|\n",
    "|np.abs()|Computes the absolute element wise value for integers|\n",
    "|np.fabs()|Computes the absolute element wise value for floating point numbers|\n",
    "|np.square()|Computes the square of each element in an array|\n",
    "|np.sqrt()|Computes the square root of each element in an array|\n",
    "|np.exp()|Computes the exponent $e^x$ of each element in an array|\n",
    "|np.log()|Computes the natural logarithm base e of each element in an array|\n",
    "|np.log10()|Computes the natural logarithm base 10 of each element in an array|\n",
    "|np.log2()|Computes the natural logarithm base 2 of each element in an array|\n",
    "|np.log1p()|Computes the natural logarithm base (1+x) of each element in an array|\n",
    "|np.sign()|Computes the sign of each element in an array: 0 - zero, 1 - positive, -1 - negative|\n",
    "|np.ceil()|Rounds each element in an array to the nearest integer greater than or equal to it for floating point and numeric values respectively|\n",
    "|np.floor()|Rounds each element in an array to the nearest integer less than or equal to it for floating point and numeric values respectively|\n",
    "|np.rint()|Rounds each element in an array to the nearest integer|\n",
    "|np.modf()|Returns the fractional and integer part of the array as a separate array|\n",
    "|np.isnan()|Returns a boolean array indicating if each value is NaN (Number not available)|\n",
    "|np.isfinite()|Returns a boolean array indicating if each value is finite|\n",
    "|np.isinf()|Returns a boolean array indicating if each value is infinite|\n",
    "|np.logical_not()|Computes the *not* of each element in a boolean array|\n",
    "|np.cos(), np.cosh(), np.sin(), np.sinh(), np.tan(), np.tanh()|Regular hyperbolic trigonometric functions|-/-|-/-|"
   ],
   "metadata": {}
  },
  {
   "cell_type": "markdown",
   "source": [
    "### binary ufunc:\n",
    "- Performs element wise operation between two arrays and returns the result\n",
    "- Both arrays should be of same shape or their inner dimensions must match \n",
    "\n",
    "|function|description|\n",
    "|--------|-----------|\n",
    "|np.add()|Adds corresponding elements in the arrays|\n",
    "|np.subtract()|Subtracts corresponding elements in the arrays|\n",
    "|np.multiply()|Multiplies corresponding elements in the arrays|\n",
    "|np.divide()|Divides corresponding elements in the first array by the second array|\n",
    "|np.floor_divide()|Divides corresponding elements in the first array by the second array and returns the numerator|\n",
    "|np.maximum()|Maximum of the corresponding elements in the arrays|\n",
    "|np.fmax()|Maximum of the corresponding elements in the arrays. Ignores NaN|\n",
    "|np.minimum()|Minimum of the corresponding elements in the arrays|\n",
    "|np.fmin()|Minimum of the corresponding elements in the arrays. Ignores NaN|\n",
    "|np.mod()|Divides corresponding elements in the first array by the second array and returns the remainder|\n",
    "|np.copysign()|Copies the sign of corresponding elements in the second array to the first array|\n",
    "|np.greater()|Performs boolean greater than check of the corresponding elements in the first array to the second array. Returns a boolean array|\n",
    "|np.greater_equal()|Performs boolean greater than and equal to check of the corresponding elements in the first array to the second array. Returns a boolean array|\n",
    "|np.less()|Performs boolean smaller than check of the corresponding elements in the first array to the second array. Returns a boolean array|\n",
    "|np.less_equal()|Performs boolean smaller than and equal to check of the corresponding elements in the first array to the second array. Returns a boolean array|\n",
    "|np.equal()|Performs boolean equal check of the corresponding elements in the arrays. Returns a boolean array|\n",
    "|np.not_equal()|Performs boolean not equal check of the corresponding elements in the arrays. Returns a boolean array|\n",
    "|np.logical_and()|Performs logical and operation on the corresponding elements in arrays|\n",
    "|np.logical_or()|Performs logical or operation on the corresponding elements in arrays| \n",
    "|np.logical_xor()|Performs logical xor operation on the corresponding elements in arrays| \n"
   ],
   "metadata": {}
  },
  {
   "cell_type": "markdown",
   "source": [
    "### aggregation:\n",
    "- Each NumPy ufuncs has special methods for performing certain kinds of special vectorized operations\n",
    "\n",
    "|function|description|\n",
    "|--------|-----------|\n",
    "|np.*ufunc*.reduce()|Aggregates values by successive application of the operation|\n",
    "|np.*ufunc*.accumulate()|Aggregates values by preserving all partial aggregates|\n",
    "|np.*ufunc*.reduceat()|Local reduce or group by; reduces contiguous slices of data to produce aggregated array|\n",
    "|np.*ufunc*.outer()| Applies operations to all pairs of elements in two arrays; the resulting array has the shape as the sum of the shape of both the arrays|\n"
   ],
   "metadata": {}
  },
  {
   "cell_type": "markdown",
   "source": [
    "## Array-Oriented Programming with Arrays\n",
    "- The practice of replacing explicit loops with array expressions is commonly referred to as vectorization\n",
    "- NumPy arrays allows many kinds of data processing tasks as concise array expressions, rather than using loops\n",
    "- Vectorized array operations are one or two (or more) orders of magnitude faster"
   ],
   "metadata": {}
  },
  {
   "cell_type": "code",
   "execution_count": 274,
   "source": [
    "# Let's say you have two 1-D arrays and you want to evaluate the expression sqrt(x^2 + y^2)\n",
    "#  for each element pair in the arrays.\n",
    "arr1 = np.arange(4)  # 1x4\n",
    "arr2 = np.arange(4, 7, 1)  # 1x3\n",
    "print('arr1:\\n', arr1)\n",
    "print('arr2:\\n', arr2)\n",
    "result = []\n",
    "# Traditionally we can use two for loops\n",
    "for i in arr2:\n",
    "  for j in arr1:\n",
    "    result.append(np.sqrt(i ** 2 + j ** 2))\n",
    "result = np.array(result)\n",
    "print('shape of result:', result.shape)  # why?\n",
    "# We can transform this to a 3x4 array\n",
    "print('3x4 result\\n:', result.reshape(3, 4))\n"
   ],
   "outputs": [
    {
     "output_type": "stream",
     "name": "stdout",
     "text": [
      "arr1:\n",
      " [0 1 2 3]\n",
      "arr2:\n",
      " [4 5 6]\n",
      "shape of result: (12,)\n",
      "3x4 result\n",
      ": [[4.         4.12310563 4.47213595 5.        ]\n",
      " [5.         5.09901951 5.38516481 5.83095189]\n",
      " [6.         6.08276253 6.32455532 6.70820393]]\n"
     ]
    }
   ],
   "metadata": {}
  },
  {
   "cell_type": "markdown",
   "source": [
    "### **np.meshgrid()** \n",
    "- a function that takes two single dimensional arrays and produce two 2 dimensional array corresponding to all pairs of values in the two input arrays"
   ],
   "metadata": {}
  },
  {
   "cell_type": "code",
   "execution_count": 275,
   "source": [
    "# in our case, we meshgrid x and y to prepare two new arrays that can be broadcased\n",
    "arr1Grid, arr2Grid = np.meshgrid(arr1, arr2)  # creates two 3x4 arrays\n",
    "print('xs:\\n', arr1Grid)\n",
    "print('ys:\\n', arr2Grid)\n"
   ],
   "outputs": [
    {
     "output_type": "stream",
     "name": "stdout",
     "text": [
      "xs:\n",
      " [[0 1 2 3]\n",
      " [0 1 2 3]\n",
      " [0 1 2 3]]\n",
      "ys:\n",
      " [[4 4 4 4]\n",
      " [5 5 5 5]\n",
      " [6 6 6 6]]\n"
     ]
    }
   ],
   "metadata": {}
  },
  {
   "cell_type": "code",
   "execution_count": 276,
   "source": [
    "result = np.sqrt(arr1Grid ** 2 + arr2Grid ** 2)\n",
    "print('result:\\n{0}'.format(result))\n"
   ],
   "outputs": [
    {
     "output_type": "stream",
     "name": "stdout",
     "text": [
      "result:\n",
      "[[4.         4.12310563 4.47213595 5.        ]\n",
      " [5.         5.09901951 5.38516481 5.83095189]\n",
      " [6.         6.08276253 6.32455532 6.70820393]]\n"
     ]
    }
   ],
   "metadata": {}
  },
  {
   "cell_type": "markdown",
   "source": [
    "## Conditional Logic as Array Operations\n",
    "### numpy.where\n",
    "- function is a vectorized version the ternary expression\n",
    "- The second and third arguments to np.where doesn't need to be array, one or both of them can be scalars"
   ],
   "metadata": {}
  },
  {
   "cell_type": "code",
   "execution_count": 244,
   "source": [
    "# If we have two single dimensional arrays and we want to choose the maximum element when comparing each element from the two arrays\n",
    "arr1 = np.random.randint(-100, 100, 9)\n",
    "arr2 = np.random.randint(-100, 100, 9)\n",
    "result = np.where(arr1 > arr2, arr1, arr2)\n",
    "print('arr1:', arr1)\n",
    "print('arr2:', arr2)\n",
    "print('result:', result)\n"
   ],
   "outputs": [
    {
     "output_type": "stream",
     "name": "stdout",
     "text": [
      "arr1: [ -59   -2   23   93  -17   86 -100   73  -49]\n",
      "arr2: [-70  46  28  25 -53  17   0  68  15]\n",
      "result: [-59  46  28  93 -17  86   0  73  15]\n"
     ]
    }
   ],
   "metadata": {}
  },
  {
   "cell_type": "code",
   "execution_count": 245,
   "source": [
    "# Suppose we have a multi dimensional array of randomly generated data and we wanted to replace all positive values with 1 and all negative values with 0.\n",
    "arr1 = np.random.randn(4, 4)\n",
    "result = np.where(arr1 > 0, 1, 0)\n",
    "print('arr1:', arr1)\n",
    "print('result:', result)\n"
   ],
   "outputs": [
    {
     "output_type": "stream",
     "name": "stdout",
     "text": [
      "arr1: [[ 0.19481061 -0.63113749 -2.39750123 -0.91196804]\n",
      " [-0.1252391   0.38937848  0.33608027  0.57221401]\n",
      " [ 0.30478289  0.76375121 -1.05093122 -1.4198291 ]\n",
      " [ 0.0600492   0.06814378 -1.53232217  1.07207815]]\n",
      "result: [[1 0 0 0]\n",
      " [0 1 1 1]\n",
      " [1 1 0 0]\n",
      " [1 1 0 1]]\n"
     ]
    }
   ],
   "metadata": {}
  },
  {
   "cell_type": "markdown",
   "source": [
    "## Mathematical and Statistical Methods\n",
    "- Computes statistics about an entire array or the data along an axis\n",
    "- Aggregations (reductions) such as *sum*, *mean*, and *std* are called using array instance methods or using the top-level NumPy functions\n",
    "- Functions like *sum*  and *mean* takes an optional axis argument that computes the statistic over the given axis\n",
    "- Methods for Boolean Arrays\n",
    "    - Boolean values are coerced to 1 (True) and 0 (False)\n",
    "    - Thus, *sum* can be used as a means of counting True values in a boolean array\n",
    "\n",
    "|function|description|\n",
    "|--------|-----------|\n",
    "|np.sum()|Calculates the sum of the elements in the array. If an axis argument is provided, the sum is measured along the axis|\n",
    "|np.mean()|Calculates the mean of the elements in the array. If an axis argument is provided, the mean is measured along the axis|\n",
    "|np.std()|Calculates the standard deviation of the elements in the array. If an axis is provided the standard deviation is measured along the axis|\n",
    "|np.var()|Calculates variance of the elements in the array. If an axis is provided the variance is measured along the axis|\n",
    "|np.min()|Calculates the minimum value of the elements in the array. If an axis is provided the minimum is measured along the axis|\n",
    "|np.max()|Calculates the maximum value of the elements in the array. If an axis is provided the maximum is measured along the axis|\n",
    "|np.argmin()|Calculates the index for the minimum value of the elements in the array. If an axis is provided the index of the minimum value is searched along the axis|\n",
    "|np.argmax()|Calculates the index for the maximum value of the elements in the array. If an axis is provided the index of the maximum value is searched along the axis|\n",
    "|np.cumsum()|Calculates the cumulative sum of the elements in the array. If an axis argument is provided, the cumulative sum is measured along the axis|\n",
    "|np.cumprod()|Calculates the cumulative product of the elements in the array. If an axis argument is provided, the cumulative product is measured along the axis|"
   ],
   "metadata": {}
  },
  {
   "cell_type": "markdown",
   "source": [
    "## Linear Algebra\n",
    "- *np.linalg* has a standard set of matrix decompositions methods\n",
    "\n",
    "|function|description|\n",
    "|--------|-----------|\n",
    "|np.diag()|Returns the diagonal or off-diagonal elements of a square matrix as a 1D array, or converts a 1D array into a square matrix with zeros on the off-diagonal|\n",
    "|np.dot()|Matix multiplication|\n",
    "|np.trace()|Computes the sum of the diagonal elements|\n",
    "|np.linalg.det()|Computes the matrix determinant|\n",
    "|np.linalg.eig()|Computes the eigenvalues and eigenvectors of a square matrix|\n",
    "|np.linalg.inv()|Computes the inverse of a square matrix|\n",
    "|np.linalg.pinv()|Computes the Moore-Penrose pseudo-inverse of a matrix|\n",
    "|np.linalg.qr()|Computes the QR decomposition|\n",
    "|np.linalg.svd()|Computes the singular value decomposition (SVD)|\n",
    "|np.linalg.solve()|Solve the linear system $Ax = b$ for x where, A is a square matrix\n",
    "|np.linalg.lstsq()|Compute the lease-squares solution of $Ax = b$\n"
   ],
   "metadata": {}
  },
  {
   "cell_type": "markdown",
   "source": [
    " ## Sorting\n",
    "- NumPy arrays can be sorted *in-place* with the sort **instance** method of the array\n",
    "- Using the top-level **np.sort** method on an array would return a *copy*\n",
    "- Multidimensional arrays can also be sorted along a axis"
   ],
   "metadata": {}
  },
  {
   "cell_type": "code",
   "execution_count": 260,
   "source": [
    "arr = np.random.randn(8)\n",
    "print('arr:\\n', arr)\n",
    "# Using the instance method. in-place sorting\n",
    "arr.sort()\n",
    "print('arr (sorted):\\n', arr)\n"
   ],
   "outputs": [
    {
     "output_type": "stream",
     "name": "stdout",
     "text": [
      "arr:\n",
      " [ 1.54509562  1.31644276  0.76174466  0.2280686  -1.14972919 -1.62665528\n",
      "  0.53810454  0.29891128]\n",
      "arr (sorted):\n",
      " [-1.62665528 -1.14972919  0.2280686   0.29891128  0.53810454  0.76174466\n",
      "  1.31644276  1.54509562]\n"
     ]
    }
   ],
   "metadata": {}
  },
  {
   "cell_type": "code",
   "execution_count": 261,
   "source": [
    "arr = np.random.randn(8)\n",
    "# Using the top-level np.sort method. sorted copy is returned\n",
    "arr1 = np.sort(arr)\n",
    "print('unsorted array arr:\\n', arr)\n",
    "print('sorted array arr1:\\n', arr1)"
   ],
   "outputs": [
    {
     "output_type": "stream",
     "name": "stdout",
     "text": [
      "unsorted array arr:\n",
      " [ 0.49778634  1.5042212   1.17442641 -1.27159298 -0.43087861 -1.01255286\n",
      "  0.17403696  1.03635486]\n",
      "sorted array arr1:\n",
      " [-1.27159298 -1.01255286 -0.43087861  0.17403696  0.49778634  1.03635486\n",
      "  1.17442641  1.5042212 ]\n"
     ]
    }
   ],
   "metadata": {}
  },
  {
   "cell_type": "code",
   "execution_count": 262,
   "source": [
    "arr = np.random.randint(0, 10, 8).reshape(2, 4)\n",
    "print('arr:\\n', arr)\n",
    "arr.sort(axis=0)\n",
    "print('sorting array over axis=0:\\n', arr)\n",
    "arr.sort(axis=1)\n",
    "print('sorting array over axis=1:\\n', arr)\n"
   ],
   "outputs": [
    {
     "output_type": "stream",
     "name": "stdout",
     "text": [
      "arr:\n",
      " [[5 9 9 9]\n",
      " [4 7 4 9]]\n",
      "sorting array over axis=0:\n",
      " [[4 7 4 9]\n",
      " [5 9 9 9]]\n",
      "sorting array over axis=1:\n",
      " [[4 4 7 9]\n",
      " [5 9 9 9]]\n"
     ]
    }
   ],
   "metadata": {}
  },
  {
   "cell_type": "markdown",
   "source": [
    "- Indirect Sorts: argsort and lexsort\n",
    "- Certain cases requires reordering of datasets by one or more keys. In addition to using the *key* argument in the sort method describing a method for secondary sorting, we can also use the *argsort* array instance method or the top-level *np.lexsort* method\n",
    "  - an axis can be provided to either of the methods to sort over a given axis\n",
    "  - *argsort* returns the integer indices of a array after sorting it\n",
    "  - *lexsort* performs indirect lexicopraphical sort on multiple key arrays\n",
    "  - in any of the sorting methods, the attribute *kind* can be used to specify the sorting algorithm: 'quick', 'mergesort', or 'heapsort' (default:'kind=quicksort')"
   ],
   "metadata": {}
  },
  {
   "cell_type": "code",
   "execution_count": 263,
   "source": [
    "# argsort\n",
    "arr = np.array([5, 0, 1, 3, 2]) * 1000\n",
    "indexer = arr.argsort()\n",
    "print('unsorted array:', arr)\n",
    "print('indexer:', indexer)\n",
    "print('array sorted using its sorted indices and then performing fancy indexing:', arr[indexer])\n"
   ],
   "outputs": [
    {
     "output_type": "stream",
     "name": "stdout",
     "text": [
      "unsorted array: [5000    0 1000 3000 2000]\n",
      "indexer: [1 2 4 3 0]\n",
      "array sorted using its sorted indices and then performing fancy indexing: [   0 1000 2000 3000 5000]\n"
     ]
    }
   ],
   "metadata": {}
  },
  {
   "cell_type": "code",
   "execution_count": 264,
   "source": [
    "# lexsort: performing on data identified by first and last names\n",
    "f_name = np.array(['Bob', 'Jane', 'Steve', 'Bill', 'Barbara'])\n",
    "l_name = np.array(['Jones', 'Arnold', 'Arnold', 'Jones', 'Waters'])\n",
    "sorter = np.lexsort((f_name, l_name))\n",
    "print('sorter:', sorter)\n",
    "df = zip(l_name[sorter], f_name[sorter])\n",
    "print('Sorted Data:\\n', list(df))"
   ],
   "outputs": [
    {
     "output_type": "stream",
     "name": "stdout",
     "text": [
      "sorter: [1 2 3 0 4]\n",
      "Sorted Data:\n",
      " [('Arnold', 'Jane'), ('Arnold', 'Steve'), ('Jones', 'Bill'), ('Jones', 'Bob'), ('Waters', 'Barbara')]\n"
     ]
    }
   ],
   "metadata": {}
  },
  {
   "cell_type": "markdown",
   "source": [
    "## Set Logic\n",
    "- NumPy has basic set operations for 1-D arrays\n",
    "\n",
    "|function|description|\n",
    "|--------|-----------|\n",
    "|np.unique()|Computes the sorted unique elements in the array|\n",
    "|np.intersect1d()|Computes the sorted intersection (common elements) between two arrays|\n",
    "|np.union1d()|Computes the sorted union of two arrays|\n",
    "|np.in1d()|Computes a boolean array indicating if corresponding elements from first array is present in the second array|\n",
    "|np.setdiff1d()|Computes the difference (uncommon elements) between two arrays|\n",
    "|np.setxor1d()|Computes the symmetric difference to produce elements that are present in either of the arrays but not both|"
   ],
   "metadata": {}
  },
  {
   "cell_type": "markdown",
   "source": [
    "## Array Manipulation\n",
    "### ravel() and flatten()\n",
    "- Transforms a n-D array into 1-D\n",
    "- The array instance method *ravel* can be used to flatten an array. Like reshape, ravel does not produce a copy of the array if the underlying values are continuous. \n",
    "- If we want to instead always create a copy, we would use the array instance method **flatten**"
   ],
   "metadata": {}
  },
  {
   "cell_type": "code",
   "execution_count": 283,
   "source": [
    "arr = np.arange(10).reshape(2, 5)\n",
    "\n",
    "print('arr:\\n', arr)\n",
    "arr1 = arr.ravel()  # make a view\n",
    "arr1[0:5] = -1\n",
    "print('arr1:', arr1)\n",
    "print('arr, after its slice arr1 was changed:\\n', arr)\n",
    "\n",
    "arr = np.arange(10).reshape(2, 5)\n",
    "arr2 = arr.flatten()  # makes a copy\n",
    "arr2[0:5] = 0\n",
    "print('arr2:', arr2)\n",
    "print('arr, after its slice arr1 was changed:\\n', arr)\n"
   ],
   "outputs": [
    {
     "output_type": "stream",
     "name": "stdout",
     "text": [
      "arr:\n",
      " [[0 1 2 3 4]\n",
      " [5 6 7 8 9]]\n",
      "arr1: [-1 -1 -1 -1 -1  5  6  7  8  9]\n",
      "arr, after its slice arr1 was changed:\n",
      " [[-1 -1 -1 -1 -1]\n",
      " [ 5  6  7  8  9]]\n",
      "arr2: [0 0 0 0 0 5 6 7 8 9]\n",
      "arr, after its slice arr1 was changed:\n",
      " [[0 1 2 3 4]\n",
      " [5 6 7 8 9]]\n"
     ]
    }
   ],
   "metadata": {}
  },
  {
   "cell_type": "markdown",
   "source": [
    "## Concatenating and Splitting Arrays\n",
    "### np.concatenate():\n",
    "- takes a sequence and joins them together in order along the input axis      "
   ],
   "metadata": {}
  },
  {
   "cell_type": "code",
   "execution_count": 284,
   "source": [
    "arr1 = np.arange(1, 7, step=1).reshape(2, 3)\n",
    "arr2 = np.arange(7, 13, step=1).reshape(2, 3)\n",
    "print('np.concatenate on axis=0:\\n', np.concatenate([arr1, arr2], axis=0))\n",
    "print('\\nnp.concatenate on axis=1:\\n', np.concatenate([arr1, arr2], axis=1))\n"
   ],
   "outputs": [
    {
     "output_type": "stream",
     "name": "stdout",
     "text": [
      "np.concatenate on axis=0:\n",
      " [[ 1  2  3]\n",
      " [ 4  5  6]\n",
      " [ 7  8  9]\n",
      " [10 11 12]]\n",
      "\n",
      "np.concatenate on axis=1:\n",
      " [[ 1  2  3  7  8  9]\n",
      " [ 4  5  6 10 11 12]]\n"
     ]
    }
   ],
   "metadata": {}
  },
  {
   "cell_type": "markdown",
   "source": [
    "### np.split(): \n",
    "- slices an array into multiple arrays along an axis"
   ],
   "metadata": {}
  },
  {
   "cell_type": "code",
   "execution_count": 270,
   "source": [
    "#Splitting Arrays\n",
    "arr = np.arange(30).reshape(5, 6)\n",
    "print('arr:\\n', arr)\n",
    "arr1, arr2, arr3 = np.split(arr, [2, 3, ], axis=1)\n",
    "print('arr1:\\n', arr1)  # arr[:, 0:2]\n",
    "print('arr2:\\n', arr2)  # arr[:, 2:3]\n",
    "print('arr3:\\n', arr3)  # arr[:, 3:]\n"
   ],
   "outputs": [
    {
     "output_type": "stream",
     "name": "stdout",
     "text": [
      "arr:\n",
      " [[ 0  1  2  3  4  5]\n",
      " [ 6  7  8  9 10 11]\n",
      " [12 13 14 15 16 17]\n",
      " [18 19 20 21 22 23]\n",
      " [24 25 26 27 28 29]]\n",
      "arr1:\n",
      " [[ 0  1]\n",
      " [ 6  7]\n",
      " [12 13]\n",
      " [18 19]\n",
      " [24 25]]\n",
      "arr2:\n",
      " [[ 2]\n",
      " [ 8]\n",
      " [14]\n",
      " [20]\n",
      " [26]]\n",
      "arr3:\n",
      " [[ 3  4  5]\n",
      " [ 9 10 11]\n",
      " [15 16 17]\n",
      " [21 22 23]\n",
      " [27 28 29]]\n"
     ]
    }
   ],
   "metadata": {}
  },
  {
   "cell_type": "markdown",
   "source": [
    "## File Input and Output with Arrays\n",
    "- NumPy is able to save and load data to and from disk either in text or binary format\n",
    "- *np.save* and *np.load* are two workhorse functions for efficiently saving and loading data on disk\n",
    "- Arrays are saved by default in an uncompressed raw binary format with file extension *.npy*\n",
    "- Multiple arrays can be stored in an uncompressed archive *.npz* file using *np.savez* method and passing the arrays as arguments\n",
    "- *np.savez_compressed* method can be used to store the arrays with compression\n",
    "- *npz* files are loaded as a dict-like object that loads indivisual arrays lazily"
   ],
   "metadata": {}
  },
  {
   "cell_type": "code",
   "execution_count": 272,
   "source": [
    "arr1 = np.arange(100)\n",
    "arr2 = np.arange(100, 1000)\n",
    "# the ndarray arr1 will be stored into a file call data.npy\n",
    "np.save('./data/data', arr1)\n",
    "# the ndarrays arr1 and arr2 will be stored into a archive file (with compression) called data.npz\n",
    "np.savez_compressed('./data/data', arr1, arr2)\n"
   ],
   "outputs": [],
   "metadata": {}
  },
  {
   "cell_type": "code",
   "execution_count": 325,
   "source": [
    "arr = np.load('./data/data.npy')  # Loading data.npy into variable arr\n",
    "arrDict = np.load('./data/data.npz')  # Loading data.npz into variable arrDict\n",
    "print('arr:', arr[:10])\n",
    "print('keys in arrDict:\\n', list(arrDict.keys()))  # Lazily loading 1st array\n",
    "print('value of array stored in key arr_0 in arrDict:\\n',\n",
    "      list(arrDict['arr_0'][:10]))  # Lazily loading 1st array\n"
   ],
   "outputs": [
    {
     "output_type": "stream",
     "name": "stdout",
     "text": [
      "arr: [0 1 2 3 4 5 6 7 8 9]\n",
      "keys in arrDict:\n",
      " ['arr_0', 'arr_1']\n",
      "value of array stored in key arr_0 in arrDict:\n",
      " [0, 1, 2, 3, 4, 5, 6, 7, 8, 9]\n"
     ]
    }
   ],
   "metadata": {}
  },
  {
   "cell_type": "markdown",
   "source": [],
   "metadata": {}
  }
 ],
 "metadata": {
  "orig_nbformat": 4,
  "language_info": {
   "name": "python",
   "version": "3.9.7",
   "mimetype": "text/x-python",
   "codemirror_mode": {
    "name": "ipython",
    "version": 3
   },
   "pygments_lexer": "ipython3",
   "nbconvert_exporter": "python",
   "file_extension": ".py"
  },
  "kernelspec": {
   "name": "python3",
   "display_name": "Python 3.9.7 64-bit ('.env': venv)"
  },
  "interpreter": {
   "hash": "8fd94e79afed183dec18442d91f58a1ae1175473bc06ba222d8c84f03b015a77"
  }
 },
 "nbformat": 4,
 "nbformat_minor": 2
}