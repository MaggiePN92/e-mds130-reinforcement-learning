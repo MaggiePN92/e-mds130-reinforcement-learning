{
 "cells": [
  {
   "cell_type": "code",
   "execution_count": 2,
   "id": "47b08988",
   "metadata": {},
   "outputs": [],
   "source": [
    "import torch\n",
    "import numpy as np"
   ]
  },
  {
   "cell_type": "code",
   "execution_count": 4,
   "id": "50088750",
   "metadata": {},
   "outputs": [],
   "source": [
    "a = np.array([\n",
    "    [1,2,3],\n",
    "    [1,2,3],\n",
    "    [1,2,3],\n",
    "])"
   ]
  },
  {
   "cell_type": "code",
   "execution_count": 5,
   "id": "c7477208",
   "metadata": {},
   "outputs": [
    {
     "data": {
      "text/plain": [
       "numpy.ndarray"
      ]
     },
     "execution_count": 5,
     "metadata": {},
     "output_type": "execute_result"
    }
   ],
   "source": [
    "type(a)"
   ]
  },
  {
   "cell_type": "code",
   "execution_count": 6,
   "id": "eb10ef8f",
   "metadata": {},
   "outputs": [],
   "source": [
    "b = torch.tensor([\n",
    "    [1,2,3],\n",
    "    [1,2,3],\n",
    "    [1,2,3],\n",
    "])"
   ]
  },
  {
   "cell_type": "code",
   "execution_count": 8,
   "id": "23eac7f7",
   "metadata": {},
   "outputs": [
    {
     "data": {
      "text/plain": [
       "torch.Tensor"
      ]
     },
     "execution_count": 8,
     "metadata": {},
     "output_type": "execute_result"
    }
   ],
   "source": [
    "type(b)"
   ]
  },
  {
   "cell_type": "code",
   "execution_count": 9,
   "id": "bbc15d77",
   "metadata": {},
   "outputs": [],
   "source": [
    "in_neurons = 3\n",
    "hidden_neurons =  1\n",
    "output_neurons = 1"
   ]
  },
  {
   "cell_type": "code",
   "execution_count": 10,
   "id": "368eeddb",
   "metadata": {},
   "outputs": [],
   "source": [
    "import random"
   ]
  },
  {
   "cell_type": "code",
   "execution_count": 72,
   "id": "7aa2c56a",
   "metadata": {},
   "outputs": [],
   "source": [
    "X = torch.Tensor([\n",
    "    [0,1,1],\n",
    "    [1,1,0],\n",
    "    [1,0,0],\n",
    "    [0,1,1],\n",
    "    [1,1,0],\n",
    "    [1,0,0],\n",
    "])\n",
    "\n",
    "y = torch.Tensor([\n",
    "    [random.randint(0,1)] for _ in range(6)\n",
    "])"
   ]
  },
  {
   "cell_type": "code",
   "execution_count": 73,
   "id": "4485dfee",
   "metadata": {},
   "outputs": [],
   "source": [
    "torch.seed = 6"
   ]
  },
  {
   "cell_type": "code",
   "execution_count": 74,
   "id": "df73faaf",
   "metadata": {},
   "outputs": [
    {
     "name": "stdout",
     "output_type": "stream",
     "text": [
      "torch.Size([1, 3])\n",
      "torch.Size([1])\n"
     ]
    }
   ],
   "source": [
    "w1 = torch.rand((in_neurons, hidden_neurons), requires_grad = True)\n",
    "w1 = w1.T\n",
    "print(w1.shape)\n",
    "b1 = torch.rand((hidden_neurons, ), requires_grad = True)\n",
    "print(b1.shape)"
   ]
  },
  {
   "cell_type": "code",
   "execution_count": 75,
   "id": "6676deea",
   "metadata": {},
   "outputs": [],
   "source": [
    "yhat = w1*X+b1"
   ]
  },
  {
   "cell_type": "code",
   "execution_count": 76,
   "id": "42b6fb4c",
   "metadata": {},
   "outputs": [],
   "source": [
    "loss = (torch.sum(y - yhat)**2)\n",
    "loss.backward()"
   ]
  },
  {
   "cell_type": "code",
   "execution_count": 77,
   "id": "cb6b7e46",
   "metadata": {},
   "outputs": [],
   "source": [
    "model = torch.nn.Sequential(\n",
    "    torch.nn.Linear(in_neurons, hidden_neurons),\n",
    "    torch.nn.Sigmoid(),\n",
    "    torch.nn.Linear(hidden_neurons, output_neurons)\n",
    ")\n",
    "\n",
    "loss_fn = torch.nn.MSELoss()\n",
    "optimizer = torch.optim.SGD(model.parameters(), lr=0.05)"
   ]
  },
  {
   "cell_type": "code",
   "execution_count": 79,
   "id": "b8bb6c7f",
   "metadata": {},
   "outputs": [
    {
     "ename": "SyntaxError",
     "evalue": "invalid syntax (1958080303.py, line 15)",
     "output_type": "error",
     "traceback": [
      "\u001b[0;36m  Input \u001b[0;32mIn [79]\u001b[0;36m\u001b[0m\n\u001b[0;31m    if e % np.round(epochs 10 10) == 0:\u001b[0m\n\u001b[0m                           ^\u001b[0m\n\u001b[0;31mSyntaxError\u001b[0m\u001b[0;31m:\u001b[0m invalid syntax\n"
     ]
    }
   ],
   "source": [
    "epochs = 25_000\n",
    "\n",
    "for e in range(epochs):\n",
    "    # forward\n",
    "    y_pred = model(X)\n",
    "    # calc loss\n",
    "    loss = loss_fn(y_pred, y)\n",
    "    # set grads to 0\n",
    "    optimizer.zero_grad()\n",
    "    # backwards\n",
    "    loss.backward()\n",
    "    # update params\n",
    "    optimizer.step()\n",
    "    \n",
    "    if e % np.round(epochs 10 10) == 0:\n",
    "        print(f\"epoch {e}, error: {loss}\")\n",
    "    \n",
    "    "
   ]
  },
  {
   "cell_type": "code",
   "execution_count": null,
   "id": "cf7fc8c6",
   "metadata": {},
   "outputs": [],
   "source": []
  }
 ],
 "metadata": {
  "kernelspec": {
   "display_name": "Python 3 (ipykernel)",
   "language": "python",
   "name": "python3"
  },
  "language_info": {
   "codemirror_mode": {
    "name": "ipython",
    "version": 3
   },
   "file_extension": ".py",
   "mimetype": "text/x-python",
   "name": "python",
   "nbconvert_exporter": "python",
   "pygments_lexer": "ipython3",
   "version": "3.8.6"
  }
 },
 "nbformat": 4,
 "nbformat_minor": 5
}
