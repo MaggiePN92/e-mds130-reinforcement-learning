{
 "cells": [
  {
   "cell_type": "code",
   "execution_count": 2,
   "id": "3b9865fe",
   "metadata": {},
   "outputs": [],
   "source": [
    "import numpy as np\n",
    "import pandas as pd"
   ]
  },
  {
   "cell_type": "code",
   "execution_count": 4,
   "id": "a4416d44",
   "metadata": {},
   "outputs": [],
   "source": [
    "# features\n",
    "X = np.array([\n",
    "    [0,1,0],\n",
    "    [0,0,1],\n",
    "    [0,0,1],\n",
    "    [0,0,1],\n",
    "    [0,0,1],\n",
    "    [0,0,1],\n",
    "    [0,0,1],\n",
    "])\n",
    "\n",
    "y = np.array([\n",
    "    [0],\n",
    "    [1],\n",
    "    [1],\n",
    "    [1],\n",
    "    [1],\n",
    "    [1],\n",
    "    [1],\n",
    "])"
   ]
  },
  {
   "cell_type": "code",
   "execution_count": 5,
   "id": "153c47eb",
   "metadata": {},
   "outputs": [
    {
     "data": {
      "text/html": [
       "<div>\n",
       "<style scoped>\n",
       "    .dataframe tbody tr th:only-of-type {\n",
       "        vertical-align: middle;\n",
       "    }\n",
       "\n",
       "    .dataframe tbody tr th {\n",
       "        vertical-align: top;\n",
       "    }\n",
       "\n",
       "    .dataframe thead th {\n",
       "        text-align: right;\n",
       "    }\n",
       "</style>\n",
       "<table border=\"1\" class=\"dataframe\">\n",
       "  <thead>\n",
       "    <tr style=\"text-align: right;\">\n",
       "      <th></th>\n",
       "      <th>x1</th>\n",
       "      <th>x2</th>\n",
       "      <th>x3</th>\n",
       "      <th>y</th>\n",
       "    </tr>\n",
       "  </thead>\n",
       "  <tbody>\n",
       "    <tr>\n",
       "      <th>0</th>\n",
       "      <td>0</td>\n",
       "      <td>1</td>\n",
       "      <td>0</td>\n",
       "      <td>0</td>\n",
       "    </tr>\n",
       "    <tr>\n",
       "      <th>1</th>\n",
       "      <td>0</td>\n",
       "      <td>0</td>\n",
       "      <td>1</td>\n",
       "      <td>1</td>\n",
       "    </tr>\n",
       "    <tr>\n",
       "      <th>2</th>\n",
       "      <td>0</td>\n",
       "      <td>0</td>\n",
       "      <td>1</td>\n",
       "      <td>1</td>\n",
       "    </tr>\n",
       "    <tr>\n",
       "      <th>3</th>\n",
       "      <td>0</td>\n",
       "      <td>0</td>\n",
       "      <td>1</td>\n",
       "      <td>1</td>\n",
       "    </tr>\n",
       "    <tr>\n",
       "      <th>4</th>\n",
       "      <td>0</td>\n",
       "      <td>0</td>\n",
       "      <td>1</td>\n",
       "      <td>1</td>\n",
       "    </tr>\n",
       "    <tr>\n",
       "      <th>5</th>\n",
       "      <td>0</td>\n",
       "      <td>0</td>\n",
       "      <td>1</td>\n",
       "      <td>1</td>\n",
       "    </tr>\n",
       "    <tr>\n",
       "      <th>6</th>\n",
       "      <td>0</td>\n",
       "      <td>0</td>\n",
       "      <td>1</td>\n",
       "      <td>1</td>\n",
       "    </tr>\n",
       "  </tbody>\n",
       "</table>\n",
       "</div>"
      ],
      "text/plain": [
       "   x1  x2  x3  y\n",
       "0   0   1   0  0\n",
       "1   0   0   1  1\n",
       "2   0   0   1  1\n",
       "3   0   0   1  1\n",
       "4   0   0   1  1\n",
       "5   0   0   1  1\n",
       "6   0   0   1  1"
      ]
     },
     "execution_count": 5,
     "metadata": {},
     "output_type": "execute_result"
    }
   ],
   "source": [
    "df = pd.DataFrame(X, columns=[\"x1\",\"x2\",\"x3\"])\n",
    "df[\"y\"] = y\n",
    "df"
   ]
  },
  {
   "cell_type": "code",
   "execution_count": 6,
   "id": "c9e29649",
   "metadata": {},
   "outputs": [],
   "source": [
    "# Create our network\n",
    "input_neurons = 3\n",
    "hidden_neurons = 1\n",
    "output_neurons = 2"
   ]
  },
  {
   "cell_type": "code",
   "execution_count": 7,
   "id": "6f0e5729",
   "metadata": {},
   "outputs": [],
   "source": [
    "# Generate random weights and biases\n",
    "np.random.seed(42)\n",
    "\n",
    "# generate weights with shape: 3x1\n",
    "weights = np.random.rand(input_neurons, hidden_neurons)\n",
    "bias = np.random.rand(hidden_neurons)"
   ]
  },
  {
   "cell_type": "code",
   "execution_count": 9,
   "id": "80aa1b96",
   "metadata": {},
   "outputs": [
    {
     "name": "stdout",
     "output_type": "stream",
     "text": [
      "Weights with shape (3, 1): \n",
      " [[0.37454012]\n",
      " [0.95071431]\n",
      " [0.73199394]] \n",
      "\n",
      "Bias with shape (1,): \n",
      " [0.59865848]\n"
     ]
    }
   ],
   "source": [
    "print(f\"Weights with shape {weights.shape}: \\n {weights} \\n\")\n",
    "print(f\"Bias with shape {bias.shape}: \\n {bias}\")"
   ]
  },
  {
   "cell_type": "code",
   "execution_count": 22,
   "id": "6626eb33",
   "metadata": {},
   "outputs": [],
   "source": [
    "def transform(weights, bias):\n",
    "    global X\n",
    "    return np.dot(X, weights) + bias\n",
    "\n",
    "def transform_derivative(weihgts, bias, e=0.001):\n",
    "    \"\"\"  \"\"\"\n",
    "    XW = transform(weights, bias) \n",
    "    \n",
    "    dtdw = (transform(weights + e, bias) - XW) / e\n",
    "    dtdb = (transform(weights, bias + e) - XW) / e\n",
    "    \n",
    "    return dtdw, dtdb"
   ]
  },
  {
   "cell_type": "code",
   "execution_count": 23,
   "id": "973b71c6",
   "metadata": {},
   "outputs": [],
   "source": [
    "def sigmoid(XW):\n",
    "    return 1/(1 + np.exp(-XW))\n",
    "\n",
    "def sigmoid_derivative(XW, e=0.001):\n",
    "    return (sigmoid(XW + e) - sigmoid(XW)) / e"
   ]
  },
  {
   "cell_type": "code",
   "execution_count": 24,
   "id": "415998ec",
   "metadata": {},
   "outputs": [],
   "source": [
    "def cost(actual, pred):\n",
    "    return pred - actual\n",
    "\n",
    "#def cost_derivative():\n",
    "    \"\"\" \n",
    "    cost(x) = p(x) - a(x) \n",
    "    \n",
    "    dc(x)/dx = dp(x)/dx - da(x)/dx\n",
    "    \n",
    "    dc(x)/dx = (dp(x) - da(x))/dx\n",
    "    \n",
    "    dx\n",
    "        \n",
    "    \"\"\""
   ]
  },
  {
   "cell_type": "code",
   "execution_count": 25,
   "id": "a07f7214",
   "metadata": {},
   "outputs": [],
   "source": [
    "def backward(z, error):\n",
    "    global X, y, weights, bias\n",
    "    \n",
    "    dtdw, dtdb = transform_derivative(weights, bias)\n",
    "    dsdt = sigmoid_derivative(z)\n",
    "    deds = error\n",
    "    \n",
    "    # apply chain rule\n",
    "    z_del = deds * dsdt\n",
    "    \n",
    "    # update params\n",
    "    weights = weights - lr * np.dot(X.T, z_del * dtdw)\n",
    "    \n",
    "    for num in z_del * dtdb:\n",
    "        bias = bias - lr * num"
   ]
  },
  {
   "cell_type": "code",
   "execution_count": 27,
   "id": "d3daa0a0",
   "metadata": {},
   "outputs": [
    {
     "name": "stdout",
     "output_type": "stream",
     "text": [
      "Epoch 0, error 0.13464975455238012\n",
      "Epoch 2500, error 0.00021317445053067107\n",
      "Epoch 5000, error 5.0353226007935935e-05\n",
      "Epoch 7500, error 2.188501458914871e-05\n",
      "Epoch 10000, error 1.2161124395592212e-05\n",
      "Epoch 12500, error 7.722920665402697e-06\n",
      "Epoch 15000, error 5.334190760579887e-06\n",
      "Epoch 17500, error 3.9033316125106485e-06\n",
      "Epoch 20000, error 2.9792581743139914e-06\n",
      "Epoch 22500, error 2.34818270442839e-06\n"
     ]
    }
   ],
   "source": [
    "epochs = 25_000\n",
    "lr = 0.05\n",
    "\n",
    "for e in range(epochs):\n",
    "    # forward pass \n",
    "    XW = transform(weights, bias)\n",
    "    \n",
    "    # activation fn.\n",
    "    z = sigmoid(XW)\n",
    "    \n",
    "    error = z - y\n",
    "    \n",
    "    backward(z, error)\n",
    "    \n",
    "    if e % np.round(epochs / 10) == 0:\n",
    "        # MSE\n",
    "        error = np.mean(np.square(cost(y, z)))\n",
    "        print(f\"Epoch {e}, error {error}\")"
   ]
  },
  {
   "cell_type": "code",
   "execution_count": 29,
   "id": "33a8af5b",
   "metadata": {},
   "outputs": [
    {
     "data": {
      "text/plain": [
       "array([[ 0.37454012],\n",
       "       [-5.88727113],\n",
       "       [ 7.12851157]])"
      ]
     },
     "execution_count": 29,
     "metadata": {},
     "output_type": "execute_result"
    }
   ],
   "source": [
    "weights"
   ]
  },
  {
   "cell_type": "code",
   "execution_count": 31,
   "id": "ceb80517",
   "metadata": {},
   "outputs": [
    {
     "data": {
      "text/html": [
       "<div>\n",
       "<style scoped>\n",
       "    .dataframe tbody tr th:only-of-type {\n",
       "        vertical-align: middle;\n",
       "    }\n",
       "\n",
       "    .dataframe tbody tr th {\n",
       "        vertical-align: top;\n",
       "    }\n",
       "\n",
       "    .dataframe thead th {\n",
       "        text-align: right;\n",
       "    }\n",
       "</style>\n",
       "<table border=\"1\" class=\"dataframe\">\n",
       "  <thead>\n",
       "    <tr style=\"text-align: right;\">\n",
       "      <th></th>\n",
       "      <th>actual</th>\n",
       "      <th>pred</th>\n",
       "    </tr>\n",
       "  </thead>\n",
       "  <tbody>\n",
       "    <tr>\n",
       "      <th>0</th>\n",
       "      <td>0</td>\n",
       "      <td>0.0</td>\n",
       "    </tr>\n",
       "    <tr>\n",
       "      <th>1</th>\n",
       "      <td>1</td>\n",
       "      <td>1.0</td>\n",
       "    </tr>\n",
       "    <tr>\n",
       "      <th>2</th>\n",
       "      <td>1</td>\n",
       "      <td>1.0</td>\n",
       "    </tr>\n",
       "    <tr>\n",
       "      <th>3</th>\n",
       "      <td>1</td>\n",
       "      <td>1.0</td>\n",
       "    </tr>\n",
       "    <tr>\n",
       "      <th>4</th>\n",
       "      <td>1</td>\n",
       "      <td>1.0</td>\n",
       "    </tr>\n",
       "    <tr>\n",
       "      <th>5</th>\n",
       "      <td>1</td>\n",
       "      <td>1.0</td>\n",
       "    </tr>\n",
       "    <tr>\n",
       "      <th>6</th>\n",
       "      <td>1</td>\n",
       "      <td>1.0</td>\n",
       "    </tr>\n",
       "  </tbody>\n",
       "</table>\n",
       "</div>"
      ],
      "text/plain": [
       "   actual  pred\n",
       "0       0   0.0\n",
       "1       1   1.0\n",
       "2       1   1.0\n",
       "3       1   1.0\n",
       "4       1   1.0\n",
       "5       1   1.0\n",
       "6       1   1.0"
      ]
     },
     "execution_count": 31,
     "metadata": {},
     "output_type": "execute_result"
    }
   ],
   "source": [
    "XW = np.dot(X, weights) + bias\n",
    "predict = np.round(sigmoid(XW))\n",
    "pd.DataFrame({\"actual\":y.flatten(), \"pred\":predict.flatten()})"
   ]
  },
  {
   "cell_type": "code",
   "execution_count": null,
   "id": "c1908c90",
   "metadata": {},
   "outputs": [],
   "source": []
  }
 ],
 "metadata": {
  "kernelspec": {
   "display_name": "Python 3 (ipykernel)",
   "language": "python",
   "name": "python3"
  },
  "language_info": {
   "codemirror_mode": {
    "name": "ipython",
    "version": 3
   },
   "file_extension": ".py",
   "mimetype": "text/x-python",
   "name": "python",
   "nbconvert_exporter": "python",
   "pygments_lexer": "ipython3",
   "version": "3.8.6"
  }
 },
 "nbformat": 4,
 "nbformat_minor": 5
}
