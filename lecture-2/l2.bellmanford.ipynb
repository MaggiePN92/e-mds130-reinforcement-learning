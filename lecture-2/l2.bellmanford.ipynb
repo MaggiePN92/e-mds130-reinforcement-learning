{
 "cells": [
  {
   "cell_type": "code",
   "execution_count": 3,
   "metadata": {},
   "outputs": [],
   "source": [
    "import numpy as np"
   ]
  },
  {
   "cell_type": "code",
   "execution_count": 4,
   "metadata": {},
   "outputs": [
    {
     "name": "stdout",
     "output_type": "stream",
     "text": [
      "Vertices: ['a', 'b', 'c', 'd', 'e', 'f', 'g', 'h', 'i', 'j', 'k', 'l', 'm', 'n', 'o', 'p', 'q', 'r']\n",
      "Edges and their weights: \n",
      "[(('a', 'b'), 2), (('a', 'c'), 2), (('c', 'd'), 2), (('d', 'e'), 2), (('e', 'f'), 4), (('f', 'g'), 2), (('f', 'h'), 2), (('g', 'h'), 2), (('h', 'i'), 2), (('h', 'j'), 3), (('i', 'h'), 2), (('j', 'k'), 2), (('k', 'l'), 2), (('l', 'm'), 1), (('m', 'n'), 3), (('n', 'o'), 2), (('o', 'p'), 3), (('o', 'q'), 3), (('p', 'q'), 2), (('q', 'r'), 3)]\n"
     ]
    }
   ],
   "source": [
    "# Define the vertices V and edges E\n",
    "V = ['a', 'b', 'c', 'd', 'e', 'f', 'g', 'h', 'i', 'j', 'k', 'l', 'm', 'n', 'o', 'p', 'q', 'r']\n",
    "E = [\n",
    "    ('a', 'b'), ('a', 'c'), \n",
    "    ('c', 'd'), \n",
    "    ('d', 'e'), \n",
    "    ('e', 'f'), \n",
    "    ('f', 'g'), ('f', 'h'), \n",
    "    ('g', 'h'),\n",
    "    ('h', 'i'), ('h', 'j'), ('i', 'h'),\n",
    "    ('j', 'k'),\n",
    "    ('k', 'l'),\n",
    "    ('l', 'm'),\n",
    "    ('m', 'n'),\n",
    "    ('n', 'o'),\n",
    "    ('o', 'p'), ('o', 'q'),\n",
    "    ('p', 'q'),\n",
    "    ('q', 'r')\n",
    "    ]\n",
    "\n",
    "# Also specify the weights for the edges\n",
    "weights = [2, 2, 2, 2, 4, 2, 2, 2, 2, 3, 2, 2, 2, 1, 3, 2, 3, 3, 2, 3]\n",
    "\n",
    "\n",
    "# Print the vertices and edges\n",
    "print('Vertices: {}'.format(V))\n",
    "\n",
    "# Print the edges and their respective weights\n",
    "print('Edges and their weights: \\n{}'.format(list(zip(E, weights))))\n",
    "\n",
    "\n",
    "# An empty list that will hold the shorted path distance from the starting vertex to all other vertices\n",
    "distances = []"
   ]
  },
  {
   "cell_type": "code",
   "execution_count": 5,
   "metadata": {},
   "outputs": [],
   "source": [
    "# Initialize the distances \n",
    "def init(): \n",
    "    # Access the global variable\n",
    "    global distances\n",
    "    # set the distance to the start vertex as zero\n",
    "    distances.append(0)\n",
    "    # set distance to all other vertices from the start vertex as infinity\n",
    "    for i in range(len(V) - 1):\n",
    "        distances.append(np.inf)"
   ]
  },
  {
   "cell_type": "code",
   "execution_count": 6,
   "metadata": {},
   "outputs": [],
   "source": [
    "# Create the cost function\n",
    "def cost(u, v):\n",
    "    # Get the index in edges where this edge is present\n",
    "    index = E.index((u, v))\n",
    "    # Get their respective weight and return it\n",
    "    return weights[index]"
   ]
  },
  {
   "cell_type": "code",
   "execution_count": 7,
   "metadata": {},
   "outputs": [],
   "source": [
    "# Relax the distances\n",
    "def relax(u ,v):\n",
    "    # Access the global variable\n",
    "    global distances\n",
    "    # Get the index of the vertices\n",
    "    indexU = V.index(u)\n",
    "    indexV = V.index(v)\n",
    "\n",
    "    # Perform the relaxation\n",
    "    if distances[indexU] + cost(u, v) < distances[indexV]:\n",
    "        distances[indexV] = distances[indexU] + cost(u, v)\n"
   ]
  },
  {
   "cell_type": "code",
   "execution_count": 8,
   "metadata": {},
   "outputs": [
    {
     "name": "stdout",
     "output_type": "stream",
     "text": [
      "Current distances from start indices: [0, inf, inf, inf, inf, inf, inf, inf, inf, inf, inf, inf, inf, inf, inf, inf, inf, inf]\n"
     ]
    }
   ],
   "source": [
    "# Call the initialization function to initialize the distances\n",
    "init()\n",
    "print('Current distances from start indices: {}'.format(distances))"
   ]
  },
  {
   "cell_type": "code",
   "execution_count": 9,
   "metadata": {},
   "outputs": [
    {
     "name": "stdout",
     "output_type": "stream",
     "text": [
      "Distances at iteration 0: [('a', 0), ('b', inf), ('c', inf), ('d', inf), ('e', inf), ('f', inf), ('g', inf), ('h', inf), ('i', inf), ('j', inf), ('k', inf), ('l', inf), ('m', inf), ('n', inf), ('o', inf), ('p', inf), ('q', inf), ('r', inf)]\n",
      "Distances at iteration 1: [('a', 0), ('b', 2), ('c', 2), ('d', 4), ('e', 6), ('f', 10), ('g', 12), ('h', 12), ('i', 14), ('j', 15), ('k', 17), ('l', 19), ('m', 20), ('n', 23), ('o', 25), ('p', 28), ('q', 28), ('r', 31)]\n",
      "Distances at iteration 2: [('a', 0), ('b', 2), ('c', 2), ('d', 4), ('e', 6), ('f', 10), ('g', 12), ('h', 12), ('i', 14), ('j', 15), ('k', 17), ('l', 19), ('m', 20), ('n', 23), ('o', 25), ('p', 28), ('q', 28), ('r', 31)]\n",
      "Distances at iteration 3: [('a', 0), ('b', 2), ('c', 2), ('d', 4), ('e', 6), ('f', 10), ('g', 12), ('h', 12), ('i', 14), ('j', 15), ('k', 17), ('l', 19), ('m', 20), ('n', 23), ('o', 25), ('p', 28), ('q', 28), ('r', 31)]\n",
      "Distances at iteration 4: [('a', 0), ('b', 2), ('c', 2), ('d', 4), ('e', 6), ('f', 10), ('g', 12), ('h', 12), ('i', 14), ('j', 15), ('k', 17), ('l', 19), ('m', 20), ('n', 23), ('o', 25), ('p', 28), ('q', 28), ('r', 31)]\n",
      "Distances at iteration 5: [('a', 0), ('b', 2), ('c', 2), ('d', 4), ('e', 6), ('f', 10), ('g', 12), ('h', 12), ('i', 14), ('j', 15), ('k', 17), ('l', 19), ('m', 20), ('n', 23), ('o', 25), ('p', 28), ('q', 28), ('r', 31)]\n",
      "Distances at iteration 6: [('a', 0), ('b', 2), ('c', 2), ('d', 4), ('e', 6), ('f', 10), ('g', 12), ('h', 12), ('i', 14), ('j', 15), ('k', 17), ('l', 19), ('m', 20), ('n', 23), ('o', 25), ('p', 28), ('q', 28), ('r', 31)]\n",
      "Distances at iteration 7: [('a', 0), ('b', 2), ('c', 2), ('d', 4), ('e', 6), ('f', 10), ('g', 12), ('h', 12), ('i', 14), ('j', 15), ('k', 17), ('l', 19), ('m', 20), ('n', 23), ('o', 25), ('p', 28), ('q', 28), ('r', 31)]\n",
      "Distances at iteration 8: [('a', 0), ('b', 2), ('c', 2), ('d', 4), ('e', 6), ('f', 10), ('g', 12), ('h', 12), ('i', 14), ('j', 15), ('k', 17), ('l', 19), ('m', 20), ('n', 23), ('o', 25), ('p', 28), ('q', 28), ('r', 31)]\n",
      "Distances at iteration 9: [('a', 0), ('b', 2), ('c', 2), ('d', 4), ('e', 6), ('f', 10), ('g', 12), ('h', 12), ('i', 14), ('j', 15), ('k', 17), ('l', 19), ('m', 20), ('n', 23), ('o', 25), ('p', 28), ('q', 28), ('r', 31)]\n",
      "Distances at iteration 10: [('a', 0), ('b', 2), ('c', 2), ('d', 4), ('e', 6), ('f', 10), ('g', 12), ('h', 12), ('i', 14), ('j', 15), ('k', 17), ('l', 19), ('m', 20), ('n', 23), ('o', 25), ('p', 28), ('q', 28), ('r', 31)]\n",
      "Distances at iteration 11: [('a', 0), ('b', 2), ('c', 2), ('d', 4), ('e', 6), ('f', 10), ('g', 12), ('h', 12), ('i', 14), ('j', 15), ('k', 17), ('l', 19), ('m', 20), ('n', 23), ('o', 25), ('p', 28), ('q', 28), ('r', 31)]\n",
      "Distances at iteration 12: [('a', 0), ('b', 2), ('c', 2), ('d', 4), ('e', 6), ('f', 10), ('g', 12), ('h', 12), ('i', 14), ('j', 15), ('k', 17), ('l', 19), ('m', 20), ('n', 23), ('o', 25), ('p', 28), ('q', 28), ('r', 31)]\n",
      "Distances at iteration 13: [('a', 0), ('b', 2), ('c', 2), ('d', 4), ('e', 6), ('f', 10), ('g', 12), ('h', 12), ('i', 14), ('j', 15), ('k', 17), ('l', 19), ('m', 20), ('n', 23), ('o', 25), ('p', 28), ('q', 28), ('r', 31)]\n",
      "Distances at iteration 14: [('a', 0), ('b', 2), ('c', 2), ('d', 4), ('e', 6), ('f', 10), ('g', 12), ('h', 12), ('i', 14), ('j', 15), ('k', 17), ('l', 19), ('m', 20), ('n', 23), ('o', 25), ('p', 28), ('q', 28), ('r', 31)]\n",
      "Distances at iteration 15: [('a', 0), ('b', 2), ('c', 2), ('d', 4), ('e', 6), ('f', 10), ('g', 12), ('h', 12), ('i', 14), ('j', 15), ('k', 17), ('l', 19), ('m', 20), ('n', 23), ('o', 25), ('p', 28), ('q', 28), ('r', 31)]\n",
      "Distances at iteration 16: [('a', 0), ('b', 2), ('c', 2), ('d', 4), ('e', 6), ('f', 10), ('g', 12), ('h', 12), ('i', 14), ('j', 15), ('k', 17), ('l', 19), ('m', 20), ('n', 23), ('o', 25), ('p', 28), ('q', 28), ('r', 31)]\n"
     ]
    }
   ],
   "source": [
    "# We need to execute it V - 1 times\n",
    "for i in range(len(V) - 1):\n",
    "    print('Distances at iteration {}: {}'.format(i, list(zip(V, distances))))\n",
    "    # We need to relax for each edge\n",
    "    for u, v in E:\n",
    "        relax(u, v)"
   ]
  },
  {
   "cell_type": "code",
   "execution_count": 10,
   "metadata": {},
   "outputs": [
    {
     "name": "stdout",
     "output_type": "stream",
     "text": [
      "Distances after relaxation: [('a', 0), ('b', 2), ('c', 2), ('d', 4), ('e', 6), ('f', 10), ('g', 12), ('h', 12), ('i', 14), ('j', 15), ('k', 17), ('l', 19), ('m', 20), ('n', 23), ('o', 25), ('p', 28), ('q', 28), ('r', 31)]\n"
     ]
    }
   ],
   "source": [
    "print('Distances after relaxation: {}'.format(list(zip(V, distances))))"
   ]
  },
  {
   "cell_type": "code",
   "execution_count": null,
   "metadata": {},
   "outputs": [],
   "source": []
  }
 ],
 "metadata": {
  "interpreter": {
   "hash": "31f2aee4e71d21fbe5cf8b01ff0e069b9275f58929596ceb00d14d90e3e16cd6"
  },
  "kernelspec": {
   "display_name": "Python 3.8.10 64-bit",
   "language": "python",
   "name": "python3"
  },
  "language_info": {
   "codemirror_mode": {
    "name": "ipython",
    "version": 3
   },
   "file_extension": ".py",
   "mimetype": "text/x-python",
   "name": "python",
   "nbconvert_exporter": "python",
   "pygments_lexer": "ipython3",
   "version": "3.8.10"
  },
  "orig_nbformat": 4
 },
 "nbformat": 4,
 "nbformat_minor": 2
}
