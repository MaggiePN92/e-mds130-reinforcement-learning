{
 "cells": [
  {
   "cell_type": "code",
   "execution_count": 1,
   "metadata": {},
   "outputs": [],
   "source": [
    "import numpy as np\n",
    "from matplotlib import pyplot as plt\n",
    "import torch"
   ]
  },
  {
   "cell_type": "markdown",
   "metadata": {},
   "source": [
    "### Creating the contextual bandit environment"
   ]
  },
  {
   "cell_type": "code",
   "execution_count": 2,
   "metadata": {},
   "outputs": [],
   "source": [
    "# Creating simulator for the environment\n",
    "class ContextBandit:\n",
    "    def __init__(self, bandits=10):\n",
    "        self.bandits = bandits\n",
    "        self.arms = self.bandits\n",
    "        self.init_distribution()\n",
    "        self.updateState()\n",
    "\n",
    "    def init_distribution(self):\n",
    "        # Setting up different reward distribution over the actions for each state\n",
    "        self.banditMatrix = np.random.rand(self.bandits, self.arms)\n",
    "\n",
    "\n",
    "    def reward(self, prob, n=10):\n",
    "        reward = 0\n",
    "        # Iterates to generate a better sample\n",
    "        for i in range(n):\n",
    "            if np.random.random() < prob:\n",
    "                reward += 1\n",
    "\n",
    "        return reward\n",
    "\n",
    "    # Gets the current state as the website the agent is at\n",
    "    def getState(self):\n",
    "        return self.state\n",
    "\n",
    "    # Updates the current state\n",
    "    def updateState(self):\n",
    "        self.state = np.random.randint(self.bandits)\n",
    "\n",
    "    def getReward(self, arm):\n",
    "        return self.reward(self.banditMatrix[self.getState()][arm])\n",
    "    \n",
    "    # Simulates placing a recommendation and returns its associated reward\n",
    "    def chooseArm(self, arm):\n",
    "        reward = self.getReward(arm)\n",
    "        self.updateState()\n",
    "        return reward\n",
    "    \n",
    "\n"
   ]
  },
  {
   "cell_type": "code",
   "execution_count": 3,
   "metadata": {},
   "outputs": [
    {
     "name": "stdout",
     "output_type": "stream",
     "text": [
      "6\n",
      "2\n"
     ]
    }
   ],
   "source": [
    "# Set the numpy random seed\n",
    "np.random.seed(42)\n",
    "env = ContextBandit(bandits=10)\n",
    "state = env.getState()\n",
    "reward = env.chooseArm(1)\n",
    "print(state)\n",
    "print(reward)"
   ]
  },
  {
   "cell_type": "code",
   "execution_count": 4,
   "metadata": {},
   "outputs": [],
   "source": [
    "# Set up the hyperparameters\n",
    "# Number of bandits. For convenience we will have the number of arms equal to the number of bandits\n",
    "bandits = 10\n",
    "\n",
    "# Specify the batch size. Since we are looking at one state per play, our batch size is one\n",
    "batchSize = 1\n",
    "\n",
    "# The num+er of input neurons will be equal to the number of bandits as we want to recommand on of the websites\n",
    "inNeuron = bandits\n",
    "# The number of hidden neurons are arbitrarily choosen\n",
    "hNeurons = 100\n",
    "# The number of output neurons will be equal to the number of arms as we will recommand one of them\n",
    "oNeurons = bandits \n",
    "\n",
    "# Specify the number of plays / epochs\n",
    "epochs = 5000\n",
    "\n",
    "# Specify the learning rate \n",
    "lr = 1e-2"
   ]
  },
  {
   "cell_type": "code",
   "execution_count": 5,
   "metadata": {},
   "outputs": [],
   "source": [
    "# Creating a simple sequential feed-forward NN\n",
    "model = torch.nn.Sequential(\n",
    "    torch.nn.Linear(inNeuron, hNeurons),\n",
    "    torch.nn.ReLU(), # Using RELU activation\n",
    "    torch.nn.Linear(hNeurons, oNeurons),\n",
    "    torch.nn.ReLU()\n",
    ")"
   ]
  },
  {
   "cell_type": "code",
   "execution_count": 6,
   "metadata": {},
   "outputs": [],
   "source": [
    "# Using Mean Square Error as our loss function\n",
    "lossFun = torch.nn.MSELoss()"
   ]
  },
  {
   "cell_type": "code",
   "execution_count": 7,
   "metadata": {},
   "outputs": [],
   "source": [
    "# Using ADAM optimizer\n",
    "optimizer = torch.optim.Adam(model.parameters(), lr=lr)"
   ]
  },
  {
   "cell_type": "code",
   "execution_count": 8,
   "metadata": {},
   "outputs": [],
   "source": [
    "# We will also create a helper function to encode a vector where all but 1 element is set to zero. The nonzero element is set to 1 and indicates a purticular state in the state space\n",
    "def oneHot(N, pos, val=1):\n",
    "    oneHotVector = np.zeros(N)\n",
    "    oneHotVector[pos] = val\n",
    "    return oneHotVector"
   ]
  },
  {
   "cell_type": "code",
   "execution_count": 9,
   "metadata": {},
   "outputs": [],
   "source": [
    "# We need another helper function to calculate the softmax . Since the banditMatrix has different reward probabilities for each action in a state, therefore the softmax will also generate different reward distributions over actions for each state\n",
    "def softmax(av, tau):\n",
    "    softm = np.exp(av /tau) / np.sum( np.exp(av / tau))\n",
    "    return softm"
   ]
  },
  {
   "cell_type": "code",
   "execution_count": 10,
   "metadata": {},
   "outputs": [],
   "source": [
    "# Creating the training loop function\n",
    "def train(env, epochs=epochs, learning_rate=1e-2):\n",
    "    # Creates a 1-order tensor (vector) of size bandits, where all values are zero except the one for current state. The current state will have a value of one\n",
    "    currentState = torch.Tensor(oneHot(bandits, env.getState()))\n",
    "    # Stores the rewards\n",
    "    rewards = []\n",
    "\n",
    "    for e in range(epochs):\n",
    "        yPred = model(currentState)\n",
    "        # Convert reward preditions to probability distribution with softmax\n",
    "        avSoftmax = softmax(yPred.data.numpy(), tau=2.0)        \n",
    "        avSoftmax = avSoftmax / avSoftmax.sum() # Normalize the distribution to ensure that the sum is equal to one\n",
    "        actionChoice = np.random.choice(bandits, p=avSoftmax) # Next action is choosen based on the probability distribution\n",
    "        # Takes action, to receive reward\n",
    "        currentReward = env.chooseArm(actionChoice)\n",
    "        # Copy the pyTorch data to numpy array\n",
    "        oneHotReward = yPred.data.numpy().copy()\n",
    "        # Updates oneHotReward array to use as labeled training data\n",
    "        oneHotReward[actionChoice] = currentReward\n",
    "        reward = torch.Tensor(oneHotReward)\n",
    "        rewards.append(currentReward)\n",
    "        loss = lossFun(yPred, reward)\n",
    "        optimizer.zero_grad()\n",
    "        loss.backward()\n",
    "        optimizer.step()\n",
    "        # Updates t he current environment state\n",
    "        currentState = torch.Tensor(oneHot(bandits, env.getState()))\n",
    "    return np.array(rewards)\n",
    "\n"
   ]
  },
  {
   "cell_type": "code",
   "execution_count": 11,
   "metadata": {},
   "outputs": [],
   "source": [
    "rewards = train(env)"
   ]
  },
  {
   "cell_type": "code",
   "execution_count": 12,
   "metadata": {},
   "outputs": [],
   "source": [
    "# Create the running average\n",
    "runningRewards = [0]\n",
    "\n",
    "for i, r in enumerate(rewards):\n",
    "    meanReward = ( (i+1) * rewards[-1] + r) / (i+2)\n",
    "    runningRewards.append(meanReward)\n"
   ]
  },
  {
   "cell_type": "code",
   "execution_count": 13,
   "metadata": {},
   "outputs": [
    {
     "data": {
      "text/plain": [
       "<matplotlib.collections.PathCollection at 0x7f8add0801f0>"
      ]
     },
     "execution_count": 13,
     "metadata": {},
     "output_type": "execute_result"
    },
    {
     "data": {
      "image/png": "[encoded data removed]",
      "text/plain": [
       "<Figure size 576x432 with 1 Axes>"
      ]
     },
     "metadata": {
      "needs_background": "light"
     },
     "output_type": "display_data"
    }
   ],
   "source": [
    "# Let us plot the running average rewards over the plays\n",
    "fig, ax = plt.subplots(1, 1, figsize=(8, 6))\n",
    "ax.set_xlabel('Plays')\n",
    "ax.set_ylabel('Average Rewards')\n",
    "ax.scatter(np.arange(epochs + 1), runningRewards, s=2.5)"
   ]
  },
  {
   "cell_type": "code",
   "execution_count": null,
   "metadata": {},
   "outputs": [],
   "source": []
  }
 ],
 "metadata": {
  "interpreter": {
   "hash": "31f2aee4e71d21fbe5cf8b01ff0e069b9275f58929596ceb00d14d90e3e16cd6"
  },
  "kernelspec": {
   "display_name": "Python 3 (ipykernel)",
   "language": "python",
   "name": "python3"
  },
  "language_info": {
   "codemirror_mode": {
    "name": "ipython",
    "version": 3
   },
   "file_extension": ".py",
   "mimetype": "text/x-python",
   "name": "python",
   "nbconvert_exporter": "python",
   "pygments_lexer": "ipython3",
   "version": "3.8.12"
  }
 },
 "nbformat": 4,
 "nbformat_minor": 2
}
