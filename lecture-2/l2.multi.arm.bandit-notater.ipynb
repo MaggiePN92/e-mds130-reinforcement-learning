{
 "cells": [
  {
   "cell_type": "code",
   "execution_count": 1,
   "metadata": {},
   "outputs": [],
   "source": [
    "import numpy as np\n",
    "from matplotlib import pyplot as plt"
   ]
  },
  {
   "cell_type": "markdown",
   "metadata": {},
   "source": [
    "### Creating the 10 arm bandit environment"
   ]
  },
  {
   "cell_type": "code",
   "execution_count": 2,
   "metadata": {},
   "outputs": [],
   "source": [
    "# Set the numpy random seed \n",
    "np.random.seed(42)\n",
    "\n",
    "# Number of slot machines\n",
    "n = 10\n",
    "\n",
    "# Number of actions. In this case each action corresponds to the pulling the lever for each slot machine\n",
    "actions = n\n",
    "\n",
    "# Each slot machine has their hidden weights that determines their average payout.\n",
    "weights = np.random.rand(n)\n",
    "\n",
    "# We want to keep track of of the running average of rewards for each action\n",
    "# We store it as a list of tuples with the tuple's first index being the running average of rewards \n",
    "# and second index being the cumulative counts for the given action. \n",
    "# The indices of the list corresponds to each action\n",
    "records = np.zeros((actions, 2))\n",
    "\n",
    "# Specify the total number of plays \n",
    "plays = 500\n",
    "\n",
    "# We also want to store the running mean reward for each play\n",
    "rewards = [0]"
   ]
  },
  {
   "cell_type": "code",
   "execution_count": 3,
   "metadata": {},
   "outputs": [
    {
     "data": {
      "text/plain": [
       "array([0.37454012, 0.95071431, 0.73199394, 0.59865848, 0.15601864,\n",
       "       0.15599452, 0.05808361, 0.86617615, 0.60111501, 0.70807258])"
      ]
     },
     "execution_count": 3,
     "metadata": {},
     "output_type": "execute_result"
    }
   ],
   "source": [
    "weights"
   ]
  },
  {
   "cell_type": "code",
   "execution_count": 4,
   "metadata": {},
   "outputs": [
    {
     "data": {
      "text/plain": [
       "array([[0., 0.],\n",
       "       [0., 0.],\n",
       "       [0., 0.],\n",
       "       [0., 0.],\n",
       "       [0., 0.],\n",
       "       [0., 0.],\n",
       "       [0., 0.],\n",
       "       [0., 0.],\n",
       "       [0., 0.],\n",
       "       [0., 0.]])"
      ]
     },
     "execution_count": 4,
     "metadata": {},
     "output_type": "execute_result"
    }
   ],
   "source": [
    "records"
   ]
  },
  {
   "cell_type": "code",
   "execution_count": 5,
   "metadata": {},
   "outputs": [],
   "source": [
    "# Let us create a function to choose the best action\n",
    "def chooseAction():    \n",
    "    # Return the action with the highest reward  \n",
    "    return np.argmax(records[:, 0])"
   ]
  },
  {
   "cell_type": "code",
   "execution_count": 6,
   "metadata": {},
   "outputs": [],
   "source": [
    "# Create a function that returns the payout / reward for a given action weight\n",
    "def getReward(w, n=10):\n",
    "    reward = 0\n",
    "    # Rewards for the slot machines are choosen based on their unique probability dist., \n",
    "    # centered on their expected average payout. \n",
    "    # We determine the reward from this dist. by executing it multiple time\n",
    "    for _ in range(n):\n",
    "        if np.random.random() < w:\n",
    "            reward += 1\n",
    "    return reward"
   ]
  },
  {
   "cell_type": "code",
   "execution_count": 7,
   "metadata": {},
   "outputs": [],
   "source": [
    "# Function to update the reward records\n",
    "def updateRecords(action ,r):\n",
    "    # access the global variable\n",
    "    global records\n",
    "    # Calculate the new average by multiplying the old average by the count in order to get the old sum.\n",
    "    # Then add the new reward to the old sum. Divide by the old count + 1\n",
    "    records[action, 0] = (records[action, 0] * records[action, 1] + r) / (records[action, 1] + 1)\n",
    "    # Update the old count as well\n",
    "    records[action, 1] = records[action, 1] + 1"
   ]
  },
  {
   "cell_type": "code",
   "execution_count": 8,
   "metadata": {},
   "outputs": [
    {
     "name": "stdout",
     "output_type": "stream",
     "text": [
      "The average weights for the slot machines that determine their payouts are:\n",
      "[0.37454012 0.95071431 0.73199394 0.59865848 0.15601864 0.15599452\n",
      " 0.05808361 0.86617615 0.60111501 0.70807258]\n"
     ]
    }
   ],
   "source": [
    "print('The average weights for the slot machines that determine their payouts are:\\n{}'.format(weights))"
   ]
  },
  {
   "cell_type": "code",
   "execution_count": 9,
   "metadata": {},
   "outputs": [
    {
     "name": "stdout",
     "output_type": "stream",
     "text": [
      "\n",
      "The weight for slot machine at index 2 is 0.7319939418114051.\n",
      "The average payout on this machine should be approximately 7.0.\n",
      "Let test it my calling the getReward function 500 times with the provided action being 2 \n",
      "corresponding the slot machine 2. The average reward is: 7.354\n",
      "\n"
     ]
    }
   ],
   "source": [
    "print(\"\"\"\n",
    "The weight for slot machine at index 2 is {}.\n",
    "The average payout on this machine should be approximately {}.\n",
    "Let test it my calling the getReward function {} times with the provided action being 2 \n",
    "corresponding the slot machine 2. The average reward is: {}\n",
    "\"\"\".format(weights[2], np.round(weights[2] * 10), plays, np.mean([getReward(weights[2]) for _ in range(plays)])))"
   ]
  },
  {
   "cell_type": "markdown",
   "metadata": {},
   "source": [
    "### 10-arm bandit problem"
   ]
  },
  {
   "cell_type": "code",
   "execution_count": 10,
   "metadata": {},
   "outputs": [],
   "source": [
    "# Playing the 10-arm bandit problem\n",
    "for i in range(plays):\n",
    "    actionChoice = chooseAction()    # velg handling med høyest forventet verdi\n",
    "    reward = getReward(weights[actionChoice])  # hent reward (basert på sanns.fordeling til w)\n",
    "    \n",
    "    # oppdaterer records som holder styr på hvor mange ganger en handling er gjort\n",
    "    # og hvor stor den gjennomsnittlige gevinsten er\n",
    "    updateRecords(actionChoice, reward)  \n",
    "    \n",
    "    # rewards stores the average, convert it to sum add the new reward and recalculate the average\n",
    "    meanReward = ( (i+1) * rewards[-1] + reward) / (i+2)\n",
    "    rewards.append(meanReward)"
   ]
  },
  {
   "cell_type": "code",
   "execution_count": 11,
   "metadata": {},
   "outputs": [
    {
     "data": {
      "text/plain": [
       "<matplotlib.collections.PathCollection at 0x7fa14eecabe0>"
      ]
     },
     "execution_count": 11,
     "metadata": {},
     "output_type": "execute_result"
    },
    {
     "data": {
      "image/png": "[encoded data removed]",
      "text/plain": [
       "<Figure size 576x432 with 1 Axes>"
      ]
     },
     "metadata": {
      "needs_background": "light"
     },
     "output_type": "display_data"
    }
   ],
   "source": [
    "# Let us plot the running average rewards over the plays\n",
    "fig, ax = plt.subplots(1, 1, figsize=(8, 6))\n",
    "ax.set_xlabel('Plays')\n",
    "ax.set_ylabel('Average Rewards')\n",
    "ax.scatter(np.arange(plays+1), rewards, s=2.5)"
   ]
  },
  {
   "cell_type": "markdown",
   "metadata": {},
   "source": [
    "### 10-arm bandit problem - epsilon greedy strategy"
   ]
  },
  {
   "cell_type": "code",
   "execution_count": 47,
   "metadata": {},
   "outputs": [],
   "source": [
    "# For epsilon greedy strategy we need to specify the epsilon value\n",
    "e = 0.2\n",
    "# Reset the records and rewards variables\n",
    "records = np.zeros((actions, 2))\n",
    "# We also want to store the cumulative mean reward for each play\n",
    "rewards = [0]"
   ]
  },
  {
   "cell_type": "code",
   "execution_count": 48,
   "metadata": {},
   "outputs": [],
   "source": [
    "# Playing the 10-arm bandit problem\n",
    "for i in range(plays):\n",
    "    # Implemending the epsilon stategy\n",
    "    if np.random.random() > e:\n",
    "        actionChoice = chooseAction()    \n",
    "    else:\n",
    "        actionChoice = np.random.randint(actions)\n",
    "    reward = getReward(weights[actionChoice])  \n",
    "    updateRecords(actionChoice, reward)  \n",
    "    # rewards stores the average, convert it to sum add the new reward and recalculate the average\n",
    "    meanReward = ( (i+1) * rewards[-1] + reward) / (i+2)\n",
    "    rewards.append(meanReward)\n",
    "    \n",
    "    "
   ]
  },
  {
   "cell_type": "markdown",
   "metadata": {},
   "source": [
    "Hovedforskjellen fra den over er at denne har et element av tilfeldighet i seg. Dette fører til at algoritmen prøver ut nye handlinger (exploration). Algoritmen ovenfor har kun exploitation, og vil derfor raskt sette seg fast i et suboptimalt handlingsmønster. "
   ]
  },
  {
   "cell_type": "code",
   "execution_count": 49,
   "metadata": {},
   "outputs": [
    {
     "data": {
      "text/plain": [
       "<matplotlib.collections.PathCollection at 0x7f3277c76e50>"
      ]
     },
     "execution_count": 49,
     "metadata": {},
     "output_type": "execute_result"
    },
    {
     "data": {
      "image/png": "[encoded data removed]",
      "text/plain": [
       "<Figure size 576x432 with 1 Axes>"
      ]
     },
     "metadata": {
      "needs_background": "light"
     },
     "output_type": "display_data"
    }
   ],
   "source": [
    "# Let us plot the running average rewards over the plays\n",
    "fig, ax = plt.subplots(1, 1, figsize=(8, 6))\n",
    "ax.set_xlabel('Plays')\n",
    "ax.set_ylabel('Average Rewards')\n",
    "ax.scatter(np.arange(plays+1), rewards, s=2.5)"
   ]
  },
  {
   "cell_type": "markdown",
   "metadata": {},
   "source": [
    "### 10-arm bandit problem - softmax strategy"
   ]
  },
  {
   "cell_type": "code",
   "execution_count": 23,
   "metadata": {},
   "outputs": [],
   "source": [
    "# For softmax strategy we need to specify the temperature value\n",
    "t = 1.2\n",
    "# Reset the records and rewards variables\n",
    "records = np.zeros((actions, 2))\n",
    "# We also want to store the cumulative mean reward for each play\n",
    "rewards = [0]"
   ]
  },
  {
   "cell_type": "code",
   "execution_count": 24,
   "metadata": {},
   "outputs": [],
   "source": [
    "# In order to use the softmax strategy we need to implement the softmax function that generates the probability distributions for the actions\n",
    "def softmax(tau=t):\n",
    "    # We use records[:, 0] as the 0 index on axis=1 holds the rewards for each action.\n",
    "    softm = np.exp(records[:, 0] /tau) / np.sum( np.exp(records[:, 0] / tau))\n",
    "    return softm"
   ]
  },
  {
   "cell_type": "code",
   "execution_count": 26,
   "metadata": {},
   "outputs": [],
   "source": [
    "# Playing the 10-arm bandit problem\n",
    "# for i in range(plays):\n",
    "for i in range(plays):\n",
    "    # We dont need to chooseAction method, as actions are choosen based on their probability distribution. \n",
    "    # During each play, the probability distribution changes based on the histroy of past actions and their respective rewards\n",
    "    p = softmax()    \n",
    "    # We can choose the action based on the generated probability distibution\n",
    "    actionChoice = np.random.choice(actions, p=p)\n",
    "    reward = getReward(weights[actionChoice])  \n",
    "    updateRecords(actionChoice, reward)  \n",
    "    # rewards stores the average, convert it to sum add the new reward and recalculate the average\n",
    "    meanReward = ( (i+1) * rewards[-1] + reward) / (i+2)\n",
    "    rewards.append(meanReward)\n",
    "    \n",
    "    "
   ]
  },
  {
   "cell_type": "markdown",
   "metadata": {},
   "source": [
    "Velger handlinger basert på en smartere måte enn ovenfor. Gjennomsnittlig reward mates inn i en softmax funksjon. Handlingene som i gjennomsnitt har høyest reward får dermed høyere sannsynlighet for å bli valgt. Men samtidig bevarer vi et element av exploration ved at f.eks. exp(0) != 0."
   ]
  },
  {
   "cell_type": "code",
   "execution_count": 27,
   "metadata": {},
   "outputs": [
    {
     "data": {
      "text/plain": [
       "<matplotlib.collections.PathCollection at 0x7fa11bc23940>"
      ]
     },
     "execution_count": 27,
     "metadata": {},
     "output_type": "execute_result"
    },
    {
     "data": {
      "image/png": "[encoded data removed]",
      "text/plain": [
       "<Figure size 576x432 with 1 Axes>"
      ]
     },
     "metadata": {
      "needs_background": "light"
     },
     "output_type": "display_data"
    }
   ],
   "source": [
    "# Let us plot the running average rewards over the plays\n",
    "fig, ax = plt.subplots(1, 1, figsize=(8, 6))\n",
    "ax.set_xlabel('Plays')\n",
    "ax.set_ylabel('Average Rewards')\n",
    "ax.scatter(np.arange(plays+1), rewards, s=2.5)"
   ]
  },
  {
   "cell_type": "code",
   "execution_count": null,
   "metadata": {},
   "outputs": [],
   "source": []
  }
 ],
 "metadata": {
  "interpreter": {
   "hash": "31f2aee4e71d21fbe5cf8b01ff0e069b9275f58929596ceb00d14d90e3e16cd6"
  },
  "kernelspec": {
   "display_name": "Python 3 (ipykernel)",
   "language": "python",
   "name": "python3"
  },
  "language_info": {
   "codemirror_mode": {
    "name": "ipython",
    "version": 3
   },
   "file_extension": ".py",
   "mimetype": "text/x-python",
   "name": "python",
   "nbconvert_exporter": "python",
   "pygments_lexer": "ipython3",
   "version": "3.8.6"
  }
 },
 "nbformat": 4,
 "nbformat_minor": 2
}
